{
 "cells": [
  {
   "cell_type": "markdown",
   "metadata": {},
   "source": [
    "# Hyperparameter Tuning\n",
    "\n",
    "In the previous notebook, we saw the impact of applying a `Quantile Transformer` to the dataset. What is more, the `Random Forest Regressor` was consolidated as the best performing algorithm.\n",
    "\n",
    "The objective of this notebook it will be to apply a `GridSearchCV & RandomSearchCV` to find the best `hyperparameter tuning` configuration. To this aim, [this article from Jason Brownlee](https://machinelearningmastery.com/hyperparameter-optimization-with-random-search-and-grid-search/) was really helpful to understand the basics of both methods and select the best configuration possible.\n",
    "\n",
    "`Hyperparameters` help on specifying the configuration of models to guide machine learning algorithms. The difference with `parameters` is that `hyperparameters` are not learned automatically, so they need to be set manually to help on the guidance of the learning process."
   ]
  },
  {
   "cell_type": "code",
   "execution_count": 1,
   "metadata": {},
   "outputs": [],
   "source": [
    "import pandas as pd\n",
    "import numpy as np\n",
    "from time import time\n",
    "from sklearn.ensemble import RandomForestRegressor\n",
    "from sklearn.model_selection import train_test_split, RepeatedKFold\n",
    "from sklearn.model_selection import GridSearchCV, RandomizedSearchCV"
   ]
  },
  {
   "cell_type": "markdown",
   "metadata": {},
   "source": [
    "## Loading transformed dataset"
   ]
  },
  {
   "cell_type": "code",
   "execution_count": 2,
   "metadata": {},
   "outputs": [
    {
     "data": {
      "text/html": [
       "<div>\n",
       "<style scoped>\n",
       "    .dataframe tbody tr th:only-of-type {\n",
       "        vertical-align: middle;\n",
       "    }\n",
       "\n",
       "    .dataframe tbody tr th {\n",
       "        vertical-align: top;\n",
       "    }\n",
       "\n",
       "    .dataframe thead th {\n",
       "        text-align: right;\n",
       "    }\n",
       "</style>\n",
       "<table border=\"1\" class=\"dataframe\">\n",
       "  <thead>\n",
       "    <tr style=\"text-align: right;\">\n",
       "      <th></th>\n",
       "      <th>co2_emiss</th>\n",
       "      <th>height</th>\n",
       "      <th>length</th>\n",
       "      <th>max_speed</th>\n",
       "      <th>mixed_cons</th>\n",
       "      <th>weight</th>\n",
       "      <th>tank_vol</th>\n",
       "      <th>acc</th>\n",
       "      <th>price</th>\n",
       "      <th>gearbox_Automatic</th>\n",
       "      <th>...</th>\n",
       "      <th>doors_2</th>\n",
       "      <th>doors_3</th>\n",
       "      <th>doors_4</th>\n",
       "      <th>doors_5</th>\n",
       "      <th>brand_encoded</th>\n",
       "      <th>model_encoded</th>\n",
       "      <th>city_encoded</th>\n",
       "      <th>color_encoded</th>\n",
       "      <th>type_encoded</th>\n",
       "      <th>chassis_encoded</th>\n",
       "    </tr>\n",
       "  </thead>\n",
       "  <tbody>\n",
       "    <tr>\n",
       "      <th>0</th>\n",
       "      <td>-1.120443</td>\n",
       "      <td>0.285121</td>\n",
       "      <td>-2.877530</td>\n",
       "      <td>-2.143610</td>\n",
       "      <td>-0.679227</td>\n",
       "      <td>-2.897385</td>\n",
       "      <td>-2.456544</td>\n",
       "      <td>1.199172</td>\n",
       "      <td>-1.286133</td>\n",
       "      <td>5.199338</td>\n",
       "      <td>...</td>\n",
       "      <td>5.199338</td>\n",
       "      <td>-5.199338</td>\n",
       "      <td>-5.199338</td>\n",
       "      <td>-5.199338</td>\n",
       "      <td>-1.579469</td>\n",
       "      <td>-1.083566</td>\n",
       "      <td>-1.505232</td>\n",
       "      <td>-0.902609</td>\n",
       "      <td>5.199338</td>\n",
       "      <td>0.608153</td>\n",
       "    </tr>\n",
       "    <tr>\n",
       "      <th>1</th>\n",
       "      <td>1.303557</td>\n",
       "      <td>-1.624785</td>\n",
       "      <td>-0.685567</td>\n",
       "      <td>1.345832</td>\n",
       "      <td>1.358362</td>\n",
       "      <td>-0.272066</td>\n",
       "      <td>-0.085500</td>\n",
       "      <td>-1.377568</td>\n",
       "      <td>-0.457524</td>\n",
       "      <td>-5.199338</td>\n",
       "      <td>...</td>\n",
       "      <td>-5.199338</td>\n",
       "      <td>5.199338</td>\n",
       "      <td>-5.199338</td>\n",
       "      <td>-5.199338</td>\n",
       "      <td>0.329890</td>\n",
       "      <td>-0.367258</td>\n",
       "      <td>0.314018</td>\n",
       "      <td>-0.902609</td>\n",
       "      <td>5.199338</td>\n",
       "      <td>1.521013</td>\n",
       "    </tr>\n",
       "    <tr>\n",
       "      <th>2</th>\n",
       "      <td>-0.572277</td>\n",
       "      <td>-1.297705</td>\n",
       "      <td>0.171631</td>\n",
       "      <td>0.937119</td>\n",
       "      <td>-0.833062</td>\n",
       "      <td>0.438088</td>\n",
       "      <td>-1.220053</td>\n",
       "      <td>-0.794587</td>\n",
       "      <td>1.419275</td>\n",
       "      <td>5.199338</td>\n",
       "      <td>...</td>\n",
       "      <td>-5.199338</td>\n",
       "      <td>-5.199338</td>\n",
       "      <td>5.199338</td>\n",
       "      <td>-5.199338</td>\n",
       "      <td>0.698331</td>\n",
       "      <td>0.833062</td>\n",
       "      <td>0.596109</td>\n",
       "      <td>5.199338</td>\n",
       "      <td>5.199338</td>\n",
       "      <td>1.521013</td>\n",
       "    </tr>\n",
       "    <tr>\n",
       "      <th>3</th>\n",
       "      <td>0.635580</td>\n",
       "      <td>0.540027</td>\n",
       "      <td>0.519795</td>\n",
       "      <td>0.651025</td>\n",
       "      <td>0.361889</td>\n",
       "      <td>1.079060</td>\n",
       "      <td>0.933230</td>\n",
       "      <td>-1.018128</td>\n",
       "      <td>1.035926</td>\n",
       "      <td>5.199338</td>\n",
       "      <td>...</td>\n",
       "      <td>-5.199338</td>\n",
       "      <td>-5.199338</td>\n",
       "      <td>-5.199338</td>\n",
       "      <td>5.199338</td>\n",
       "      <td>0.698331</td>\n",
       "      <td>1.663600</td>\n",
       "      <td>-1.056848</td>\n",
       "      <td>-0.902609</td>\n",
       "      <td>5.199338</td>\n",
       "      <td>1.521013</td>\n",
       "    </tr>\n",
       "    <tr>\n",
       "      <th>4</th>\n",
       "      <td>3.744070</td>\n",
       "      <td>-2.967122</td>\n",
       "      <td>0.012559</td>\n",
       "      <td>-0.174181</td>\n",
       "      <td>3.436439</td>\n",
       "      <td>0.439471</td>\n",
       "      <td>1.120443</td>\n",
       "      <td>-2.877530</td>\n",
       "      <td>1.035145</td>\n",
       "      <td>5.199338</td>\n",
       "      <td>...</td>\n",
       "      <td>5.199338</td>\n",
       "      <td>-5.199338</td>\n",
       "      <td>-5.199338</td>\n",
       "      <td>-5.199338</td>\n",
       "      <td>-1.183849</td>\n",
       "      <td>0.277283</td>\n",
       "      <td>-0.287738</td>\n",
       "      <td>-0.367258</td>\n",
       "      <td>5.199338</td>\n",
       "      <td>1.521013</td>\n",
       "    </tr>\n",
       "  </tbody>\n",
       "</table>\n",
       "<p>5 rows × 30 columns</p>\n",
       "</div>"
      ],
      "text/plain": [
       "   co2_emiss    height    length  max_speed  mixed_cons    weight  tank_vol  \\\n",
       "0  -1.120443  0.285121 -2.877530  -2.143610   -0.679227 -2.897385 -2.456544   \n",
       "1   1.303557 -1.624785 -0.685567   1.345832    1.358362 -0.272066 -0.085500   \n",
       "2  -0.572277 -1.297705  0.171631   0.937119   -0.833062  0.438088 -1.220053   \n",
       "3   0.635580  0.540027  0.519795   0.651025    0.361889  1.079060  0.933230   \n",
       "4   3.744070 -2.967122  0.012559  -0.174181    3.436439  0.439471  1.120443   \n",
       "\n",
       "        acc     price  gearbox_Automatic  ...   doors_2   doors_3   doors_4  \\\n",
       "0  1.199172 -1.286133           5.199338  ...  5.199338 -5.199338 -5.199338   \n",
       "1 -1.377568 -0.457524          -5.199338  ... -5.199338  5.199338 -5.199338   \n",
       "2 -0.794587  1.419275           5.199338  ... -5.199338 -5.199338  5.199338   \n",
       "3 -1.018128  1.035926           5.199338  ... -5.199338 -5.199338 -5.199338   \n",
       "4 -2.877530  1.035145           5.199338  ...  5.199338 -5.199338 -5.199338   \n",
       "\n",
       "    doors_5  brand_encoded  model_encoded  city_encoded  color_encoded  \\\n",
       "0 -5.199338      -1.579469      -1.083566     -1.505232      -0.902609   \n",
       "1 -5.199338       0.329890      -0.367258      0.314018      -0.902609   \n",
       "2 -5.199338       0.698331       0.833062      0.596109       5.199338   \n",
       "3  5.199338       0.698331       1.663600     -1.056848      -0.902609   \n",
       "4 -5.199338      -1.183849       0.277283     -0.287738      -0.367258   \n",
       "\n",
       "   type_encoded  chassis_encoded  \n",
       "0      5.199338         0.608153  \n",
       "1      5.199338         1.521013  \n",
       "2      5.199338         1.521013  \n",
       "3      5.199338         1.521013  \n",
       "4      5.199338         1.521013  \n",
       "\n",
       "[5 rows x 30 columns]"
      ]
     },
     "execution_count": 2,
     "metadata": {},
     "output_type": "execute_result"
    }
   ],
   "source": [
    "root = r'../data/regression/cars_reg_trf.csv'\n",
    "\n",
    "df = pd.read_csv(root)\n",
    "\n",
    "df.head()"
   ]
  },
  {
   "cell_type": "code",
   "execution_count": 3,
   "metadata": {},
   "outputs": [
    {
     "name": "stdout",
     "output_type": "stream",
     "text": [
      "(55366, 29)\n",
      "(55366,)\n",
      "Correct shape to proceed with the fit!\n"
     ]
    }
   ],
   "source": [
    "# splitting features (X) & target (y)\n",
    "X = df.drop('price', axis=1)\n",
    "y = df['price']\n",
    "\n",
    "print(X.shape)\n",
    "print(y.shape)\n",
    "\n",
    "if X.shape[0] == y.shape[0]:\n",
    "    print(\"Correct shape to proceed with the fit!\")\n",
    "else:\n",
    "    print(\"Please, review the shape since it is not matching fot X & y\")"
   ]
  },
  {
   "cell_type": "markdown",
   "metadata": {},
   "source": [
    "## Optimizing Hyperparameters with Grid & Random Search\n",
    "\n",
    "I found [this Towards Data Science article](https://towardsdatascience.com/hyperparameter-tuning-the-random-forest-in-python-using-scikit-learn-28d2aa77dd74) really useful to build the search methods and find the best hyperparameters. First let's define the `parameters` of each search:\n",
    "* model\n",
    "* space\n",
    "* cv\n",
    "* scoring"
   ]
  },
  {
   "cell_type": "markdown",
   "metadata": {},
   "source": [
    "### Random Search method"
   ]
  },
  {
   "cell_type": "markdown",
   "metadata": {},
   "source": [
    "These are the `random Forest Regressor` hyperparameters:\n",
    "- `n_estimators` => number of trees in the foreset\n",
    "- `max_features` => max number of features considered for splitting a node\n",
    "- `max_depth` => max number of levels in each decision tree\n",
    "- `min_samples_split` => min number of data points placed in a node before the node is split\n",
    "- `min_samples_leaf` => min number of data points allowed in a leaf node\n",
    "- `bootstrap` => method for sampling data points (with or without replacement)\n",
    "\n",
    "Their impact to the model is better explained in [this hyperparameter tuning article](https://www.analyticsvidhya.com/blog/2020/03/beginners-guide-random-forest-hyperparameter-tuning/) dedicated to `RF`."
   ]
  },
  {
   "cell_type": "code",
   "execution_count": 4,
   "metadata": {},
   "outputs": [],
   "source": [
    "# define model\n",
    "rf = RandomForestRegressor()\n",
    "\n",
    "# define search space\n",
    "param_grid = dict()\n",
    "param_grid['n_estimators'] = [int(x) for x in np.linspace(start = 10, stop = 200, num = 5)]\n",
    "param_grid['max_features'] = ['auto', 'sqrt', 'log2']\n",
    "param_grid['max_depth'] = [int(x) for x in np.linspace(10, 50, num = 5)]\n",
    "param_grid['max_depth'].append(None)\n",
    "param_grid['min_samples_split'] = [2, 5, 10]\n",
    "param_grid['min_samples_leaf'] = [1, 2, 4]\n",
    "param_grid['bootstrap'] = [True, False]\n",
    "\n",
    "# define evaluation\n",
    "cv = RepeatedKFold(n_splits=10, n_repeats=3, random_state=33)\n",
    "\n",
    "# define scoring\n",
    "scoring='r2'\n",
    "\n",
    "# define search\n",
    "search_rdm = RandomizedSearchCV(estimator=rf, param_distributions=param_grid, n_iter=10, cv=cv, scoring=scoring, n_jobs=1, random_state=33)    # RandomSearch"
   ]
  },
  {
   "cell_type": "code",
   "execution_count": 5,
   "metadata": {},
   "outputs": [
    {
     "data": {
      "text/plain": [
       "{'n_estimators': [10, 57, 105, 152, 200],\n",
       " 'max_features': ['auto', 'sqrt', 'log2'],\n",
       " 'max_depth': [10, 20, 30, 40, 50, None],\n",
       " 'min_samples_split': [2, 5, 10],\n",
       " 'min_samples_leaf': [1, 2, 4],\n",
       " 'bootstrap': [True, False]}"
      ]
     },
     "execution_count": 5,
     "metadata": {},
     "output_type": "execute_result"
    }
   ],
   "source": [
    "param_grid"
   ]
  },
  {
   "cell_type": "code",
   "execution_count": 6,
   "metadata": {},
   "outputs": [],
   "source": [
    "# execute search\n",
    "start_time = time()\n",
    "\n",
    "result_rdm = search_rdm.fit(X, y)\n",
    "\n",
    "rdm_time = time() - start_time"
   ]
  },
  {
   "cell_type": "code",
   "execution_count": 7,
   "metadata": {},
   "outputs": [
    {
     "name": "stdout",
     "output_type": "stream",
     "text": [
      "Best Score: 0.8929381150194977\n",
      "Best Hyperparameters: {'n_estimators': 105, 'min_samples_split': 10, 'min_samples_leaf': 2, 'max_features': 'sqrt', 'max_depth': 50, 'bootstrap': False}\n",
      "Time consumed on the Seach: 2305.2893855571747\n"
     ]
    }
   ],
   "source": [
    "# summarize result\n",
    "print('Best Score: {}'.format(result_rdm.best_score_))\n",
    "print('Best Hyperparameters: {}'.format(result_rdm.best_params_))\n",
    "print('Time consumed on the Seach: {}'.format(rdm_time))"
   ]
  },
  {
   "cell_type": "markdown",
   "metadata": {},
   "source": [
    "### Grid Search method\n",
    "\n",
    "Random Search method is used to reduce the range of values for each hyperparameter. Therefore, we can specify now the best configurations found to be adjusted in a Grid Search."
   ]
  },
  {
   "cell_type": "code",
   "execution_count": 8,
   "metadata": {},
   "outputs": [],
   "source": [
    "# define model\n",
    "rf = RandomForestRegressor()\n",
    "\n",
    "# define search space\n",
    "param_grid = dict()\n",
    "param_grid['n_estimators'] = [90, 100, 110]\n",
    "param_grid['max_features'] = ['sqrt']\n",
    "param_grid['max_depth'] = [50, 60, 80]\n",
    "param_grid['min_samples_split'] = [10, 12, 15]\n",
    "param_grid['min_samples_leaf'] = [1, 2, 4]\n",
    "param_grid['bootstrap'] = [False]\n",
    "\n",
    "# define evaluation\n",
    "cv = RepeatedKFold(n_splits=10, n_repeats=3, random_state=33)\n",
    "\n",
    "# define scoring\n",
    "scoring='r2'\n",
    "\n",
    "# define search\n",
    "search_grd = GridSearchCV(estimator=rf, param_grid=param_grid, cv=cv, scoring=scoring, n_jobs=1)    # GridSearch"
   ]
  },
  {
   "cell_type": "code",
   "execution_count": 9,
   "metadata": {},
   "outputs": [
    {
     "data": {
      "text/plain": [
       "{'n_estimators': [90, 100, 110],\n",
       " 'max_features': ['sqrt'],\n",
       " 'max_depth': [50, 60, 80],\n",
       " 'min_samples_split': [10, 12, 15],\n",
       " 'min_samples_leaf': [1, 2, 4],\n",
       " 'bootstrap': [False]}"
      ]
     },
     "execution_count": 9,
     "metadata": {},
     "output_type": "execute_result"
    }
   ],
   "source": [
    "param_grid"
   ]
  },
  {
   "cell_type": "markdown",
   "metadata": {},
   "source": [
    "Once the search is defined, it is possible to conform the `fit` to the data and search for the best resulting `hyperparameters`."
   ]
  },
  {
   "cell_type": "code",
   "execution_count": 10,
   "metadata": {},
   "outputs": [],
   "source": [
    "# execute search\n",
    "start_time = time()\n",
    "\n",
    "result_grd = search_grd.fit(X, y)\n",
    "\n",
    "grd_time = time() - start_time"
   ]
  },
  {
   "cell_type": "code",
   "execution_count": 12,
   "metadata": {},
   "outputs": [
    {
     "name": "stdout",
     "output_type": "stream",
     "text": [
      "Best Score: 0.8938731587848249\n",
      "Best Hyperparameters: {'bootstrap': False, 'max_depth': 50, 'max_features': 'sqrt', 'min_samples_leaf': 1, 'min_samples_split': 10, 'n_estimators': 110}\n",
      "Time consumed on the Seach: 17251.929941654205\n"
     ]
    }
   ],
   "source": [
    "# summarize result\n",
    "print('Best Score: {}'.format(result_grd.best_score_))\n",
    "print('Best Hyperparameters: {}'.format(result_grd.best_params_))\n",
    "print('Time consumed on the Seach: {}'.format(grd_time))"
   ]
  }
 ],
 "metadata": {
  "kernelspec": {
   "display_name": "Python 3",
   "language": "python",
   "name": "python3"
  },
  "language_info": {
   "codemirror_mode": {
    "name": "ipython",
    "version": 3
   },
   "file_extension": ".py",
   "mimetype": "text/x-python",
   "name": "python",
   "nbconvert_exporter": "python",
   "pygments_lexer": "ipython3",
   "version": "3.7.1"
  }
 },
 "nbformat": 4,
 "nbformat_minor": 4
}
