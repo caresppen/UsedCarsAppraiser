{
 "cells": [
  {
   "cell_type": "markdown",
   "metadata": {},
   "source": [
    "# Hyperparameter Tuning\n",
    "\n",
    "In the previous notebook, we saw the impact of applying a `Quantile Transformer` to the dataset. What is more, the `Random Forest Regressor` was consolidated as the best performing algorithm.\n",
    "\n",
    "The objective of this notebook it will be to apply a `GridSearchCV & RandomSearchCV` to find the best `hyperparameter tuning` configuration. To this aim, [this article from Jason Brownlee](https://machinelearningmastery.com/hyperparameter-optimization-with-random-search-and-grid-search/) was really helpful to understand the basics of both methods and select the best configuration possible.\n",
    "\n",
    "`Hyperparameters` help on specifying the configuration of models to guide machine learning algorithms. The difference with `parameters` is that `hyperparameters` are not learned automatically, so they need to be set manually to help on the guidance of the learning process."
   ]
  },
  {
   "cell_type": "code",
   "execution_count": 1,
   "metadata": {},
   "outputs": [],
   "source": [
    "import pandas as pd\n",
    "import numpy as np\n",
    "from time import time\n",
    "from sklearn.ensemble import RandomForestRegressor\n",
    "from sklearn.model_selection import train_test_split, RepeatedKFold\n",
    "from sklearn.model_selection import GridSearchCV, RandomizedSearchCV"
   ]
  },
  {
   "cell_type": "markdown",
   "metadata": {},
   "source": [
    "## Loading transformed dataset"
   ]
  },
  {
   "cell_type": "code",
   "execution_count": 2,
   "metadata": {},
   "outputs": [
    {
     "data": {
      "text/html": [
       "<div>\n",
       "<style scoped>\n",
       "    .dataframe tbody tr th:only-of-type {\n",
       "        vertical-align: middle;\n",
       "    }\n",
       "\n",
       "    .dataframe tbody tr th {\n",
       "        vertical-align: top;\n",
       "    }\n",
       "\n",
       "    .dataframe thead th {\n",
       "        text-align: right;\n",
       "    }\n",
       "</style>\n",
       "<table border=\"1\" class=\"dataframe\">\n",
       "  <thead>\n",
       "    <tr style=\"text-align: right;\">\n",
       "      <th></th>\n",
       "      <th>year</th>\n",
       "      <th>kms</th>\n",
       "      <th>seats</th>\n",
       "      <th>power</th>\n",
       "      <th>co2_emiss</th>\n",
       "      <th>height</th>\n",
       "      <th>length</th>\n",
       "      <th>width</th>\n",
       "      <th>trunk_vol</th>\n",
       "      <th>max_speed</th>\n",
       "      <th>...</th>\n",
       "      <th>doors_2</th>\n",
       "      <th>doors_3</th>\n",
       "      <th>doors_4</th>\n",
       "      <th>doors_5</th>\n",
       "      <th>brand_encoded</th>\n",
       "      <th>model_encoded</th>\n",
       "      <th>city_encoded</th>\n",
       "      <th>color_encoded</th>\n",
       "      <th>type_encoded</th>\n",
       "      <th>chassis_encoded</th>\n",
       "    </tr>\n",
       "  </thead>\n",
       "  <tbody>\n",
       "    <tr>\n",
       "      <th>0</th>\n",
       "      <td>-0.644829</td>\n",
       "      <td>-0.283562</td>\n",
       "      <td>-2.013252</td>\n",
       "      <td>-1.683986</td>\n",
       "      <td>-1.120443</td>\n",
       "      <td>0.285121</td>\n",
       "      <td>-2.877530</td>\n",
       "      <td>-2.759382</td>\n",
       "      <td>-1.498581</td>\n",
       "      <td>-2.143610</td>\n",
       "      <td>...</td>\n",
       "      <td>5.199338</td>\n",
       "      <td>-5.199338</td>\n",
       "      <td>-5.199338</td>\n",
       "      <td>-5.199338</td>\n",
       "      <td>-1.579469</td>\n",
       "      <td>-1.083566</td>\n",
       "      <td>-1.505232</td>\n",
       "      <td>-0.902609</td>\n",
       "      <td>5.199338</td>\n",
       "      <td>0.608153</td>\n",
       "    </tr>\n",
       "    <tr>\n",
       "      <th>1</th>\n",
       "      <td>-1.079060</td>\n",
       "      <td>-5.199338</td>\n",
       "      <td>-1.168798</td>\n",
       "      <td>1.199172</td>\n",
       "      <td>1.303557</td>\n",
       "      <td>-1.624785</td>\n",
       "      <td>-0.685567</td>\n",
       "      <td>-0.070384</td>\n",
       "      <td>-1.022354</td>\n",
       "      <td>1.345832</td>\n",
       "      <td>...</td>\n",
       "      <td>-5.199338</td>\n",
       "      <td>5.199338</td>\n",
       "      <td>-5.199338</td>\n",
       "      <td>-5.199338</td>\n",
       "      <td>0.329890</td>\n",
       "      <td>-0.367258</td>\n",
       "      <td>0.314018</td>\n",
       "      <td>-0.902609</td>\n",
       "      <td>5.199338</td>\n",
       "      <td>1.837526</td>\n",
       "    </tr>\n",
       "    <tr>\n",
       "      <th>2</th>\n",
       "      <td>5.199338</td>\n",
       "      <td>-5.199338</td>\n",
       "      <td>0.130979</td>\n",
       "      <td>0.494090</td>\n",
       "      <td>-0.572277</td>\n",
       "      <td>-1.297705</td>\n",
       "      <td>0.171631</td>\n",
       "      <td>-0.298225</td>\n",
       "      <td>-0.169083</td>\n",
       "      <td>0.937119</td>\n",
       "      <td>...</td>\n",
       "      <td>-5.199338</td>\n",
       "      <td>-5.199338</td>\n",
       "      <td>5.199338</td>\n",
       "      <td>-5.199338</td>\n",
       "      <td>0.829514</td>\n",
       "      <td>0.818931</td>\n",
       "      <td>0.596109</td>\n",
       "      <td>5.199338</td>\n",
       "      <td>5.199338</td>\n",
       "      <td>1.837526</td>\n",
       "    </tr>\n",
       "    <tr>\n",
       "      <th>3</th>\n",
       "      <td>0.060316</td>\n",
       "      <td>0.266857</td>\n",
       "      <td>0.130979</td>\n",
       "      <td>1.065669</td>\n",
       "      <td>0.635580</td>\n",
       "      <td>0.540027</td>\n",
       "      <td>0.519795</td>\n",
       "      <td>0.997262</td>\n",
       "      <td>0.429809</td>\n",
       "      <td>0.651025</td>\n",
       "      <td>...</td>\n",
       "      <td>-5.199338</td>\n",
       "      <td>-5.199338</td>\n",
       "      <td>-5.199338</td>\n",
       "      <td>5.199338</td>\n",
       "      <td>0.829514</td>\n",
       "      <td>1.653661</td>\n",
       "      <td>-1.056848</td>\n",
       "      <td>-0.902609</td>\n",
       "      <td>5.199338</td>\n",
       "      <td>1.837526</td>\n",
       "    </tr>\n",
       "    <tr>\n",
       "      <th>4</th>\n",
       "      <td>-1.513075</td>\n",
       "      <td>0.383683</td>\n",
       "      <td>-2.013252</td>\n",
       "      <td>2.675154</td>\n",
       "      <td>3.742522</td>\n",
       "      <td>-2.967122</td>\n",
       "      <td>0.012559</td>\n",
       "      <td>1.257931</td>\n",
       "      <td>-0.757254</td>\n",
       "      <td>-0.174181</td>\n",
       "      <td>...</td>\n",
       "      <td>5.199338</td>\n",
       "      <td>-5.199338</td>\n",
       "      <td>-5.199338</td>\n",
       "      <td>-5.199338</td>\n",
       "      <td>-1.183849</td>\n",
       "      <td>0.277283</td>\n",
       "      <td>-0.287738</td>\n",
       "      <td>-0.319300</td>\n",
       "      <td>5.199338</td>\n",
       "      <td>1.837526</td>\n",
       "    </tr>\n",
       "  </tbody>\n",
       "</table>\n",
       "<p>5 rows × 36 columns</p>\n",
       "</div>"
      ],
      "text/plain": [
       "       year       kms     seats     power  co2_emiss    height    length  \\\n",
       "0 -0.644829 -0.283562 -2.013252 -1.683986  -1.120443  0.285121 -2.877530   \n",
       "1 -1.079060 -5.199338 -1.168798  1.199172   1.303557 -1.624785 -0.685567   \n",
       "2  5.199338 -5.199338  0.130979  0.494090  -0.572277 -1.297705  0.171631   \n",
       "3  0.060316  0.266857  0.130979  1.065669   0.635580  0.540027  0.519795   \n",
       "4 -1.513075  0.383683 -2.013252  2.675154   3.742522 -2.967122  0.012559   \n",
       "\n",
       "      width  trunk_vol  max_speed  ...   doors_2   doors_3   doors_4  \\\n",
       "0 -2.759382  -1.498581  -2.143610  ...  5.199338 -5.199338 -5.199338   \n",
       "1 -0.070384  -1.022354   1.345832  ... -5.199338  5.199338 -5.199338   \n",
       "2 -0.298225  -0.169083   0.937119  ... -5.199338 -5.199338  5.199338   \n",
       "3  0.997262   0.429809   0.651025  ... -5.199338 -5.199338 -5.199338   \n",
       "4  1.257931  -0.757254  -0.174181  ...  5.199338 -5.199338 -5.199338   \n",
       "\n",
       "    doors_5  brand_encoded  model_encoded  city_encoded  color_encoded  \\\n",
       "0 -5.199338      -1.579469      -1.083566     -1.505232      -0.902609   \n",
       "1 -5.199338       0.329890      -0.367258      0.314018      -0.902609   \n",
       "2 -5.199338       0.829514       0.818931      0.596109       5.199338   \n",
       "3  5.199338       0.829514       1.653661     -1.056848      -0.902609   \n",
       "4 -5.199338      -1.183849       0.277283     -0.287738      -0.319300   \n",
       "\n",
       "   type_encoded  chassis_encoded  \n",
       "0      5.199338         0.608153  \n",
       "1      5.199338         1.837526  \n",
       "2      5.199338         1.837526  \n",
       "3      5.199338         1.837526  \n",
       "4      5.199338         1.837526  \n",
       "\n",
       "[5 rows x 36 columns]"
      ]
     },
     "execution_count": 2,
     "metadata": {},
     "output_type": "execute_result"
    }
   ],
   "source": [
    "root = r'../data/regression/cars_reg_trf.csv'\n",
    "\n",
    "df = pd.read_csv(root)\n",
    "\n",
    "df.head()"
   ]
  },
  {
   "cell_type": "code",
   "execution_count": 3,
   "metadata": {},
   "outputs": [
    {
     "name": "stdout",
     "output_type": "stream",
     "text": [
      "(55326, 35)\n",
      "(55326,)\n",
      "Correct shape to proceed with the fit!\n"
     ]
    }
   ],
   "source": [
    "# splitting features (X) & target (y)\n",
    "X = df.drop('price', axis=1)\n",
    "y = df['price']\n",
    "\n",
    "print(X.shape)\n",
    "print(y.shape)\n",
    "\n",
    "if X.shape[0] == y.shape[0]:\n",
    "    print(\"Correct shape to proceed with the fit!\")\n",
    "else:\n",
    "    print(\"Please, review the shape since it is not matching fot X & y\")"
   ]
  },
  {
   "cell_type": "markdown",
   "metadata": {},
   "source": [
    "## Optimizing Hyperparameters with Grid & Random Search\n",
    "\n",
    "I found [this Towards Data Science article](https://towardsdatascience.com/hyperparameter-tuning-the-random-forest-in-python-using-scikit-learn-28d2aa77dd74) really useful to build the search methods and find the best hyperparameters. First let's define the `parameters` of each search:\n",
    "* model\n",
    "* space\n",
    "* cv\n",
    "* scoring"
   ]
  },
  {
   "cell_type": "markdown",
   "metadata": {},
   "source": [
    "### Random Search method"
   ]
  },
  {
   "cell_type": "markdown",
   "metadata": {},
   "source": [
    "These are the `random Forest Regressor` hyperparameters:\n",
    "- `n_estimators` => number of trees in the foreset\n",
    "- `max_features` => max number of features considered for splitting a node\n",
    "- `max_depth` => max number of levels in each decision tree\n",
    "- `min_samples_split` => min number of data points placed in a node before the node is split\n",
    "- `min_samples_leaf` => min number of data points allowed in a leaf node\n",
    "- `bootstrap` => method for sampling data points (with or without replacement)\n",
    "\n",
    "Their impact to the model is better explained in [this hyperparameter tuning article](https://www.analyticsvidhya.com/blog/2020/03/beginners-guide-random-forest-hyperparameter-tuning/) dedicated to `RF`."
   ]
  },
  {
   "cell_type": "code",
   "execution_count": 9,
   "metadata": {},
   "outputs": [],
   "source": [
    "# define model\n",
    "rf = RandomForestRegressor()\n",
    "\n",
    "# define search space\n",
    "param_grid = dict()\n",
    "param_grid['n_estimators'] = [int(x) for x in np.linspace(start = 10, stop = 200, num = 5)]\n",
    "param_grid['max_features'] = ['auto', 'sqrt']\n",
    "param_grid['max_depth'] = [int(x) for x in np.linspace(10, 50, num = 5)]\n",
    "param_grid['max_depth'].append(None)\n",
    "param_grid['min_samples_split'] = [2, 5, 10]\n",
    "param_grid['min_samples_leaf'] = [1, 2, 4]\n",
    "param_grid['bootstrap'] = [True, False]\n",
    "\n",
    "# define evaluation\n",
    "cv = RepeatedKFold(n_splits=10, n_repeats=3, random_state=33)\n",
    "\n",
    "# define scoring\n",
    "scoring='r2'\n",
    "\n",
    "# define RandomSearchCV\n",
    "search_rdm = RandomizedSearchCV(estimator=rf,\n",
    "                                param_distributions=param_grid,\n",
    "                                n_iter=100,\n",
    "                                cv=cv,\n",
    "                                scoring=scoring,\n",
    "                                return_train_score=True,\n",
    "                                n_jobs=6,\n",
    "                                random_state=33)"
   ]
  },
  {
   "cell_type": "code",
   "execution_count": 10,
   "metadata": {},
   "outputs": [
    {
     "data": {
      "text/plain": [
       "{'n_estimators': [10, 57, 105, 152, 200],\n",
       " 'max_features': ['auto', 'sqrt'],\n",
       " 'max_depth': [10, 20, 30, 40, 50, None],\n",
       " 'min_samples_split': [2, 5, 10],\n",
       " 'min_samples_leaf': [1, 2, 4],\n",
       " 'bootstrap': [True, False]}"
      ]
     },
     "execution_count": 10,
     "metadata": {},
     "output_type": "execute_result"
    }
   ],
   "source": [
    "param_grid"
   ]
  },
  {
   "cell_type": "code",
   "execution_count": 11,
   "metadata": {},
   "outputs": [
    {
     "name": "stderr",
     "output_type": "stream",
     "text": [
      "C:\\Users\\caesp\\AppData\\Roaming\\Python\\Python37\\site-packages\\sklearn\\externals\\joblib\\numpy_pickle.py:104: DeprecationWarning: tostring() is deprecated. Use tobytes() instead.\n",
      "  pickler.file_handle.write(chunk.tostring('C'))\n"
     ]
    }
   ],
   "source": [
    "# execute search\n",
    "start_time = time()\n",
    "\n",
    "result_rdm = search_rdm.fit(X, y)\n",
    "\n",
    "rdm_time = time() - start_time"
   ]
  },
  {
   "cell_type": "code",
   "execution_count": 12,
   "metadata": {},
   "outputs": [
    {
     "name": "stdout",
     "output_type": "stream",
     "text": [
      "Best Score: 0.9422457068161187\n",
      "Best Hyperparameters: {'n_estimators': 200, 'min_samples_split': 2, 'min_samples_leaf': 2, 'max_features': 'sqrt', 'max_depth': 50, 'bootstrap': False}\n",
      "Time consumed on the Seach: 17444.151077270508\n"
     ]
    }
   ],
   "source": [
    "# summarize result\n",
    "print('Best Score: {}'.format(result_rdm.best_score_))\n",
    "print('Best Hyperparameters: {}'.format(result_rdm.best_params_))\n",
    "print('Time consumed on the Seach: {}'.format(rdm_time))"
   ]
  },
  {
   "cell_type": "markdown",
   "metadata": {},
   "source": [
    "### Grid Search method\n",
    "\n",
    "Random Search method is used to reduce the range of values for each hyperparameter. Therefore, we can specify now the best configurations found to be adjusted in a Grid Search."
   ]
  },
  {
   "cell_type": "code",
   "execution_count": 13,
   "metadata": {},
   "outputs": [],
   "source": [
    "# define model\n",
    "rf = RandomForestRegressor()\n",
    "\n",
    "# define search space\n",
    "param_grid = dict()\n",
    "param_grid['n_estimators'] = [200, 250]\n",
    "param_grid['max_features'] = ['sqrt']\n",
    "param_grid['max_depth'] = [80, 100, None]\n",
    "param_grid['min_samples_split'] = [2, 5]\n",
    "param_grid['min_samples_leaf'] = [2]\n",
    "param_grid['bootstrap'] = [False]\n",
    "\n",
    "# define evaluation\n",
    "cv = RepeatedKFold(n_splits=10, n_repeats=3, random_state=33)\n",
    "\n",
    "# define scoring\n",
    "scoring='r2'\n",
    "\n",
    "# define GridSearchCV\n",
    "search_grd = GridSearchCV(estimator=rf,\n",
    "                          param_grid=param_grid,\n",
    "                          cv=cv,\n",
    "                          scoring=scoring,\n",
    "                          return_train_score=True,\n",
    "                          n_jobs=-1)"
   ]
  },
  {
   "cell_type": "code",
   "execution_count": 14,
   "metadata": {},
   "outputs": [
    {
     "data": {
      "text/plain": [
       "{'n_estimators': [200, 250],\n",
       " 'max_features': ['sqrt'],\n",
       " 'max_depth': [80, 100, None],\n",
       " 'min_samples_split': [2, 5],\n",
       " 'min_samples_leaf': [2],\n",
       " 'bootstrap': [False]}"
      ]
     },
     "execution_count": 14,
     "metadata": {},
     "output_type": "execute_result"
    }
   ],
   "source": [
    "param_grid"
   ]
  },
  {
   "cell_type": "markdown",
   "metadata": {},
   "source": [
    "Once the search is defined, it is possible to conform the `fit` to the data and search for the best resulting `hyperparameters`."
   ]
  },
  {
   "cell_type": "code",
   "execution_count": 15,
   "metadata": {},
   "outputs": [
    {
     "name": "stderr",
     "output_type": "stream",
     "text": [
      "C:\\Users\\caesp\\AppData\\Roaming\\Python\\Python37\\site-packages\\sklearn\\externals\\joblib\\numpy_pickle.py:104: DeprecationWarning: tostring() is deprecated. Use tobytes() instead.\n",
      "  pickler.file_handle.write(chunk.tostring('C'))\n"
     ]
    }
   ],
   "source": [
    "# execute search\n",
    "start_time = time()\n",
    "\n",
    "result_grd = search_grd.fit(X, y)\n",
    "\n",
    "grd_time = time() - start_time"
   ]
  },
  {
   "cell_type": "code",
   "execution_count": 16,
   "metadata": {},
   "outputs": [
    {
     "name": "stdout",
     "output_type": "stream",
     "text": [
      "Best Score: 0.9422728609535774\n",
      "Best Hyperparameters: {'bootstrap': False, 'max_depth': 100, 'max_features': 'sqrt', 'min_samples_leaf': 2, 'min_samples_split': 2, 'n_estimators': 250}\n",
      "Time consumed on the Seach: 1711.0609979629517\n"
     ]
    }
   ],
   "source": [
    "# summarize result\n",
    "print('Best Score: {}'.format(result_grd.best_score_))\n",
    "print('Best Hyperparameters: {}'.format(result_grd.best_params_))\n",
    "print('Time consumed on the Seach: {}'.format(grd_time))"
   ]
  },
  {
   "cell_type": "markdown",
   "metadata": {},
   "source": [
    "## Visualizing the results"
   ]
  },
  {
   "cell_type": "code",
   "execution_count": 17,
   "metadata": {},
   "outputs": [],
   "source": [
    "import sys\n",
    "sys.path.append('..')\n",
    "from modules import plotter\n",
    "from modules.plotter import plot_search_results\n",
    "import matplotlib.pyplot as plt"
   ]
  },
  {
   "cell_type": "raw",
   "metadata": {},
   "source": [
    "from importlib import reload\n",
    "import modules\n",
    "from modules import plotter\n",
    "reload(plotter)"
   ]
  },
  {
   "cell_type": "markdown",
   "metadata": {},
   "source": [
    "### Random Search"
   ]
  },
  {
   "cell_type": "markdown",
   "metadata": {},
   "source": [
    "The best score obtained was `0.9422`, so with which estimator did we obtained these results? "
   ]
  },
  {
   "cell_type": "code",
   "execution_count": 18,
   "metadata": {},
   "outputs": [
    {
     "data": {
      "text/plain": [
       "RandomForestRegressor(bootstrap=False, criterion='mse', max_depth=50,\n",
       "           max_features='sqrt', max_leaf_nodes=None,\n",
       "           min_impurity_decrease=0.0, min_impurity_split=None,\n",
       "           min_samples_leaf=2, min_samples_split=2,\n",
       "           min_weight_fraction_leaf=0.0, n_estimators=200, n_jobs=None,\n",
       "           oob_score=False, random_state=None, verbose=0, warm_start=False)"
      ]
     },
     "execution_count": 18,
     "metadata": {},
     "output_type": "execute_result"
    }
   ],
   "source": [
    "result_rdm.best_estimator_"
   ]
  },
  {
   "cell_type": "code",
   "execution_count": 19,
   "metadata": {},
   "outputs": [
    {
     "data": {
      "text/plain": [
       "{'n_estimators': 200,\n",
       " 'min_samples_split': 2,\n",
       " 'min_samples_leaf': 2,\n",
       " 'max_features': 'sqrt',\n",
       " 'max_depth': 50,\n",
       " 'bootstrap': False}"
      ]
     },
     "execution_count": 19,
     "metadata": {},
     "output_type": "execute_result"
    }
   ],
   "source": [
    "result_rdm.best_params_"
   ]
  },
  {
   "cell_type": "code",
   "execution_count": 20,
   "metadata": {},
   "outputs": [
    {
     "data": {
      "text/html": [
       "<div>\n",
       "<style scoped>\n",
       "    .dataframe tbody tr th:only-of-type {\n",
       "        vertical-align: middle;\n",
       "    }\n",
       "\n",
       "    .dataframe tbody tr th {\n",
       "        vertical-align: top;\n",
       "    }\n",
       "\n",
       "    .dataframe thead th {\n",
       "        text-align: right;\n",
       "    }\n",
       "</style>\n",
       "<table border=\"1\" class=\"dataframe\">\n",
       "  <thead>\n",
       "    <tr style=\"text-align: right;\">\n",
       "      <th></th>\n",
       "      <th>mean_fit_time</th>\n",
       "      <th>std_fit_time</th>\n",
       "      <th>mean_score_time</th>\n",
       "      <th>std_score_time</th>\n",
       "      <th>param_n_estimators</th>\n",
       "      <th>param_min_samples_split</th>\n",
       "      <th>param_min_samples_leaf</th>\n",
       "      <th>param_max_features</th>\n",
       "      <th>param_max_depth</th>\n",
       "      <th>param_bootstrap</th>\n",
       "      <th>...</th>\n",
       "      <th>split22_train_score</th>\n",
       "      <th>split23_train_score</th>\n",
       "      <th>split24_train_score</th>\n",
       "      <th>split25_train_score</th>\n",
       "      <th>split26_train_score</th>\n",
       "      <th>split27_train_score</th>\n",
       "      <th>split28_train_score</th>\n",
       "      <th>split29_train_score</th>\n",
       "      <th>mean_train_score</th>\n",
       "      <th>std_train_score</th>\n",
       "    </tr>\n",
       "  </thead>\n",
       "  <tbody>\n",
       "    <tr>\n",
       "      <th>0</th>\n",
       "      <td>62.318297</td>\n",
       "      <td>1.069339</td>\n",
       "      <td>0.184143</td>\n",
       "      <td>0.009398</td>\n",
       "      <td>152</td>\n",
       "      <td>10</td>\n",
       "      <td>2</td>\n",
       "      <td>auto</td>\n",
       "      <td>50</td>\n",
       "      <td>True</td>\n",
       "      <td>...</td>\n",
       "      <td>0.975898</td>\n",
       "      <td>0.976214</td>\n",
       "      <td>0.976268</td>\n",
       "      <td>0.975957</td>\n",
       "      <td>0.976915</td>\n",
       "      <td>0.975965</td>\n",
       "      <td>0.976092</td>\n",
       "      <td>0.976193</td>\n",
       "      <td>0.976123</td>\n",
       "      <td>0.000318</td>\n",
       "    </tr>\n",
       "    <tr>\n",
       "      <th>1</th>\n",
       "      <td>72.699382</td>\n",
       "      <td>0.931418</td>\n",
       "      <td>0.214092</td>\n",
       "      <td>0.017560</td>\n",
       "      <td>105</td>\n",
       "      <td>5</td>\n",
       "      <td>1</td>\n",
       "      <td>auto</td>\n",
       "      <td>50</td>\n",
       "      <td>False</td>\n",
       "      <td>...</td>\n",
       "      <td>0.993253</td>\n",
       "      <td>0.992652</td>\n",
       "      <td>0.993147</td>\n",
       "      <td>0.992697</td>\n",
       "      <td>0.993035</td>\n",
       "      <td>0.993038</td>\n",
       "      <td>0.992945</td>\n",
       "      <td>0.992129</td>\n",
       "      <td>0.992761</td>\n",
       "      <td>0.000477</td>\n",
       "    </tr>\n",
       "    <tr>\n",
       "      <th>2</th>\n",
       "      <td>7.489892</td>\n",
       "      <td>0.069586</td>\n",
       "      <td>0.126841</td>\n",
       "      <td>0.010522</td>\n",
       "      <td>105</td>\n",
       "      <td>5</td>\n",
       "      <td>4</td>\n",
       "      <td>sqrt</td>\n",
       "      <td>None</td>\n",
       "      <td>True</td>\n",
       "      <td>...</td>\n",
       "      <td>0.959995</td>\n",
       "      <td>0.959916</td>\n",
       "      <td>0.960220</td>\n",
       "      <td>0.960157</td>\n",
       "      <td>0.961209</td>\n",
       "      <td>0.959932</td>\n",
       "      <td>0.960311</td>\n",
       "      <td>0.960667</td>\n",
       "      <td>0.960207</td>\n",
       "      <td>0.000409</td>\n",
       "    </tr>\n",
       "    <tr>\n",
       "      <th>3</th>\n",
       "      <td>9.365154</td>\n",
       "      <td>0.081200</td>\n",
       "      <td>0.079949</td>\n",
       "      <td>0.002174</td>\n",
       "      <td>152</td>\n",
       "      <td>2</td>\n",
       "      <td>2</td>\n",
       "      <td>sqrt</td>\n",
       "      <td>10</td>\n",
       "      <td>False</td>\n",
       "      <td>...</td>\n",
       "      <td>0.937671</td>\n",
       "      <td>0.937637</td>\n",
       "      <td>0.936617</td>\n",
       "      <td>0.937226</td>\n",
       "      <td>0.938677</td>\n",
       "      <td>0.936519</td>\n",
       "      <td>0.936529</td>\n",
       "      <td>0.937464</td>\n",
       "      <td>0.937564</td>\n",
       "      <td>0.000670</td>\n",
       "    </tr>\n",
       "    <tr>\n",
       "      <th>4</th>\n",
       "      <td>1.069734</td>\n",
       "      <td>0.025587</td>\n",
       "      <td>0.015226</td>\n",
       "      <td>0.001478</td>\n",
       "      <td>10</td>\n",
       "      <td>2</td>\n",
       "      <td>4</td>\n",
       "      <td>sqrt</td>\n",
       "      <td>40</td>\n",
       "      <td>False</td>\n",
       "      <td>...</td>\n",
       "      <td>0.970130</td>\n",
       "      <td>0.969283</td>\n",
       "      <td>0.969657</td>\n",
       "      <td>0.969757</td>\n",
       "      <td>0.971088</td>\n",
       "      <td>0.969259</td>\n",
       "      <td>0.970201</td>\n",
       "      <td>0.970270</td>\n",
       "      <td>0.969952</td>\n",
       "      <td>0.000468</td>\n",
       "    </tr>\n",
       "  </tbody>\n",
       "</table>\n",
       "<p>5 rows × 76 columns</p>\n",
       "</div>"
      ],
      "text/plain": [
       "   mean_fit_time  std_fit_time  mean_score_time  std_score_time  \\\n",
       "0      62.318297      1.069339         0.184143        0.009398   \n",
       "1      72.699382      0.931418         0.214092        0.017560   \n",
       "2       7.489892      0.069586         0.126841        0.010522   \n",
       "3       9.365154      0.081200         0.079949        0.002174   \n",
       "4       1.069734      0.025587         0.015226        0.001478   \n",
       "\n",
       "  param_n_estimators param_min_samples_split param_min_samples_leaf  \\\n",
       "0                152                      10                      2   \n",
       "1                105                       5                      1   \n",
       "2                105                       5                      4   \n",
       "3                152                       2                      2   \n",
       "4                 10                       2                      4   \n",
       "\n",
       "  param_max_features param_max_depth param_bootstrap  ... split22_train_score  \\\n",
       "0               auto              50            True  ...            0.975898   \n",
       "1               auto              50           False  ...            0.993253   \n",
       "2               sqrt            None            True  ...            0.959995   \n",
       "3               sqrt              10           False  ...            0.937671   \n",
       "4               sqrt              40           False  ...            0.970130   \n",
       "\n",
       "   split23_train_score  split24_train_score  split25_train_score  \\\n",
       "0             0.976214             0.976268             0.975957   \n",
       "1             0.992652             0.993147             0.992697   \n",
       "2             0.959916             0.960220             0.960157   \n",
       "3             0.937637             0.936617             0.937226   \n",
       "4             0.969283             0.969657             0.969757   \n",
       "\n",
       "   split26_train_score  split27_train_score  split28_train_score  \\\n",
       "0             0.976915             0.975965             0.976092   \n",
       "1             0.993035             0.993038             0.992945   \n",
       "2             0.961209             0.959932             0.960311   \n",
       "3             0.938677             0.936519             0.936529   \n",
       "4             0.971088             0.969259             0.970201   \n",
       "\n",
       "   split29_train_score  mean_train_score  std_train_score  \n",
       "0             0.976193          0.976123         0.000318  \n",
       "1             0.992129          0.992761         0.000477  \n",
       "2             0.960667          0.960207         0.000409  \n",
       "3             0.937464          0.937564         0.000670  \n",
       "4             0.970270          0.969952         0.000468  \n",
       "\n",
       "[5 rows x 76 columns]"
      ]
     },
     "execution_count": 20,
     "metadata": {},
     "output_type": "execute_result"
    }
   ],
   "source": [
    "pd.DataFrame(result_rdm.cv_results_).head()"
   ]
  },
  {
   "cell_type": "markdown",
   "metadata": {},
   "source": [
    "### Grid Search"
   ]
  },
  {
   "cell_type": "markdown",
   "metadata": {},
   "source": [
    "The Best Score obtained was `0.9422`, but which one is the best estimator?"
   ]
  },
  {
   "cell_type": "code",
   "execution_count": 21,
   "metadata": {},
   "outputs": [
    {
     "data": {
      "text/plain": [
       "RandomForestRegressor(bootstrap=False, criterion='mse', max_depth=100,\n",
       "           max_features='sqrt', max_leaf_nodes=None,\n",
       "           min_impurity_decrease=0.0, min_impurity_split=None,\n",
       "           min_samples_leaf=2, min_samples_split=2,\n",
       "           min_weight_fraction_leaf=0.0, n_estimators=250, n_jobs=None,\n",
       "           oob_score=False, random_state=None, verbose=0, warm_start=False)"
      ]
     },
     "execution_count": 21,
     "metadata": {},
     "output_type": "execute_result"
    }
   ],
   "source": [
    "result_grd.best_estimator_"
   ]
  },
  {
   "cell_type": "code",
   "execution_count": 22,
   "metadata": {},
   "outputs": [
    {
     "data": {
      "text/plain": [
       "{'bootstrap': False,\n",
       " 'max_depth': 100,\n",
       " 'max_features': 'sqrt',\n",
       " 'min_samples_leaf': 2,\n",
       " 'min_samples_split': 2,\n",
       " 'n_estimators': 250}"
      ]
     },
     "execution_count": 22,
     "metadata": {},
     "output_type": "execute_result"
    }
   ],
   "source": [
    "result_grd.best_params_"
   ]
  },
  {
   "cell_type": "code",
   "execution_count": 23,
   "metadata": {},
   "outputs": [
    {
     "data": {
      "text/html": [
       "<div>\n",
       "<style scoped>\n",
       "    .dataframe tbody tr th:only-of-type {\n",
       "        vertical-align: middle;\n",
       "    }\n",
       "\n",
       "    .dataframe tbody tr th {\n",
       "        vertical-align: top;\n",
       "    }\n",
       "\n",
       "    .dataframe thead th {\n",
       "        text-align: right;\n",
       "    }\n",
       "</style>\n",
       "<table border=\"1\" class=\"dataframe\">\n",
       "  <thead>\n",
       "    <tr style=\"text-align: right;\">\n",
       "      <th></th>\n",
       "      <th>mean_fit_time</th>\n",
       "      <th>std_fit_time</th>\n",
       "      <th>mean_score_time</th>\n",
       "      <th>std_score_time</th>\n",
       "      <th>param_bootstrap</th>\n",
       "      <th>param_max_depth</th>\n",
       "      <th>param_max_features</th>\n",
       "      <th>param_min_samples_leaf</th>\n",
       "      <th>param_min_samples_split</th>\n",
       "      <th>param_n_estimators</th>\n",
       "      <th>...</th>\n",
       "      <th>split22_train_score</th>\n",
       "      <th>split23_train_score</th>\n",
       "      <th>split24_train_score</th>\n",
       "      <th>split25_train_score</th>\n",
       "      <th>split26_train_score</th>\n",
       "      <th>split27_train_score</th>\n",
       "      <th>split28_train_score</th>\n",
       "      <th>split29_train_score</th>\n",
       "      <th>mean_train_score</th>\n",
       "      <th>std_train_score</th>\n",
       "    </tr>\n",
       "  </thead>\n",
       "  <tbody>\n",
       "    <tr>\n",
       "      <th>0</th>\n",
       "      <td>45.428768</td>\n",
       "      <td>0.949081</td>\n",
       "      <td>2.132749</td>\n",
       "      <td>0.844550</td>\n",
       "      <td>False</td>\n",
       "      <td>80</td>\n",
       "      <td>sqrt</td>\n",
       "      <td>2</td>\n",
       "      <td>2</td>\n",
       "      <td>200</td>\n",
       "      <td>...</td>\n",
       "      <td>0.987736</td>\n",
       "      <td>0.987996</td>\n",
       "      <td>0.987664</td>\n",
       "      <td>0.987642</td>\n",
       "      <td>0.988030</td>\n",
       "      <td>0.987636</td>\n",
       "      <td>0.987739</td>\n",
       "      <td>0.987899</td>\n",
       "      <td>0.987787</td>\n",
       "      <td>0.000155</td>\n",
       "    </tr>\n",
       "    <tr>\n",
       "      <th>1</th>\n",
       "      <td>57.011840</td>\n",
       "      <td>1.261174</td>\n",
       "      <td>2.356249</td>\n",
       "      <td>1.612168</td>\n",
       "      <td>False</td>\n",
       "      <td>80</td>\n",
       "      <td>sqrt</td>\n",
       "      <td>2</td>\n",
       "      <td>2</td>\n",
       "      <td>250</td>\n",
       "      <td>...</td>\n",
       "      <td>0.987727</td>\n",
       "      <td>0.987956</td>\n",
       "      <td>0.987705</td>\n",
       "      <td>0.987688</td>\n",
       "      <td>0.988052</td>\n",
       "      <td>0.987809</td>\n",
       "      <td>0.987842</td>\n",
       "      <td>0.987907</td>\n",
       "      <td>0.987809</td>\n",
       "      <td>0.000159</td>\n",
       "    </tr>\n",
       "    <tr>\n",
       "      <th>2</th>\n",
       "      <td>42.432788</td>\n",
       "      <td>0.556049</td>\n",
       "      <td>0.700054</td>\n",
       "      <td>0.036223</td>\n",
       "      <td>False</td>\n",
       "      <td>80</td>\n",
       "      <td>sqrt</td>\n",
       "      <td>2</td>\n",
       "      <td>5</td>\n",
       "      <td>200</td>\n",
       "      <td>...</td>\n",
       "      <td>0.986316</td>\n",
       "      <td>0.986498</td>\n",
       "      <td>0.986228</td>\n",
       "      <td>0.986105</td>\n",
       "      <td>0.986630</td>\n",
       "      <td>0.986253</td>\n",
       "      <td>0.986286</td>\n",
       "      <td>0.986448</td>\n",
       "      <td>0.986317</td>\n",
       "      <td>0.000174</td>\n",
       "    </tr>\n",
       "    <tr>\n",
       "      <th>3</th>\n",
       "      <td>53.519789</td>\n",
       "      <td>0.932171</td>\n",
       "      <td>0.931984</td>\n",
       "      <td>0.205372</td>\n",
       "      <td>False</td>\n",
       "      <td>80</td>\n",
       "      <td>sqrt</td>\n",
       "      <td>2</td>\n",
       "      <td>5</td>\n",
       "      <td>250</td>\n",
       "      <td>...</td>\n",
       "      <td>0.986302</td>\n",
       "      <td>0.986480</td>\n",
       "      <td>0.986247</td>\n",
       "      <td>0.986328</td>\n",
       "      <td>0.986619</td>\n",
       "      <td>0.986267</td>\n",
       "      <td>0.986463</td>\n",
       "      <td>0.986524</td>\n",
       "      <td>0.986351</td>\n",
       "      <td>0.000167</td>\n",
       "    </tr>\n",
       "    <tr>\n",
       "      <th>4</th>\n",
       "      <td>44.793965</td>\n",
       "      <td>1.326030</td>\n",
       "      <td>0.753183</td>\n",
       "      <td>0.037904</td>\n",
       "      <td>False</td>\n",
       "      <td>100</td>\n",
       "      <td>sqrt</td>\n",
       "      <td>2</td>\n",
       "      <td>2</td>\n",
       "      <td>200</td>\n",
       "      <td>...</td>\n",
       "      <td>0.987700</td>\n",
       "      <td>0.987887</td>\n",
       "      <td>0.987645</td>\n",
       "      <td>0.987623</td>\n",
       "      <td>0.988057</td>\n",
       "      <td>0.987749</td>\n",
       "      <td>0.987849</td>\n",
       "      <td>0.987970</td>\n",
       "      <td>0.987786</td>\n",
       "      <td>0.000162</td>\n",
       "    </tr>\n",
       "  </tbody>\n",
       "</table>\n",
       "<p>5 rows × 76 columns</p>\n",
       "</div>"
      ],
      "text/plain": [
       "   mean_fit_time  std_fit_time  mean_score_time  std_score_time  \\\n",
       "0      45.428768      0.949081         2.132749        0.844550   \n",
       "1      57.011840      1.261174         2.356249        1.612168   \n",
       "2      42.432788      0.556049         0.700054        0.036223   \n",
       "3      53.519789      0.932171         0.931984        0.205372   \n",
       "4      44.793965      1.326030         0.753183        0.037904   \n",
       "\n",
       "  param_bootstrap param_max_depth param_max_features param_min_samples_leaf  \\\n",
       "0           False              80               sqrt                      2   \n",
       "1           False              80               sqrt                      2   \n",
       "2           False              80               sqrt                      2   \n",
       "3           False              80               sqrt                      2   \n",
       "4           False             100               sqrt                      2   \n",
       "\n",
       "  param_min_samples_split param_n_estimators  ... split22_train_score  \\\n",
       "0                       2                200  ...            0.987736   \n",
       "1                       2                250  ...            0.987727   \n",
       "2                       5                200  ...            0.986316   \n",
       "3                       5                250  ...            0.986302   \n",
       "4                       2                200  ...            0.987700   \n",
       "\n",
       "   split23_train_score  split24_train_score  split25_train_score  \\\n",
       "0             0.987996             0.987664             0.987642   \n",
       "1             0.987956             0.987705             0.987688   \n",
       "2             0.986498             0.986228             0.986105   \n",
       "3             0.986480             0.986247             0.986328   \n",
       "4             0.987887             0.987645             0.987623   \n",
       "\n",
       "   split26_train_score  split27_train_score  split28_train_score  \\\n",
       "0             0.988030             0.987636             0.987739   \n",
       "1             0.988052             0.987809             0.987842   \n",
       "2             0.986630             0.986253             0.986286   \n",
       "3             0.986619             0.986267             0.986463   \n",
       "4             0.988057             0.987749             0.987849   \n",
       "\n",
       "   split29_train_score  mean_train_score  std_train_score  \n",
       "0             0.987899          0.987787         0.000155  \n",
       "1             0.987907          0.987809         0.000159  \n",
       "2             0.986448          0.986317         0.000174  \n",
       "3             0.986524          0.986351         0.000167  \n",
       "4             0.987970          0.987786         0.000162  \n",
       "\n",
       "[5 rows x 76 columns]"
      ]
     },
     "execution_count": 23,
     "metadata": {},
     "output_type": "execute_result"
    }
   ],
   "source": [
    "pd.DataFrame(result_grd.cv_results_).head()"
   ]
  },
  {
   "cell_type": "code",
   "execution_count": 24,
   "metadata": {},
   "outputs": [
    {
     "data": {
      "image/png": "[encoded data removed]",
      "text/plain": [
       "<Figure size 1440x360 with 6 Axes>"
      ]
     },
     "metadata": {
      "needs_background": "light"
     },
     "output_type": "display_data"
    }
   ],
   "source": [
    "plot_search_results(result_grd, search='GridSearchCV')\n",
    "plt.savefig('fig/11_grid_search.png')"
   ]
  },
  {
   "cell_type": "markdown",
   "metadata": {},
   "source": [
    "From the previous plot, we can visualize how was the performance of the model (MEAN SCORE) for each value that each parameter adopted."
   ]
  }
 ],
 "metadata": {
  "kernelspec": {
   "display_name": "Python 3",
   "language": "python",
   "name": "python3"
  },
  "language_info": {
   "codemirror_mode": {
    "name": "ipython",
    "version": 3
   },
   "file_extension": ".py",
   "mimetype": "text/x-python",
   "name": "python",
   "nbconvert_exporter": "python",
   "pygments_lexer": "ipython3",
   "version": "3.7.1"
  }
 },
 "nbformat": 4,
 "nbformat_minor": 4
}
