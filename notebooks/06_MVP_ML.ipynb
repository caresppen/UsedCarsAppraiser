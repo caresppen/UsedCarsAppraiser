{
 "cells": [
  {
   "cell_type": "markdown",
   "metadata": {},
   "source": [
    "# MVP: Machine Learning Algorithm to predict Car's Price"
   ]
  },
  {
   "cell_type": "code",
   "execution_count": 4,
   "metadata": {},
   "outputs": [],
   "source": [
    "import pandas as pd\n",
    "import numpy as np\n",
    "import seaborn as sns\n",
    "import matplotlib.pyplot as plt\n",
    "\n",
    "from sklearn.model_selection import train_test_split\n",
    "from sklearn.linear_model import LinearRegression\n",
    "from sklearn.neighbors import KNeighborsRegressor\n",
    "from sklearn.tree import DecisionTreeRegressor\n",
    "from sklearn.ensemble import RandomForestRegressor\n",
    "from sklearn.metrics import mean_squared_error, mean_absolute_error, explained_variance_score"
   ]
  },
  {
   "cell_type": "markdown",
   "metadata": {},
   "source": [
    "## Import Data"
   ]
  },
  {
   "cell_type": "code",
   "execution_count": 5,
   "metadata": {},
   "outputs": [],
   "source": [
    "root = '../data/merged_cars.csv'"
   ]
  },
  {
   "cell_type": "code",
   "execution_count": 6,
   "metadata": {},
   "outputs": [
    {
     "data": {
      "text/html": [
       "<div>\n",
       "<style scoped>\n",
       "    .dataframe tbody tr th:only-of-type {\n",
       "        vertical-align: middle;\n",
       "    }\n",
       "\n",
       "    .dataframe tbody tr th {\n",
       "        vertical-align: top;\n",
       "    }\n",
       "\n",
       "    .dataframe thead th {\n",
       "        text-align: right;\n",
       "    }\n",
       "</style>\n",
       "<table border=\"1\" class=\"dataframe\">\n",
       "  <thead>\n",
       "    <tr style=\"text-align: right;\">\n",
       "      <th></th>\n",
       "      <th>title</th>\n",
       "      <th>brand</th>\n",
       "      <th>model</th>\n",
       "      <th>type</th>\n",
       "      <th>year</th>\n",
       "      <th>kms</th>\n",
       "      <th>city</th>\n",
       "      <th>gearbox</th>\n",
       "      <th>doors</th>\n",
       "      <th>seats</th>\n",
       "      <th>...</th>\n",
       "      <th>width</th>\n",
       "      <th>trunk_vol</th>\n",
       "      <th>max_speed</th>\n",
       "      <th>urban_cons</th>\n",
       "      <th>xtrurban_cons</th>\n",
       "      <th>mixed_cons</th>\n",
       "      <th>weight</th>\n",
       "      <th>tank_vol</th>\n",
       "      <th>acc</th>\n",
       "      <th>price</th>\n",
       "    </tr>\n",
       "  </thead>\n",
       "  <tbody>\n",
       "    <tr>\n",
       "      <th>0</th>\n",
       "      <td>Smart Fortwo Cabrio 52 Mhd Pure Aut.</td>\n",
       "      <td>SMART</td>\n",
       "      <td>FORTWO</td>\n",
       "      <td>sports</td>\n",
       "      <td>2014</td>\n",
       "      <td>37125</td>\n",
       "      <td>Alicante</td>\n",
       "      <td>Automatic</td>\n",
       "      <td>2</td>\n",
       "      <td>2</td>\n",
       "      <td>...</td>\n",
       "      <td>156</td>\n",
       "      <td>0</td>\n",
       "      <td>145</td>\n",
       "      <td>4.6</td>\n",
       "      <td>4.0</td>\n",
       "      <td>4.3</td>\n",
       "      <td>780</td>\n",
       "      <td>33</td>\n",
       "      <td>13.7</td>\n",
       "      <td>5500</td>\n",
       "    </tr>\n",
       "    <tr>\n",
       "      <th>1</th>\n",
       "      <td>Volkswagen Scirocco 2.0 Tsi</td>\n",
       "      <td>VOLKSWAGEN</td>\n",
       "      <td>SCIROCCO</td>\n",
       "      <td>sports</td>\n",
       "      <td>2009</td>\n",
       "      <td>0</td>\n",
       "      <td>Barcelona</td>\n",
       "      <td>Manual</td>\n",
       "      <td>3</td>\n",
       "      <td>4</td>\n",
       "      <td>...</td>\n",
       "      <td>181</td>\n",
       "      <td>292</td>\n",
       "      <td>235</td>\n",
       "      <td>9.9</td>\n",
       "      <td>6.1</td>\n",
       "      <td>7.6</td>\n",
       "      <td>1373</td>\n",
       "      <td>55</td>\n",
       "      <td>7.2</td>\n",
       "      <td>10900</td>\n",
       "    </tr>\n",
       "    <tr>\n",
       "      <th>2</th>\n",
       "      <td>Bmw Serie 2 218da Gran Coupé</td>\n",
       "      <td>BMW</td>\n",
       "      <td>SERIE 2</td>\n",
       "      <td>sports</td>\n",
       "      <td>2021</td>\n",
       "      <td>0</td>\n",
       "      <td>Cantabria</td>\n",
       "      <td>Automatic</td>\n",
       "      <td>4</td>\n",
       "      <td>5</td>\n",
       "      <td>...</td>\n",
       "      <td>180</td>\n",
       "      <td>430</td>\n",
       "      <td>222</td>\n",
       "      <td>5.4</td>\n",
       "      <td>2.9</td>\n",
       "      <td>4.2</td>\n",
       "      <td>1545</td>\n",
       "      <td>42</td>\n",
       "      <td>8.5</td>\n",
       "      <td>36100</td>\n",
       "    </tr>\n",
       "    <tr>\n",
       "      <th>3</th>\n",
       "      <td>Bmw X4 Xdrive 20d</td>\n",
       "      <td>BMW</td>\n",
       "      <td>X4</td>\n",
       "      <td>sports</td>\n",
       "      <td>2017</td>\n",
       "      <td>85000</td>\n",
       "      <td>Girona</td>\n",
       "      <td>Automatic</td>\n",
       "      <td>5</td>\n",
       "      <td>5</td>\n",
       "      <td>...</td>\n",
       "      <td>188</td>\n",
       "      <td>500</td>\n",
       "      <td>212</td>\n",
       "      <td>6.1</td>\n",
       "      <td>5.0</td>\n",
       "      <td>5.4</td>\n",
       "      <td>1740</td>\n",
       "      <td>67</td>\n",
       "      <td>8.0</td>\n",
       "      <td>28000</td>\n",
       "    </tr>\n",
       "    <tr>\n",
       "      <th>4</th>\n",
       "      <td>Dodge Viper Srt-10</td>\n",
       "      <td>DODGE</td>\n",
       "      <td>VIPER</td>\n",
       "      <td>sports</td>\n",
       "      <td>2005</td>\n",
       "      <td>95017</td>\n",
       "      <td>Unknown</td>\n",
       "      <td>Automatic</td>\n",
       "      <td>2</td>\n",
       "      <td>2</td>\n",
       "      <td>...</td>\n",
       "      <td>191</td>\n",
       "      <td>0</td>\n",
       "      <td>0</td>\n",
       "      <td>27.3</td>\n",
       "      <td>14.7</td>\n",
       "      <td>21.0</td>\n",
       "      <td>1546</td>\n",
       "      <td>70</td>\n",
       "      <td>3.9</td>\n",
       "      <td>27990</td>\n",
       "    </tr>\n",
       "  </tbody>\n",
       "</table>\n",
       "<p>5 rows × 29 columns</p>\n",
       "</div>"
      ],
      "text/plain": [
       "                                  title       brand     model    type  year  \\\n",
       "0  Smart Fortwo Cabrio 52 Mhd Pure Aut.       SMART    FORTWO  sports  2014   \n",
       "1           Volkswagen Scirocco 2.0 Tsi  VOLKSWAGEN  SCIROCCO  sports  2009   \n",
       "2          Bmw Serie 2 218da Gran Coupé         BMW   SERIE 2  sports  2021   \n",
       "3                     Bmw X4 Xdrive 20d         BMW        X4  sports  2017   \n",
       "4                    Dodge Viper Srt-10       DODGE     VIPER  sports  2005   \n",
       "\n",
       "     kms       city    gearbox  doors  seats  ...  width trunk_vol  max_speed  \\\n",
       "0  37125   Alicante  Automatic      2      2  ...    156         0        145   \n",
       "1      0  Barcelona     Manual      3      4  ...    181       292        235   \n",
       "2      0  Cantabria  Automatic      4      5  ...    180       430        222   \n",
       "3  85000     Girona  Automatic      5      5  ...    188       500        212   \n",
       "4  95017    Unknown  Automatic      2      2  ...    191         0          0   \n",
       "\n",
       "  urban_cons xtrurban_cons mixed_cons weight  tank_vol   acc  price  \n",
       "0        4.6           4.0        4.3    780        33  13.7   5500  \n",
       "1        9.9           6.1        7.6   1373        55   7.2  10900  \n",
       "2        5.4           2.9        4.2   1545        42   8.5  36100  \n",
       "3        6.1           5.0        5.4   1740        67   8.0  28000  \n",
       "4       27.3          14.7       21.0   1546        70   3.9  27990  \n",
       "\n",
       "[5 rows x 29 columns]"
      ]
     },
     "execution_count": 6,
     "metadata": {},
     "output_type": "execute_result"
    }
   ],
   "source": [
    "df = pd.read_csv(root)\n",
    "df.head()"
   ]
  },
  {
   "cell_type": "markdown",
   "metadata": {},
   "source": [
    "## Data Visualization"
   ]
  },
  {
   "cell_type": "code",
   "execution_count": null,
   "metadata": {},
   "outputs": [],
   "source": [
    "sns.pairplot(df);"
   ]
  },
  {
   "cell_type": "code",
   "execution_count": 7,
   "metadata": {},
   "outputs": [
    {
     "data": {
      "image/png": "[encoded data removed]",
      "text/plain": [
       "<Figure size 720x720 with 4 Axes>"
      ]
     },
     "metadata": {
      "needs_background": "light"
     },
     "output_type": "display_data"
    }
   ],
   "source": [
    "sns.clustermap(df.corr());"
   ]
  },
  {
   "cell_type": "code",
   "execution_count": 8,
   "metadata": {},
   "outputs": [
    {
     "data": {
      "image/png": "[encoded data removed]",
      "text/plain": [
       "<Figure size 432x288 with 1 Axes>"
      ]
     },
     "metadata": {
      "needs_background": "light"
     },
     "output_type": "display_data"
    }
   ],
   "source": [
    "sns.boxplot(data=df, x='type', y='price')\n",
    "\n",
    "plt.xticks(rotation=30)\n",
    "\n",
    "plt.savefig('fig/06_prices_outlier.png')\n",
    "plt.show()"
   ]
  },
  {
   "cell_type": "markdown",
   "metadata": {},
   "source": [
    "We have detected a major outlier on the price that will be removed from the source"
   ]
  },
  {
   "cell_type": "markdown",
   "metadata": {},
   "source": [
    "## Data Cleansing"
   ]
  },
  {
   "cell_type": "code",
   "execution_count": 9,
   "metadata": {},
   "outputs": [],
   "source": [
    "import sys\n",
    "sys.path.append('..')\n",
    "from modules.car_cleanser import rm_outliers"
   ]
  },
  {
   "cell_type": "code",
   "execution_count": 10,
   "metadata": {},
   "outputs": [
    {
     "data": {
      "text/plain": [
       "999999"
      ]
     },
     "execution_count": 10,
     "metadata": {},
     "output_type": "execute_result"
    }
   ],
   "source": [
    "df = rm_outliers(df)\n",
    "df.price.max()"
   ]
  },
  {
   "cell_type": "code",
   "execution_count": 11,
   "metadata": {},
   "outputs": [
    {
     "data": {
      "image/png": "[encoded data removed]",
      "text/plain": [
       "<Figure size 432x288 with 1 Axes>"
      ]
     },
     "metadata": {
      "needs_background": "light"
     },
     "output_type": "display_data"
    }
   ],
   "source": [
    "sns.boxplot(data=df, x='type', y='price')\n",
    "\n",
    "plt.xticks(rotation=30)\n",
    "\n",
    "plt.show()"
   ]
  },
  {
   "cell_type": "code",
   "execution_count": 12,
   "metadata": {},
   "outputs": [],
   "source": [
    "df = df[df.price <= 100000]"
   ]
  },
  {
   "cell_type": "code",
   "execution_count": 13,
   "metadata": {},
   "outputs": [
    {
     "data": {
      "image/png": "[encoded data removed]",
      "text/plain": [
       "<Figure size 432x288 with 1 Axes>"
      ]
     },
     "metadata": {
      "needs_background": "light"
     },
     "output_type": "display_data"
    }
   ],
   "source": [
    "sns.boxplot(data=df, x='type', y='price')\n",
    "\n",
    "plt.xticks(rotation=30)\n",
    "\n",
    "plt.show()"
   ]
  },
  {
   "cell_type": "markdown",
   "metadata": {},
   "source": [
    "## Data Modeling"
   ]
  },
  {
   "cell_type": "markdown",
   "metadata": {},
   "source": [
    "### Price"
   ]
  },
  {
   "cell_type": "code",
   "execution_count": 14,
   "metadata": {},
   "outputs": [],
   "source": [
    "# Dividing the data into target and features\n",
    "features = df[df.select_dtypes('number').columns[:-1]]\n",
    "target = df[df.columns[-1]]    # Price"
   ]
  },
  {
   "cell_type": "code",
   "execution_count": 15,
   "metadata": {},
   "outputs": [
    {
     "data": {
      "text/plain": [
       "LinearRegression()"
      ]
     },
     "execution_count": 15,
     "metadata": {},
     "output_type": "execute_result"
    }
   ],
   "source": [
    "X_train, X_test, y_train, y_test = train_test_split(features, target)\n",
    "\n",
    "lr = LinearRegression()\n",
    "lr.fit(X_train, y_train)"
   ]
  },
  {
   "cell_type": "code",
   "execution_count": 16,
   "metadata": {},
   "outputs": [],
   "source": [
    "predictions = lr.predict(X_test)"
   ]
  },
  {
   "cell_type": "code",
   "execution_count": 17,
   "metadata": {},
   "outputs": [
    {
     "data": {
      "text/plain": [
       "array([22221.99294545, 18506.864566  ,  9912.45961804, ...,\n",
       "       30532.60858762, 29293.09142793, 30484.08962934])"
      ]
     },
     "execution_count": 17,
     "metadata": {},
     "output_type": "execute_result"
    }
   ],
   "source": [
    "predictions"
   ]
  },
  {
   "cell_type": "markdown",
   "metadata": {},
   "source": [
    "### Type"
   ]
  },
  {
   "cell_type": "code",
   "execution_count": 18,
   "metadata": {},
   "outputs": [],
   "source": [
    "from sklearn.tree import DecisionTreeClassifier\n",
    "from sklearn.ensemble import RandomForestClassifier"
   ]
  },
  {
   "cell_type": "code",
   "execution_count": 19,
   "metadata": {},
   "outputs": [],
   "source": [
    "# Dividing the data into target and features\n",
    "features_t = df[df.select_dtypes('number').columns]\n",
    "target_t = df['type']    # Type"
   ]
  },
  {
   "cell_type": "code",
   "execution_count": 20,
   "metadata": {},
   "outputs": [
    {
     "data": {
      "text/plain": [
       "DecisionTreeClassifier()"
      ]
     },
     "execution_count": 20,
     "metadata": {},
     "output_type": "execute_result"
    }
   ],
   "source": [
    "X_train_t, X_test_t, y_train_t, y_test_t = train_test_split(features_t, target_t)\n",
    "\n",
    "tree = DecisionTreeClassifier()\n",
    "tree.fit(X_train_t, y_train_t)"
   ]
  },
  {
   "cell_type": "code",
   "execution_count": 21,
   "metadata": {},
   "outputs": [],
   "source": [
    "predictions_t = tree.predict(X_test_t)"
   ]
  },
  {
   "cell_type": "code",
   "execution_count": 22,
   "metadata": {},
   "outputs": [
    {
     "data": {
      "text/plain": [
       "array(['familiar', 'medium', 'minivan', ..., 'offroad', 'small',\n",
       "       'familiar'], dtype=object)"
      ]
     },
     "execution_count": 22,
     "metadata": {},
     "output_type": "execute_result"
    }
   ],
   "source": [
    "predictions_t"
   ]
  },
  {
   "cell_type": "markdown",
   "metadata": {},
   "source": [
    "## Model Evaluation"
   ]
  },
  {
   "cell_type": "markdown",
   "metadata": {},
   "source": [
    "### Price"
   ]
  },
  {
   "cell_type": "code",
   "execution_count": 23,
   "metadata": {},
   "outputs": [],
   "source": [
    "from modules.model_evaluator import eval_reg"
   ]
  },
  {
   "cell_type": "code",
   "execution_count": 24,
   "metadata": {},
   "outputs": [
    {
     "name": "stdout",
     "output_type": "stream",
     "text": [
      "### MEASURES OF REGRESSION MODEL ###\n",
      "------------------------------------\n",
      "\n",
      "Mean Squared Error = 46750958.5612\n",
      "\n",
      "Mean Absolute Error (MAE) = 4402.9784\n",
      "\n",
      "Explained Variance Score = 73.6485%\n",
      "\n"
     ]
    }
   ],
   "source": [
    "eval_reg(y_test, predictions)"
   ]
  },
  {
   "cell_type": "markdown",
   "metadata": {},
   "source": [
    "### Type\n",
    "Multilabel classifier"
   ]
  },
  {
   "cell_type": "code",
   "execution_count": 25,
   "metadata": {},
   "outputs": [],
   "source": [
    "from modules.model_evaluator import eval_cls"
   ]
  },
  {
   "cell_type": "code",
   "execution_count": 26,
   "metadata": {},
   "outputs": [
    {
     "name": "stdout",
     "output_type": "stream",
     "text": [
      "### MEASURES OF CLASSIFICATION MODEL ###\n",
      "----------------------------------------\n",
      "\n",
      "Accuracy score = 94.5991%\n",
      "\n",
      "Avg Precision score = 94.6120%\n",
      "\n",
      "Recall score = 94.5991%\n",
      "\n",
      "F1 score = 94.6050%\n",
      "\n",
      "Confusion matrix:\n",
      "[[2440    7    6    0    0    2    0    3    0]\n",
      " [   9  727    5    3    2    3    0    0    0]\n",
      " [   3   10 2272    6   10  108    0    1    0]\n",
      " [   0    0    5 2044   26   10    1    0   15]\n",
      " [   0    3    6   29 2204  152    0    4    3]\n",
      " [   1    2  128    2  144  157    0    0    0]\n",
      " [   0    0    4    0    0    0  714    0    0]\n",
      " [   1    0    3    0    2    2    4 1275    0]\n",
      " [   0    0    4   17    2    2    0    1 1321]]\n",
      "\n"
     ]
    },
    {
     "data": {
      "image/png": "[encoded data removed]",
      "text/plain": [
       "<Figure size 432x288 with 2 Axes>"
      ]
     },
     "metadata": {
      "needs_background": "light"
     },
     "output_type": "display_data"
    }
   ],
   "source": [
    "eval_cls(y_test_t, predictions_t)"
   ]
  }
 ],
 "metadata": {
  "kernelspec": {
   "display_name": "Python 3",
   "language": "python",
   "name": "python3"
  },
  "language_info": {
   "codemirror_mode": {
    "name": "ipython",
    "version": 3
   },
   "file_extension": ".py",
   "mimetype": "text/x-python",
   "name": "python",
   "nbconvert_exporter": "python",
   "pygments_lexer": "ipython3",
   "version": "3.7.1"
  }
 },
 "nbformat": 4,
 "nbformat_minor": 4
}
