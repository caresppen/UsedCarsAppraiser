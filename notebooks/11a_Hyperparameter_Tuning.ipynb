{
 "cells": [
  {
   "cell_type": "markdown",
   "metadata": {},
   "source": [
    "# Hyperparameter Tuning\n",
    "\n",
    "In the previous notebook, we saw the impact of applying a `Quantile Transformer` to the dataset. What is more, the `Random Forest Regressor` was consolidated as the best performing algorithm.\n",
    "\n",
    "The objective of this notebook it will be to apply a `GridSearchCV & RandomSearchCV` to find the best `hyperparameter tuning` configuration. To this aim, [this article from Jason Brownlee](https://machinelearningmastery.com/hyperparameter-optimization-with-random-search-and-grid-search/) was really helpful to understand the basics of both methods and select the best configuration possible.\n",
    "\n",
    "`Hyperparameters` help on specifying the configuration of models to guide machine learning algorithms. The difference with `parameters` is that `hyperparameters` are not learned automatically, so they need to be set manually to help on the guidance of the learning process."
   ]
  },
  {
   "cell_type": "code",
   "execution_count": 1,
   "metadata": {},
   "outputs": [],
   "source": [
    "import pandas as pd\n",
    "import numpy as np\n",
    "from time import time\n",
    "from sklearn.ensemble import RandomForestRegressor\n",
    "from sklearn.model_selection import train_test_split, RepeatedKFold\n",
    "from sklearn.model_selection import GridSearchCV, RandomizedSearchCV"
   ]
  },
  {
   "cell_type": "markdown",
   "metadata": {},
   "source": [
    "## Loading transformed dataset"
   ]
  },
  {
   "cell_type": "code",
   "execution_count": 2,
   "metadata": {},
   "outputs": [
    {
     "data": {
      "text/html": [
       "<div>\n",
       "<style scoped>\n",
       "    .dataframe tbody tr th:only-of-type {\n",
       "        vertical-align: middle;\n",
       "    }\n",
       "\n",
       "    .dataframe tbody tr th {\n",
       "        vertical-align: top;\n",
       "    }\n",
       "\n",
       "    .dataframe thead th {\n",
       "        text-align: right;\n",
       "    }\n",
       "</style>\n",
       "<table border=\"1\" class=\"dataframe\">\n",
       "  <thead>\n",
       "    <tr style=\"text-align: right;\">\n",
       "      <th></th>\n",
       "      <th>co2_emiss</th>\n",
       "      <th>height</th>\n",
       "      <th>length</th>\n",
       "      <th>max_speed</th>\n",
       "      <th>mixed_cons</th>\n",
       "      <th>weight</th>\n",
       "      <th>tank_vol</th>\n",
       "      <th>acc</th>\n",
       "      <th>gearbox_Automatic</th>\n",
       "      <th>gearbox_Direct</th>\n",
       "      <th>...</th>\n",
       "      <th>doors_3</th>\n",
       "      <th>doors_4</th>\n",
       "      <th>doors_5</th>\n",
       "      <th>brand_encoded</th>\n",
       "      <th>model_encoded</th>\n",
       "      <th>city_encoded</th>\n",
       "      <th>color_encoded</th>\n",
       "      <th>type_encoded</th>\n",
       "      <th>chassis_encoded</th>\n",
       "      <th>price</th>\n",
       "    </tr>\n",
       "  </thead>\n",
       "  <tbody>\n",
       "    <tr>\n",
       "      <th>0</th>\n",
       "      <td>-1.120443</td>\n",
       "      <td>0.285121</td>\n",
       "      <td>-2.877530</td>\n",
       "      <td>-2.143610</td>\n",
       "      <td>-0.679227</td>\n",
       "      <td>-2.897385</td>\n",
       "      <td>-2.456544</td>\n",
       "      <td>1.199172</td>\n",
       "      <td>5.199338</td>\n",
       "      <td>-5.199338</td>\n",
       "      <td>...</td>\n",
       "      <td>-5.199338</td>\n",
       "      <td>-5.199338</td>\n",
       "      <td>-5.199338</td>\n",
       "      <td>-1.579469</td>\n",
       "      <td>-1.083566</td>\n",
       "      <td>-1.505232</td>\n",
       "      <td>-0.902609</td>\n",
       "      <td>5.199338</td>\n",
       "      <td>0.608153</td>\n",
       "      <td>5500</td>\n",
       "    </tr>\n",
       "    <tr>\n",
       "      <th>1</th>\n",
       "      <td>1.303557</td>\n",
       "      <td>-1.624785</td>\n",
       "      <td>-0.685567</td>\n",
       "      <td>1.345832</td>\n",
       "      <td>1.358362</td>\n",
       "      <td>-0.272066</td>\n",
       "      <td>-0.085500</td>\n",
       "      <td>-1.377568</td>\n",
       "      <td>-5.199338</td>\n",
       "      <td>-5.199338</td>\n",
       "      <td>...</td>\n",
       "      <td>5.199338</td>\n",
       "      <td>-5.199338</td>\n",
       "      <td>-5.199338</td>\n",
       "      <td>0.329890</td>\n",
       "      <td>-0.367258</td>\n",
       "      <td>0.314018</td>\n",
       "      <td>-0.902609</td>\n",
       "      <td>5.199338</td>\n",
       "      <td>1.521013</td>\n",
       "      <td>10900</td>\n",
       "    </tr>\n",
       "    <tr>\n",
       "      <th>2</th>\n",
       "      <td>-0.572277</td>\n",
       "      <td>-1.297705</td>\n",
       "      <td>0.171631</td>\n",
       "      <td>0.937119</td>\n",
       "      <td>-0.833062</td>\n",
       "      <td>0.438088</td>\n",
       "      <td>-1.220053</td>\n",
       "      <td>-0.794587</td>\n",
       "      <td>5.199338</td>\n",
       "      <td>-5.199338</td>\n",
       "      <td>...</td>\n",
       "      <td>-5.199338</td>\n",
       "      <td>5.199338</td>\n",
       "      <td>-5.199338</td>\n",
       "      <td>0.698331</td>\n",
       "      <td>0.833062</td>\n",
       "      <td>0.596109</td>\n",
       "      <td>5.199338</td>\n",
       "      <td>5.199338</td>\n",
       "      <td>1.521013</td>\n",
       "      <td>36100</td>\n",
       "    </tr>\n",
       "    <tr>\n",
       "      <th>3</th>\n",
       "      <td>0.635580</td>\n",
       "      <td>0.540027</td>\n",
       "      <td>0.519795</td>\n",
       "      <td>0.651025</td>\n",
       "      <td>0.361889</td>\n",
       "      <td>1.079060</td>\n",
       "      <td>0.933230</td>\n",
       "      <td>-1.018128</td>\n",
       "      <td>5.199338</td>\n",
       "      <td>-5.199338</td>\n",
       "      <td>...</td>\n",
       "      <td>-5.199338</td>\n",
       "      <td>-5.199338</td>\n",
       "      <td>5.199338</td>\n",
       "      <td>0.698331</td>\n",
       "      <td>1.663600</td>\n",
       "      <td>-1.056848</td>\n",
       "      <td>-0.902609</td>\n",
       "      <td>5.199338</td>\n",
       "      <td>1.521013</td>\n",
       "      <td>28000</td>\n",
       "    </tr>\n",
       "    <tr>\n",
       "      <th>4</th>\n",
       "      <td>3.744070</td>\n",
       "      <td>-2.967122</td>\n",
       "      <td>0.012559</td>\n",
       "      <td>-0.174181</td>\n",
       "      <td>3.436439</td>\n",
       "      <td>0.439471</td>\n",
       "      <td>1.120443</td>\n",
       "      <td>-2.877530</td>\n",
       "      <td>5.199338</td>\n",
       "      <td>-5.199338</td>\n",
       "      <td>...</td>\n",
       "      <td>-5.199338</td>\n",
       "      <td>-5.199338</td>\n",
       "      <td>-5.199338</td>\n",
       "      <td>-1.183849</td>\n",
       "      <td>0.277283</td>\n",
       "      <td>-0.287738</td>\n",
       "      <td>-0.367258</td>\n",
       "      <td>5.199338</td>\n",
       "      <td>1.521013</td>\n",
       "      <td>27990</td>\n",
       "    </tr>\n",
       "  </tbody>\n",
       "</table>\n",
       "<p>5 rows × 30 columns</p>\n",
       "</div>"
      ],
      "text/plain": [
       "   co2_emiss    height    length  max_speed  mixed_cons    weight  tank_vol  \\\n",
       "0  -1.120443  0.285121 -2.877530  -2.143610   -0.679227 -2.897385 -2.456544   \n",
       "1   1.303557 -1.624785 -0.685567   1.345832    1.358362 -0.272066 -0.085500   \n",
       "2  -0.572277 -1.297705  0.171631   0.937119   -0.833062  0.438088 -1.220053   \n",
       "3   0.635580  0.540027  0.519795   0.651025    0.361889  1.079060  0.933230   \n",
       "4   3.744070 -2.967122  0.012559  -0.174181    3.436439  0.439471  1.120443   \n",
       "\n",
       "        acc  gearbox_Automatic  gearbox_Direct  ...   doors_3   doors_4  \\\n",
       "0  1.199172           5.199338       -5.199338  ... -5.199338 -5.199338   \n",
       "1 -1.377568          -5.199338       -5.199338  ...  5.199338 -5.199338   \n",
       "2 -0.794587           5.199338       -5.199338  ... -5.199338  5.199338   \n",
       "3 -1.018128           5.199338       -5.199338  ... -5.199338 -5.199338   \n",
       "4 -2.877530           5.199338       -5.199338  ... -5.199338 -5.199338   \n",
       "\n",
       "    doors_5  brand_encoded  model_encoded  city_encoded  color_encoded  \\\n",
       "0 -5.199338      -1.579469      -1.083566     -1.505232      -0.902609   \n",
       "1 -5.199338       0.329890      -0.367258      0.314018      -0.902609   \n",
       "2 -5.199338       0.698331       0.833062      0.596109       5.199338   \n",
       "3  5.199338       0.698331       1.663600     -1.056848      -0.902609   \n",
       "4 -5.199338      -1.183849       0.277283     -0.287738      -0.367258   \n",
       "\n",
       "   type_encoded  chassis_encoded  price  \n",
       "0      5.199338         0.608153   5500  \n",
       "1      5.199338         1.521013  10900  \n",
       "2      5.199338         1.521013  36100  \n",
       "3      5.199338         1.521013  28000  \n",
       "4      5.199338         1.521013  27990  \n",
       "\n",
       "[5 rows x 30 columns]"
      ]
     },
     "execution_count": 2,
     "metadata": {},
     "output_type": "execute_result"
    }
   ],
   "source": [
    "root = r'../data/regression/cars_reg_trf.csv'\n",
    "\n",
    "df = pd.read_csv(root)\n",
    "\n",
    "df.head()"
   ]
  },
  {
   "cell_type": "code",
   "execution_count": 3,
   "metadata": {},
   "outputs": [
    {
     "name": "stdout",
     "output_type": "stream",
     "text": [
      "(55366, 29)\n",
      "(55366,)\n",
      "Correct shape to proceed with the fit!\n"
     ]
    }
   ],
   "source": [
    "# splitting features (X) & target (y)\n",
    "X = df.drop('price', axis=1)\n",
    "y = df['price']\n",
    "\n",
    "print(X.shape)\n",
    "print(y.shape)\n",
    "\n",
    "if X.shape[0] == y.shape[0]:\n",
    "    print(\"Correct shape to proceed with the fit!\")\n",
    "else:\n",
    "    print(\"Please, review the shape since it is not matching fot X & y\")"
   ]
  },
  {
   "cell_type": "markdown",
   "metadata": {},
   "source": [
    "## Optimizing Hyperparameters with Grid & Random Search\n",
    "\n",
    "I found [this Towards Data Science article](https://towardsdatascience.com/hyperparameter-tuning-the-random-forest-in-python-using-scikit-learn-28d2aa77dd74) really useful to build the search methods and find the best hyperparameters. First let's define the `parameters` of each search:\n",
    "* model\n",
    "* space\n",
    "* cv\n",
    "* scoring"
   ]
  },
  {
   "cell_type": "markdown",
   "metadata": {},
   "source": [
    "### Random Search method"
   ]
  },
  {
   "cell_type": "markdown",
   "metadata": {},
   "source": [
    "These are the `random Forest Regressor` hyperparameters:\n",
    "- `n_estimators` => number of trees in the foreset\n",
    "- `max_features` => max number of features considered for splitting a node\n",
    "- `max_depth` => max number of levels in each decision tree\n",
    "- `min_samples_split` => min number of data points placed in a node before the node is split\n",
    "- `min_samples_leaf` => min number of data points allowed in a leaf node\n",
    "- `bootstrap` => method for sampling data points (with or without replacement)\n",
    "\n",
    "Their impact to the model is better explained in [this hyperparameter tuning article](https://www.analyticsvidhya.com/blog/2020/03/beginners-guide-random-forest-hyperparameter-tuning/) dedicated to `RF`."
   ]
  },
  {
   "cell_type": "code",
   "execution_count": 4,
   "metadata": {},
   "outputs": [],
   "source": [
    "# define model\n",
    "rf = RandomForestRegressor()\n",
    "\n",
    "# define search space\n",
    "param_grid = dict()\n",
    "param_grid['n_estimators'] = [int(x) for x in np.linspace(start = 10, stop = 200, num = 5)]\n",
    "param_grid['max_features'] = ['auto', 'sqrt', 'log2']\n",
    "param_grid['max_depth'] = [int(x) for x in np.linspace(10, 50, num = 5)]\n",
    "param_grid['max_depth'].append(None)\n",
    "param_grid['min_samples_split'] = [2, 5, 10]\n",
    "param_grid['min_samples_leaf'] = [1, 2, 4]\n",
    "param_grid['bootstrap'] = [True, False]\n",
    "\n",
    "# define evaluation\n",
    "cv = RepeatedKFold(n_splits=10, n_repeats=3, random_state=33)\n",
    "\n",
    "# define scoring\n",
    "scoring='r2'\n",
    "\n",
    "# define RandomSearchCV\n",
    "search_rdm = RandomizedSearchCV(estimator=rf,\n",
    "                                param_distributions=param_grid,\n",
    "                                n_iter=100,\n",
    "                                cv=cv,\n",
    "                                scoring=scoring,\n",
    "                                return_train_score=True,\n",
    "                                n_jobs=-1,\n",
    "                                random_state=33)"
   ]
  },
  {
   "cell_type": "code",
   "execution_count": 5,
   "metadata": {},
   "outputs": [
    {
     "data": {
      "text/plain": [
       "{'n_estimators': [10, 57, 105, 152, 200],\n",
       " 'max_features': ['auto', 'sqrt', 'log2'],\n",
       " 'max_depth': [10, 20, 30, 40, 50, None],\n",
       " 'min_samples_split': [2, 5, 10],\n",
       " 'min_samples_leaf': [1, 2, 4],\n",
       " 'bootstrap': [True, False]}"
      ]
     },
     "execution_count": 5,
     "metadata": {},
     "output_type": "execute_result"
    }
   ],
   "source": [
    "param_grid"
   ]
  },
  {
   "cell_type": "code",
   "execution_count": 6,
   "metadata": {},
   "outputs": [
    {
     "name": "stderr",
     "output_type": "stream",
     "text": [
      "/home/dsc/anaconda3/lib/python3.7/site-packages/joblib/externals/loky/process_executor.py:691: UserWarning: A worker stopped while some jobs were given to the executor. This can be caused by a too short worker timeout or by a memory leak.\n",
      "  \"timeout or by a memory leak.\", UserWarning\n"
     ]
    }
   ],
   "source": [
    "# execute search\n",
    "start_time = time()\n",
    "\n",
    "result_rdm = search_rdm.fit(X, y)\n",
    "\n",
    "rdm_time = time() - start_time"
   ]
  },
  {
   "cell_type": "code",
   "execution_count": 7,
   "metadata": {},
   "outputs": [
    {
     "name": "stdout",
     "output_type": "stream",
     "text": [
      "Best Score: 0.8886159519268148\n",
      "Best Hyperparameters: {'n_estimators': 200, 'min_samples_split': 10, 'min_samples_leaf': 1, 'max_features': 'sqrt', 'max_depth': None, 'bootstrap': False}\n",
      "Time consumed on the Seach: 14787.887508630753\n"
     ]
    }
   ],
   "source": [
    "# summarize result\n",
    "print('Best Score: {}'.format(result_rdm.best_score_))\n",
    "print('Best Hyperparameters: {}'.format(result_rdm.best_params_))\n",
    "print('Time consumed on the Seach: {}'.format(rdm_time))"
   ]
  },
  {
   "cell_type": "markdown",
   "metadata": {},
   "source": [
    "### Grid Search method\n",
    "\n",
    "Random Search method is used to reduce the range of values for each hyperparameter. Therefore, we can specify now the best configurations found to be adjusted in a Grid Search."
   ]
  },
  {
   "cell_type": "code",
   "execution_count": 8,
   "metadata": {},
   "outputs": [],
   "source": [
    "# define model\n",
    "rf = RandomForestRegressor()\n",
    "\n",
    "# define search space\n",
    "param_grid = dict()\n",
    "param_grid['n_estimators'] = [200, 225, 250]\n",
    "param_grid['max_features'] = ['sqrt']\n",
    "param_grid['max_depth'] = [80, 100, None]\n",
    "param_grid['min_samples_split'] = [10, 15]\n",
    "param_grid['min_samples_leaf'] = [1, 2]\n",
    "param_grid['bootstrap'] = [False]\n",
    "\n",
    "# define evaluation\n",
    "cv = RepeatedKFold(n_splits=10, n_repeats=3, random_state=33)\n",
    "\n",
    "# define scoring\n",
    "scoring='r2'\n",
    "\n",
    "# define GridSearchCV\n",
    "search_grd = GridSearchCV(estimator=rf,\n",
    "                          param_grid=param_grid,\n",
    "                          cv=cv,\n",
    "                          scoring=scoring,\n",
    "                          return_train_score=True,\n",
    "                          n_jobs=-1)"
   ]
  },
  {
   "cell_type": "code",
   "execution_count": 9,
   "metadata": {},
   "outputs": [
    {
     "data": {
      "text/plain": [
       "{'n_estimators': [200, 225, 250],\n",
       " 'max_features': ['sqrt'],\n",
       " 'max_depth': [80, 100, None],\n",
       " 'min_samples_split': [10, 15],\n",
       " 'min_samples_leaf': [1, 2],\n",
       " 'bootstrap': [False]}"
      ]
     },
     "execution_count": 9,
     "metadata": {},
     "output_type": "execute_result"
    }
   ],
   "source": [
    "param_grid"
   ]
  },
  {
   "cell_type": "markdown",
   "metadata": {},
   "source": [
    "Once the search is defined, it is possible to conform the `fit` to the data and search for the best resulting `hyperparameters`."
   ]
  },
  {
   "cell_type": "code",
   "execution_count": 10,
   "metadata": {},
   "outputs": [],
   "source": [
    "# execute search\n",
    "start_time = time()\n",
    "\n",
    "result_grd = search_grd.fit(X, y)\n",
    "\n",
    "grd_time = time() - start_time"
   ]
  },
  {
   "cell_type": "code",
   "execution_count": 11,
   "metadata": {},
   "outputs": [
    {
     "name": "stdout",
     "output_type": "stream",
     "text": [
      "Best Score: 0.888864386509336\n",
      "Best Hyperparameters: {'bootstrap': False, 'max_depth': None, 'max_features': 'sqrt', 'min_samples_leaf': 1, 'min_samples_split': 10, 'n_estimators': 250}\n",
      "Time consumed on the Seach: 5994.754474639893\n"
     ]
    }
   ],
   "source": [
    "# summarize result\n",
    "print('Best Score: {}'.format(result_grd.best_score_))\n",
    "print('Best Hyperparameters: {}'.format(result_grd.best_params_))\n",
    "print('Time consumed on the Seach: {}'.format(grd_time))"
   ]
  },
  {
   "cell_type": "markdown",
   "metadata": {},
   "source": [
    "## Visualizing the results"
   ]
  },
  {
   "cell_type": "code",
   "execution_count": 100,
   "metadata": {},
   "outputs": [],
   "source": [
    "import sys\n",
    "sys.path.append('..')\n",
    "from modules import plotter\n",
    "from modules.plotter import plot_search_results\n",
    "import matplotlib.pyplot as plt"
   ]
  },
  {
   "cell_type": "raw",
   "metadata": {},
   "source": [
    "from importlib import reload\n",
    "import modules\n",
    "from modules import plotter\n",
    "reload(plotter)"
   ]
  },
  {
   "cell_type": "markdown",
   "metadata": {},
   "source": [
    "### Random Search"
   ]
  },
  {
   "cell_type": "markdown",
   "metadata": {},
   "source": [
    "The best score obtained was `0.8886`, so with which estimator did we obtained these results? "
   ]
  },
  {
   "cell_type": "code",
   "execution_count": 13,
   "metadata": {},
   "outputs": [
    {
     "data": {
      "text/plain": [
       "RandomForestRegressor(bootstrap=False, max_features='sqrt',\n",
       "                      min_samples_split=10, n_estimators=200)"
      ]
     },
     "execution_count": 13,
     "metadata": {},
     "output_type": "execute_result"
    }
   ],
   "source": [
    "result_rdm.best_estimator_"
   ]
  },
  {
   "cell_type": "code",
   "execution_count": 50,
   "metadata": {},
   "outputs": [
    {
     "data": {
      "text/plain": [
       "{'n_estimators': 200,\n",
       " 'min_samples_split': 10,\n",
       " 'min_samples_leaf': 1,\n",
       " 'max_features': 'sqrt',\n",
       " 'max_depth': None,\n",
       " 'bootstrap': False}"
      ]
     },
     "execution_count": 50,
     "metadata": {},
     "output_type": "execute_result"
    }
   ],
   "source": [
    "result_rdm.best_params_"
   ]
  },
  {
   "cell_type": "code",
   "execution_count": 14,
   "metadata": {},
   "outputs": [
    {
     "data": {
      "text/html": [
       "<div>\n",
       "<style scoped>\n",
       "    .dataframe tbody tr th:only-of-type {\n",
       "        vertical-align: middle;\n",
       "    }\n",
       "\n",
       "    .dataframe tbody tr th {\n",
       "        vertical-align: top;\n",
       "    }\n",
       "\n",
       "    .dataframe thead th {\n",
       "        text-align: right;\n",
       "    }\n",
       "</style>\n",
       "<table border=\"1\" class=\"dataframe\">\n",
       "  <thead>\n",
       "    <tr style=\"text-align: right;\">\n",
       "      <th></th>\n",
       "      <th>mean_fit_time</th>\n",
       "      <th>std_fit_time</th>\n",
       "      <th>mean_score_time</th>\n",
       "      <th>std_score_time</th>\n",
       "      <th>param_n_estimators</th>\n",
       "      <th>param_min_samples_split</th>\n",
       "      <th>param_min_samples_leaf</th>\n",
       "      <th>param_max_features</th>\n",
       "      <th>param_max_depth</th>\n",
       "      <th>param_bootstrap</th>\n",
       "      <th>...</th>\n",
       "      <th>split22_train_score</th>\n",
       "      <th>split23_train_score</th>\n",
       "      <th>split24_train_score</th>\n",
       "      <th>split25_train_score</th>\n",
       "      <th>split26_train_score</th>\n",
       "      <th>split27_train_score</th>\n",
       "      <th>split28_train_score</th>\n",
       "      <th>split29_train_score</th>\n",
       "      <th>mean_train_score</th>\n",
       "      <th>std_train_score</th>\n",
       "    </tr>\n",
       "  </thead>\n",
       "  <tbody>\n",
       "    <tr>\n",
       "      <th>0</th>\n",
       "      <td>0.740923</td>\n",
       "      <td>0.127059</td>\n",
       "      <td>0.021175</td>\n",
       "      <td>0.011793</td>\n",
       "      <td>10</td>\n",
       "      <td>2</td>\n",
       "      <td>2</td>\n",
       "      <td>log2</td>\n",
       "      <td>50</td>\n",
       "      <td>True</td>\n",
       "      <td>...</td>\n",
       "      <td>0.934823</td>\n",
       "      <td>0.933372</td>\n",
       "      <td>0.935410</td>\n",
       "      <td>0.935044</td>\n",
       "      <td>0.932925</td>\n",
       "      <td>0.935242</td>\n",
       "      <td>0.934947</td>\n",
       "      <td>0.935782</td>\n",
       "      <td>0.934987</td>\n",
       "      <td>0.000849</td>\n",
       "    </tr>\n",
       "    <tr>\n",
       "      <th>1</th>\n",
       "      <td>2.875586</td>\n",
       "      <td>0.220220</td>\n",
       "      <td>0.061313</td>\n",
       "      <td>0.019274</td>\n",
       "      <td>57</td>\n",
       "      <td>10</td>\n",
       "      <td>2</td>\n",
       "      <td>log2</td>\n",
       "      <td>20</td>\n",
       "      <td>True</td>\n",
       "      <td>...</td>\n",
       "      <td>0.920566</td>\n",
       "      <td>0.920039</td>\n",
       "      <td>0.920009</td>\n",
       "      <td>0.920324</td>\n",
       "      <td>0.919173</td>\n",
       "      <td>0.920278</td>\n",
       "      <td>0.920173</td>\n",
       "      <td>0.920912</td>\n",
       "      <td>0.920164</td>\n",
       "      <td>0.000538</td>\n",
       "    </tr>\n",
       "    <tr>\n",
       "      <th>2</th>\n",
       "      <td>7.711381</td>\n",
       "      <td>2.128559</td>\n",
       "      <td>0.164283</td>\n",
       "      <td>0.062012</td>\n",
       "      <td>105</td>\n",
       "      <td>10</td>\n",
       "      <td>1</td>\n",
       "      <td>log2</td>\n",
       "      <td>30</td>\n",
       "      <td>True</td>\n",
       "      <td>...</td>\n",
       "      <td>0.935894</td>\n",
       "      <td>0.936315</td>\n",
       "      <td>0.935757</td>\n",
       "      <td>0.935808</td>\n",
       "      <td>0.934885</td>\n",
       "      <td>0.935925</td>\n",
       "      <td>0.936323</td>\n",
       "      <td>0.936458</td>\n",
       "      <td>0.935950</td>\n",
       "      <td>0.000409</td>\n",
       "    </tr>\n",
       "    <tr>\n",
       "      <th>3</th>\n",
       "      <td>6.145517</td>\n",
       "      <td>0.318382</td>\n",
       "      <td>0.071924</td>\n",
       "      <td>0.008041</td>\n",
       "      <td>152</td>\n",
       "      <td>10</td>\n",
       "      <td>1</td>\n",
       "      <td>log2</td>\n",
       "      <td>10</td>\n",
       "      <td>False</td>\n",
       "      <td>...</td>\n",
       "      <td>0.825343</td>\n",
       "      <td>0.825495</td>\n",
       "      <td>0.823946</td>\n",
       "      <td>0.824895</td>\n",
       "      <td>0.825568</td>\n",
       "      <td>0.822883</td>\n",
       "      <td>0.825189</td>\n",
       "      <td>0.824222</td>\n",
       "      <td>0.824840</td>\n",
       "      <td>0.001130</td>\n",
       "    </tr>\n",
       "    <tr>\n",
       "      <th>4</th>\n",
       "      <td>9.374073</td>\n",
       "      <td>0.106338</td>\n",
       "      <td>0.145033</td>\n",
       "      <td>0.005145</td>\n",
       "      <td>105</td>\n",
       "      <td>2</td>\n",
       "      <td>1</td>\n",
       "      <td>log2</td>\n",
       "      <td>20</td>\n",
       "      <td>False</td>\n",
       "      <td>...</td>\n",
       "      <td>0.981381</td>\n",
       "      <td>0.980946</td>\n",
       "      <td>0.981539</td>\n",
       "      <td>0.981430</td>\n",
       "      <td>0.981939</td>\n",
       "      <td>0.981249</td>\n",
       "      <td>0.981820</td>\n",
       "      <td>0.981700</td>\n",
       "      <td>0.981466</td>\n",
       "      <td>0.000252</td>\n",
       "    </tr>\n",
       "  </tbody>\n",
       "</table>\n",
       "<p>5 rows × 76 columns</p>\n",
       "</div>"
      ],
      "text/plain": [
       "   mean_fit_time  std_fit_time  mean_score_time  std_score_time  \\\n",
       "0       0.740923      0.127059         0.021175        0.011793   \n",
       "1       2.875586      0.220220         0.061313        0.019274   \n",
       "2       7.711381      2.128559         0.164283        0.062012   \n",
       "3       6.145517      0.318382         0.071924        0.008041   \n",
       "4       9.374073      0.106338         0.145033        0.005145   \n",
       "\n",
       "  param_n_estimators param_min_samples_split param_min_samples_leaf  \\\n",
       "0                 10                       2                      2   \n",
       "1                 57                      10                      2   \n",
       "2                105                      10                      1   \n",
       "3                152                      10                      1   \n",
       "4                105                       2                      1   \n",
       "\n",
       "  param_max_features param_max_depth param_bootstrap  ... split22_train_score  \\\n",
       "0               log2              50            True  ...            0.934823   \n",
       "1               log2              20            True  ...            0.920566   \n",
       "2               log2              30            True  ...            0.935894   \n",
       "3               log2              10           False  ...            0.825343   \n",
       "4               log2              20           False  ...            0.981381   \n",
       "\n",
       "   split23_train_score  split24_train_score  split25_train_score  \\\n",
       "0             0.933372             0.935410             0.935044   \n",
       "1             0.920039             0.920009             0.920324   \n",
       "2             0.936315             0.935757             0.935808   \n",
       "3             0.825495             0.823946             0.824895   \n",
       "4             0.980946             0.981539             0.981430   \n",
       "\n",
       "   split26_train_score  split27_train_score  split28_train_score  \\\n",
       "0             0.932925             0.935242             0.934947   \n",
       "1             0.919173             0.920278             0.920173   \n",
       "2             0.934885             0.935925             0.936323   \n",
       "3             0.825568             0.822883             0.825189   \n",
       "4             0.981939             0.981249             0.981820   \n",
       "\n",
       "   split29_train_score  mean_train_score  std_train_score  \n",
       "0             0.935782          0.934987         0.000849  \n",
       "1             0.920912          0.920164         0.000538  \n",
       "2             0.936458          0.935950         0.000409  \n",
       "3             0.824222          0.824840         0.001130  \n",
       "4             0.981700          0.981466         0.000252  \n",
       "\n",
       "[5 rows x 76 columns]"
      ]
     },
     "execution_count": 14,
     "metadata": {},
     "output_type": "execute_result"
    }
   ],
   "source": [
    "pd.DataFrame(result_rdm.cv_results_).head()"
   ]
  },
  {
   "cell_type": "markdown",
   "metadata": {},
   "source": [
    "### Grid Search"
   ]
  },
  {
   "cell_type": "markdown",
   "metadata": {},
   "source": [
    "The Best Score obtained was `0.8888`, but which one is the best estimator?"
   ]
  },
  {
   "cell_type": "code",
   "execution_count": 19,
   "metadata": {},
   "outputs": [
    {
     "data": {
      "text/plain": [
       "RandomForestRegressor(bootstrap=False, max_features='sqrt',\n",
       "                      min_samples_split=10, n_estimators=250)"
      ]
     },
     "execution_count": 19,
     "metadata": {},
     "output_type": "execute_result"
    }
   ],
   "source": [
    "result_grd.best_estimator_"
   ]
  },
  {
   "cell_type": "code",
   "execution_count": 49,
   "metadata": {},
   "outputs": [
    {
     "data": {
      "text/plain": [
       "{'bootstrap': False,\n",
       " 'max_depth': None,\n",
       " 'max_features': 'sqrt',\n",
       " 'min_samples_leaf': 1,\n",
       " 'min_samples_split': 10,\n",
       " 'n_estimators': 250}"
      ]
     },
     "execution_count": 49,
     "metadata": {},
     "output_type": "execute_result"
    }
   ],
   "source": [
    "result_grd.best_params_"
   ]
  },
  {
   "cell_type": "code",
   "execution_count": 20,
   "metadata": {},
   "outputs": [
    {
     "data": {
      "text/html": [
       "<div>\n",
       "<style scoped>\n",
       "    .dataframe tbody tr th:only-of-type {\n",
       "        vertical-align: middle;\n",
       "    }\n",
       "\n",
       "    .dataframe tbody tr th {\n",
       "        vertical-align: top;\n",
       "    }\n",
       "\n",
       "    .dataframe thead th {\n",
       "        text-align: right;\n",
       "    }\n",
       "</style>\n",
       "<table border=\"1\" class=\"dataframe\">\n",
       "  <thead>\n",
       "    <tr style=\"text-align: right;\">\n",
       "      <th></th>\n",
       "      <th>mean_fit_time</th>\n",
       "      <th>std_fit_time</th>\n",
       "      <th>mean_score_time</th>\n",
       "      <th>std_score_time</th>\n",
       "      <th>param_bootstrap</th>\n",
       "      <th>param_max_depth</th>\n",
       "      <th>param_max_features</th>\n",
       "      <th>param_min_samples_leaf</th>\n",
       "      <th>param_min_samples_split</th>\n",
       "      <th>param_n_estimators</th>\n",
       "      <th>...</th>\n",
       "      <th>split22_train_score</th>\n",
       "      <th>split23_train_score</th>\n",
       "      <th>split24_train_score</th>\n",
       "      <th>split25_train_score</th>\n",
       "      <th>split26_train_score</th>\n",
       "      <th>split27_train_score</th>\n",
       "      <th>split28_train_score</th>\n",
       "      <th>split29_train_score</th>\n",
       "      <th>mean_train_score</th>\n",
       "      <th>std_train_score</th>\n",
       "    </tr>\n",
       "  </thead>\n",
       "  <tbody>\n",
       "    <tr>\n",
       "      <th>0</th>\n",
       "      <td>18.652655</td>\n",
       "      <td>0.289996</td>\n",
       "      <td>0.337124</td>\n",
       "      <td>0.043966</td>\n",
       "      <td>False</td>\n",
       "      <td>80</td>\n",
       "      <td>sqrt</td>\n",
       "      <td>1</td>\n",
       "      <td>10</td>\n",
       "      <td>200</td>\n",
       "      <td>...</td>\n",
       "      <td>0.959763</td>\n",
       "      <td>0.959835</td>\n",
       "      <td>0.960157</td>\n",
       "      <td>0.959841</td>\n",
       "      <td>0.959513</td>\n",
       "      <td>0.960096</td>\n",
       "      <td>0.960535</td>\n",
       "      <td>0.960038</td>\n",
       "      <td>0.960024</td>\n",
       "      <td>0.000273</td>\n",
       "    </tr>\n",
       "    <tr>\n",
       "      <th>1</th>\n",
       "      <td>20.909574</td>\n",
       "      <td>0.211488</td>\n",
       "      <td>0.366931</td>\n",
       "      <td>0.013159</td>\n",
       "      <td>False</td>\n",
       "      <td>80</td>\n",
       "      <td>sqrt</td>\n",
       "      <td>1</td>\n",
       "      <td>10</td>\n",
       "      <td>225</td>\n",
       "      <td>...</td>\n",
       "      <td>0.959746</td>\n",
       "      <td>0.959945</td>\n",
       "      <td>0.960140</td>\n",
       "      <td>0.959960</td>\n",
       "      <td>0.959479</td>\n",
       "      <td>0.960216</td>\n",
       "      <td>0.960653</td>\n",
       "      <td>0.959863</td>\n",
       "      <td>0.960011</td>\n",
       "      <td>0.000294</td>\n",
       "    </tr>\n",
       "    <tr>\n",
       "      <th>2</th>\n",
       "      <td>23.216240</td>\n",
       "      <td>0.227484</td>\n",
       "      <td>0.408126</td>\n",
       "      <td>0.010628</td>\n",
       "      <td>False</td>\n",
       "      <td>80</td>\n",
       "      <td>sqrt</td>\n",
       "      <td>1</td>\n",
       "      <td>10</td>\n",
       "      <td>250</td>\n",
       "      <td>...</td>\n",
       "      <td>0.959637</td>\n",
       "      <td>0.959964</td>\n",
       "      <td>0.960085</td>\n",
       "      <td>0.959913</td>\n",
       "      <td>0.959505</td>\n",
       "      <td>0.960165</td>\n",
       "      <td>0.960582</td>\n",
       "      <td>0.959946</td>\n",
       "      <td>0.960025</td>\n",
       "      <td>0.000288</td>\n",
       "    </tr>\n",
       "    <tr>\n",
       "      <th>3</th>\n",
       "      <td>17.337853</td>\n",
       "      <td>0.382590</td>\n",
       "      <td>0.285017</td>\n",
       "      <td>0.012821</td>\n",
       "      <td>False</td>\n",
       "      <td>80</td>\n",
       "      <td>sqrt</td>\n",
       "      <td>1</td>\n",
       "      <td>15</td>\n",
       "      <td>200</td>\n",
       "      <td>...</td>\n",
       "      <td>0.947548</td>\n",
       "      <td>0.947675</td>\n",
       "      <td>0.947798</td>\n",
       "      <td>0.947525</td>\n",
       "      <td>0.946910</td>\n",
       "      <td>0.947818</td>\n",
       "      <td>0.948143</td>\n",
       "      <td>0.947905</td>\n",
       "      <td>0.947722</td>\n",
       "      <td>0.000350</td>\n",
       "    </tr>\n",
       "    <tr>\n",
       "      <th>4</th>\n",
       "      <td>19.371839</td>\n",
       "      <td>0.199042</td>\n",
       "      <td>0.318785</td>\n",
       "      <td>0.011295</td>\n",
       "      <td>False</td>\n",
       "      <td>80</td>\n",
       "      <td>sqrt</td>\n",
       "      <td>1</td>\n",
       "      <td>15</td>\n",
       "      <td>225</td>\n",
       "      <td>...</td>\n",
       "      <td>0.947607</td>\n",
       "      <td>0.947743</td>\n",
       "      <td>0.947722</td>\n",
       "      <td>0.947823</td>\n",
       "      <td>0.946937</td>\n",
       "      <td>0.947826</td>\n",
       "      <td>0.948238</td>\n",
       "      <td>0.947828</td>\n",
       "      <td>0.947781</td>\n",
       "      <td>0.000341</td>\n",
       "    </tr>\n",
       "  </tbody>\n",
       "</table>\n",
       "<p>5 rows × 76 columns</p>\n",
       "</div>"
      ],
      "text/plain": [
       "   mean_fit_time  std_fit_time  mean_score_time  std_score_time  \\\n",
       "0      18.652655      0.289996         0.337124        0.043966   \n",
       "1      20.909574      0.211488         0.366931        0.013159   \n",
       "2      23.216240      0.227484         0.408126        0.010628   \n",
       "3      17.337853      0.382590         0.285017        0.012821   \n",
       "4      19.371839      0.199042         0.318785        0.011295   \n",
       "\n",
       "  param_bootstrap param_max_depth param_max_features param_min_samples_leaf  \\\n",
       "0           False              80               sqrt                      1   \n",
       "1           False              80               sqrt                      1   \n",
       "2           False              80               sqrt                      1   \n",
       "3           False              80               sqrt                      1   \n",
       "4           False              80               sqrt                      1   \n",
       "\n",
       "  param_min_samples_split param_n_estimators  ... split22_train_score  \\\n",
       "0                      10                200  ...            0.959763   \n",
       "1                      10                225  ...            0.959746   \n",
       "2                      10                250  ...            0.959637   \n",
       "3                      15                200  ...            0.947548   \n",
       "4                      15                225  ...            0.947607   \n",
       "\n",
       "   split23_train_score  split24_train_score  split25_train_score  \\\n",
       "0             0.959835             0.960157             0.959841   \n",
       "1             0.959945             0.960140             0.959960   \n",
       "2             0.959964             0.960085             0.959913   \n",
       "3             0.947675             0.947798             0.947525   \n",
       "4             0.947743             0.947722             0.947823   \n",
       "\n",
       "   split26_train_score  split27_train_score  split28_train_score  \\\n",
       "0             0.959513             0.960096             0.960535   \n",
       "1             0.959479             0.960216             0.960653   \n",
       "2             0.959505             0.960165             0.960582   \n",
       "3             0.946910             0.947818             0.948143   \n",
       "4             0.946937             0.947826             0.948238   \n",
       "\n",
       "   split29_train_score  mean_train_score  std_train_score  \n",
       "0             0.960038          0.960024         0.000273  \n",
       "1             0.959863          0.960011         0.000294  \n",
       "2             0.959946          0.960025         0.000288  \n",
       "3             0.947905          0.947722         0.000350  \n",
       "4             0.947828          0.947781         0.000341  \n",
       "\n",
       "[5 rows x 76 columns]"
      ]
     },
     "execution_count": 20,
     "metadata": {},
     "output_type": "execute_result"
    }
   ],
   "source": [
    "pd.DataFrame(result_grd.cv_results_).head()"
   ]
  },
  {
   "cell_type": "code",
   "execution_count": 101,
   "metadata": {},
   "outputs": [
    {
     "data": {
      "image/png": "[encoded data removed]",
      "text/plain": [
       "<Figure size 1440x360 with 6 Axes>"
      ]
     },
     "metadata": {
      "needs_background": "light"
     },
     "output_type": "display_data"
    }
   ],
   "source": [
    "plot_search_results(result_grd, search='GridSearchCV')\n",
    "plt.savefig('fig/11_grid_search.png')"
   ]
  },
  {
   "cell_type": "markdown",
   "metadata": {},
   "source": [
    "From the previous plot, we can visualize how was the performance of the model (MEAN SCORE) for each value that each parameter adopted."
   ]
  }
 ],
 "metadata": {
  "kernelspec": {
   "display_name": "Python 3",
   "language": "python",
   "name": "python3"
  },
  "language_info": {
   "codemirror_mode": {
    "name": "ipython",
    "version": 3
   },
   "file_extension": ".py",
   "mimetype": "text/x-python",
   "name": "python",
   "nbconvert_exporter": "python",
   "pygments_lexer": "ipython3",
   "version": "3.7.1"
  }
 },
 "nbformat": 4,
 "nbformat_minor": 4
}
