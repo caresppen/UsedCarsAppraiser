{
 "cells": [
  {
   "cell_type": "markdown",
   "metadata": {},
   "source": [
    "# Final Model Configuration"
   ]
  },
  {
   "cell_type": "markdown",
   "metadata": {},
   "source": [
    "In this notebook, it is covered the conformation of the final regression model to predict cars prices. To this aim, the next steps will be followed:\n",
    "* Divide the dataset into train & split values.\n",
    "* Train a Random Forest Regressor with the optimal hyperparameters found.\n",
    "* Predict on test data.\n",
    "* Plot actual vs predicted values.\n",
    "* Model persistence. Saving the model with pickle."
   ]
  },
  {
   "cell_type": "code",
   "execution_count": 1,
   "metadata": {},
   "outputs": [],
   "source": [
    "import pandas as pd\n",
    "import numpy as np\n",
    "from time import time\n",
    "import pickle\n",
    "import sys\n",
    "sys.path.append('..')\n",
    "\n",
    "from sklearn.model_selection import train_test_split\n",
    "from sklearn.ensemble import RandomForestRegressor\n",
    "from modules.model_evaluator import run_cv_reg"
   ]
  },
  {
   "cell_type": "markdown",
   "metadata": {},
   "source": [
    "## 1. Import data"
   ]
  },
  {
   "cell_type": "code",
   "execution_count": 2,
   "metadata": {},
   "outputs": [
    {
     "data": {
      "text/html": [
       "<div>\n",
       "<style scoped>\n",
       "    .dataframe tbody tr th:only-of-type {\n",
       "        vertical-align: middle;\n",
       "    }\n",
       "\n",
       "    .dataframe tbody tr th {\n",
       "        vertical-align: top;\n",
       "    }\n",
       "\n",
       "    .dataframe thead th {\n",
       "        text-align: right;\n",
       "    }\n",
       "</style>\n",
       "<table border=\"1\" class=\"dataframe\">\n",
       "  <thead>\n",
       "    <tr style=\"text-align: right;\">\n",
       "      <th></th>\n",
       "      <th>co2_emiss</th>\n",
       "      <th>height</th>\n",
       "      <th>length</th>\n",
       "      <th>max_speed</th>\n",
       "      <th>mixed_cons</th>\n",
       "      <th>weight</th>\n",
       "      <th>tank_vol</th>\n",
       "      <th>acc</th>\n",
       "      <th>gearbox_Automatic</th>\n",
       "      <th>gearbox_Direct</th>\n",
       "      <th>...</th>\n",
       "      <th>doors_3</th>\n",
       "      <th>doors_4</th>\n",
       "      <th>doors_5</th>\n",
       "      <th>brand_encoded</th>\n",
       "      <th>model_encoded</th>\n",
       "      <th>city_encoded</th>\n",
       "      <th>color_encoded</th>\n",
       "      <th>type_encoded</th>\n",
       "      <th>chassis_encoded</th>\n",
       "      <th>price</th>\n",
       "    </tr>\n",
       "  </thead>\n",
       "  <tbody>\n",
       "    <tr>\n",
       "      <th>0</th>\n",
       "      <td>-1.120443</td>\n",
       "      <td>0.285121</td>\n",
       "      <td>-2.877530</td>\n",
       "      <td>-2.143610</td>\n",
       "      <td>-0.679227</td>\n",
       "      <td>-2.897385</td>\n",
       "      <td>-2.456544</td>\n",
       "      <td>1.199172</td>\n",
       "      <td>5.199338</td>\n",
       "      <td>-5.199338</td>\n",
       "      <td>...</td>\n",
       "      <td>-5.199338</td>\n",
       "      <td>-5.199338</td>\n",
       "      <td>-5.199338</td>\n",
       "      <td>-1.579469</td>\n",
       "      <td>-1.083566</td>\n",
       "      <td>-1.505232</td>\n",
       "      <td>-0.902609</td>\n",
       "      <td>5.199338</td>\n",
       "      <td>0.608153</td>\n",
       "      <td>5500</td>\n",
       "    </tr>\n",
       "    <tr>\n",
       "      <th>1</th>\n",
       "      <td>1.303557</td>\n",
       "      <td>-1.624785</td>\n",
       "      <td>-0.685567</td>\n",
       "      <td>1.345832</td>\n",
       "      <td>1.358362</td>\n",
       "      <td>-0.272066</td>\n",
       "      <td>-0.085500</td>\n",
       "      <td>-1.377568</td>\n",
       "      <td>-5.199338</td>\n",
       "      <td>-5.199338</td>\n",
       "      <td>...</td>\n",
       "      <td>5.199338</td>\n",
       "      <td>-5.199338</td>\n",
       "      <td>-5.199338</td>\n",
       "      <td>0.329890</td>\n",
       "      <td>-0.367258</td>\n",
       "      <td>0.314018</td>\n",
       "      <td>-0.902609</td>\n",
       "      <td>5.199338</td>\n",
       "      <td>1.521013</td>\n",
       "      <td>10900</td>\n",
       "    </tr>\n",
       "    <tr>\n",
       "      <th>2</th>\n",
       "      <td>-0.572277</td>\n",
       "      <td>-1.297705</td>\n",
       "      <td>0.171631</td>\n",
       "      <td>0.937119</td>\n",
       "      <td>-0.833062</td>\n",
       "      <td>0.438088</td>\n",
       "      <td>-1.220053</td>\n",
       "      <td>-0.794587</td>\n",
       "      <td>5.199338</td>\n",
       "      <td>-5.199338</td>\n",
       "      <td>...</td>\n",
       "      <td>-5.199338</td>\n",
       "      <td>5.199338</td>\n",
       "      <td>-5.199338</td>\n",
       "      <td>0.698331</td>\n",
       "      <td>0.833062</td>\n",
       "      <td>0.596109</td>\n",
       "      <td>5.199338</td>\n",
       "      <td>5.199338</td>\n",
       "      <td>1.521013</td>\n",
       "      <td>36100</td>\n",
       "    </tr>\n",
       "    <tr>\n",
       "      <th>3</th>\n",
       "      <td>0.635580</td>\n",
       "      <td>0.540027</td>\n",
       "      <td>0.519795</td>\n",
       "      <td>0.651025</td>\n",
       "      <td>0.361889</td>\n",
       "      <td>1.079060</td>\n",
       "      <td>0.933230</td>\n",
       "      <td>-1.018128</td>\n",
       "      <td>5.199338</td>\n",
       "      <td>-5.199338</td>\n",
       "      <td>...</td>\n",
       "      <td>-5.199338</td>\n",
       "      <td>-5.199338</td>\n",
       "      <td>5.199338</td>\n",
       "      <td>0.698331</td>\n",
       "      <td>1.663600</td>\n",
       "      <td>-1.056848</td>\n",
       "      <td>-0.902609</td>\n",
       "      <td>5.199338</td>\n",
       "      <td>1.521013</td>\n",
       "      <td>28000</td>\n",
       "    </tr>\n",
       "    <tr>\n",
       "      <th>4</th>\n",
       "      <td>3.744070</td>\n",
       "      <td>-2.967122</td>\n",
       "      <td>0.012559</td>\n",
       "      <td>-0.174181</td>\n",
       "      <td>3.436439</td>\n",
       "      <td>0.439471</td>\n",
       "      <td>1.120443</td>\n",
       "      <td>-2.877530</td>\n",
       "      <td>5.199338</td>\n",
       "      <td>-5.199338</td>\n",
       "      <td>...</td>\n",
       "      <td>-5.199338</td>\n",
       "      <td>-5.199338</td>\n",
       "      <td>-5.199338</td>\n",
       "      <td>-1.183849</td>\n",
       "      <td>0.277283</td>\n",
       "      <td>-0.287738</td>\n",
       "      <td>-0.367258</td>\n",
       "      <td>5.199338</td>\n",
       "      <td>1.521013</td>\n",
       "      <td>27990</td>\n",
       "    </tr>\n",
       "  </tbody>\n",
       "</table>\n",
       "<p>5 rows × 30 columns</p>\n",
       "</div>"
      ],
      "text/plain": [
       "   co2_emiss    height    length  max_speed  mixed_cons    weight  tank_vol  \\\n",
       "0  -1.120443  0.285121 -2.877530  -2.143610   -0.679227 -2.897385 -2.456544   \n",
       "1   1.303557 -1.624785 -0.685567   1.345832    1.358362 -0.272066 -0.085500   \n",
       "2  -0.572277 -1.297705  0.171631   0.937119   -0.833062  0.438088 -1.220053   \n",
       "3   0.635580  0.540027  0.519795   0.651025    0.361889  1.079060  0.933230   \n",
       "4   3.744070 -2.967122  0.012559  -0.174181    3.436439  0.439471  1.120443   \n",
       "\n",
       "        acc  gearbox_Automatic  gearbox_Direct  ...   doors_3   doors_4  \\\n",
       "0  1.199172           5.199338       -5.199338  ... -5.199338 -5.199338   \n",
       "1 -1.377568          -5.199338       -5.199338  ...  5.199338 -5.199338   \n",
       "2 -0.794587           5.199338       -5.199338  ... -5.199338  5.199338   \n",
       "3 -1.018128           5.199338       -5.199338  ... -5.199338 -5.199338   \n",
       "4 -2.877530           5.199338       -5.199338  ... -5.199338 -5.199338   \n",
       "\n",
       "    doors_5  brand_encoded  model_encoded  city_encoded  color_encoded  \\\n",
       "0 -5.199338      -1.579469      -1.083566     -1.505232      -0.902609   \n",
       "1 -5.199338       0.329890      -0.367258      0.314018      -0.902609   \n",
       "2 -5.199338       0.698331       0.833062      0.596109       5.199338   \n",
       "3  5.199338       0.698331       1.663600     -1.056848      -0.902609   \n",
       "4 -5.199338      -1.183849       0.277283     -0.287738      -0.367258   \n",
       "\n",
       "   type_encoded  chassis_encoded  price  \n",
       "0      5.199338         0.608153   5500  \n",
       "1      5.199338         1.521013  10900  \n",
       "2      5.199338         1.521013  36100  \n",
       "3      5.199338         1.521013  28000  \n",
       "4      5.199338         1.521013  27990  \n",
       "\n",
       "[5 rows x 30 columns]"
      ]
     },
     "execution_count": 2,
     "metadata": {},
     "output_type": "execute_result"
    }
   ],
   "source": [
    "root = r'../data/regression/cars_reg_trf.csv'\n",
    "\n",
    "df = pd.read_csv(root)\n",
    "\n",
    "df.head()"
   ]
  },
  {
   "cell_type": "markdown",
   "metadata": {},
   "source": [
    "## 2. Dividing the dataset"
   ]
  },
  {
   "cell_type": "code",
   "execution_count": 3,
   "metadata": {},
   "outputs": [],
   "source": [
    "X = df.drop('price', axis=1)\n",
    "y = df['price']"
   ]
  },
  {
   "cell_type": "code",
   "execution_count": 4,
   "metadata": {},
   "outputs": [
    {
     "name": "stdout",
     "output_type": "stream",
     "text": [
      "(44292, 29) (11074, 29) (44292,) (11074,)\n"
     ]
    }
   ],
   "source": [
    "X_train, X_test, y_train, y_test = train_test_split(X, y, test_size=0.2, random_state=33)\n",
    "print(X_train.shape, X_test.shape, y_train.shape, y_test.shape)"
   ]
  },
  {
   "cell_type": "markdown",
   "metadata": {},
   "source": [
    "## 3. Train RF with the optimal hyperparameters"
   ]
  },
  {
   "cell_type": "markdown",
   "metadata": {},
   "source": [
    "The hyperparameters for the `RF` have been chosen based on the results of the Grid Search cross-validation process:\n",
    "- `bootstrap`: False\n",
    "- `max_depth`: None\n",
    "- `max_features`: 'sqrt'\n",
    "- `min_samples_leaf`: 1\n",
    "- `min_samples_split`: 10\n",
    "- `n_estimators`: 250"
   ]
  },
  {
   "cell_type": "code",
   "execution_count": 5,
   "metadata": {},
   "outputs": [
    {
     "name": "stdout",
     "output_type": "stream",
     "text": [
      "The RF model was trained in: 18.03 sec\n"
     ]
    }
   ],
   "source": [
    "start_time = time()\n",
    "\n",
    "rf = RandomForestRegressor(bootstrap=False,\n",
    "                           max_features='sqrt',\n",
    "                           min_samples_split=10,\n",
    "                           n_estimators=250\n",
    "                          )\n",
    "\n",
    "rf.fit(X_train, y_train)\n",
    "\n",
    "exec_time = time() - start_time\n",
    "print('The RF model was trained in: {:.2f} sec'.format(exec_time))"
   ]
  },
  {
   "cell_type": "markdown",
   "metadata": {},
   "source": [
    "## 4. Predict on test data"
   ]
  },
  {
   "cell_type": "code",
   "execution_count": 6,
   "metadata": {},
   "outputs": [
    {
     "data": {
      "text/plain": [
       "array([35824.29883333, 12482.6786381 , 16511.76027778, ...,\n",
       "       12034.76961905, 43937.10740635, 12540.72      ])"
      ]
     },
     "metadata": {},
     "output_type": "display_data"
    },
    {
     "name": "stdout",
     "output_type": "stream",
     "text": [
      "Min value predicted: 1189.05\n",
      "Max value predicted: 89534.98\n"
     ]
    }
   ],
   "source": [
    "y_hat = rf.predict(X_test)\n",
    "\n",
    "display(y_hat)\n",
    "print(\"Min value predicted: {:.2f}\\nMax value predicted: {:.2f}\".format(np.min(y_hat), np.max(y_hat)))"
   ]
  },
  {
   "cell_type": "markdown",
   "metadata": {},
   "source": [
    "## 5. Plot actual vs predicted values"
   ]
  },
  {
   "cell_type": "code",
   "execution_count": null,
   "metadata": {},
   "outputs": [],
   "source": []
  },
  {
   "cell_type": "code",
   "execution_count": null,
   "metadata": {},
   "outputs": [],
   "source": []
  },
  {
   "cell_type": "markdown",
   "metadata": {},
   "source": [
    "## 6. Model persistence"
   ]
  },
  {
   "cell_type": "code",
   "execution_count": null,
   "metadata": {},
   "outputs": [],
   "source": []
  },
  {
   "cell_type": "code",
   "execution_count": null,
   "metadata": {},
   "outputs": [],
   "source": []
  }
 ],
 "metadata": {
  "kernelspec": {
   "display_name": "Python 3",
   "language": "python",
   "name": "python3"
  },
  "language_info": {
   "codemirror_mode": {
    "name": "ipython",
    "version": 3
   },
   "file_extension": ".py",
   "mimetype": "text/x-python",
   "name": "python",
   "nbconvert_exporter": "python",
   "pygments_lexer": "ipython3",
   "version": "3.7.1"
  }
 },
 "nbformat": 4,
 "nbformat_minor": 4
}
