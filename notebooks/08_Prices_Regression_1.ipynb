{
 "cells": [
  {
   "cell_type": "markdown",
   "metadata": {},
   "source": [
    "# Applying ML Regression Algorithms: Prices"
   ]
  },
  {
   "cell_type": "code",
   "execution_count": 1,
   "metadata": {},
   "outputs": [],
   "source": [
    "import pandas as pd\n",
    "import numpy as np\n",
    "import sys\n",
    "sys.path.append('..')"
   ]
  },
  {
   "cell_type": "markdown",
   "metadata": {},
   "source": [
    "## Loading data"
   ]
  },
  {
   "cell_type": "code",
   "execution_count": 2,
   "metadata": {},
   "outputs": [
    {
     "data": {
      "text/html": [
       "<div>\n",
       "<style scoped>\n",
       "    .dataframe tbody tr th:only-of-type {\n",
       "        vertical-align: middle;\n",
       "    }\n",
       "\n",
       "    .dataframe tbody tr th {\n",
       "        vertical-align: top;\n",
       "    }\n",
       "\n",
       "    .dataframe thead th {\n",
       "        text-align: right;\n",
       "    }\n",
       "</style>\n",
       "<table border=\"1\" class=\"dataframe\">\n",
       "  <thead>\n",
       "    <tr style=\"text-align: right;\">\n",
       "      <th></th>\n",
       "      <th>year</th>\n",
       "      <th>kms</th>\n",
       "      <th>seats</th>\n",
       "      <th>power</th>\n",
       "      <th>co2_emiss</th>\n",
       "      <th>height</th>\n",
       "      <th>length</th>\n",
       "      <th>width</th>\n",
       "      <th>trunk_vol</th>\n",
       "      <th>max_speed</th>\n",
       "      <th>...</th>\n",
       "      <th>doors_2</th>\n",
       "      <th>doors_3</th>\n",
       "      <th>doors_4</th>\n",
       "      <th>doors_5</th>\n",
       "      <th>brand_encoded</th>\n",
       "      <th>model_encoded</th>\n",
       "      <th>city_encoded</th>\n",
       "      <th>color_encoded</th>\n",
       "      <th>type_encoded</th>\n",
       "      <th>chassis_encoded</th>\n",
       "    </tr>\n",
       "  </thead>\n",
       "  <tbody>\n",
       "    <tr>\n",
       "      <th>0</th>\n",
       "      <td>2014</td>\n",
       "      <td>37125</td>\n",
       "      <td>2</td>\n",
       "      <td>71</td>\n",
       "      <td>99</td>\n",
       "      <td>157</td>\n",
       "      <td>270</td>\n",
       "      <td>156</td>\n",
       "      <td>203</td>\n",
       "      <td>145</td>\n",
       "      <td>...</td>\n",
       "      <td>1.0</td>\n",
       "      <td>0.0</td>\n",
       "      <td>0.0</td>\n",
       "      <td>0.0</td>\n",
       "      <td>11039.980916</td>\n",
       "      <td>10171.125628</td>\n",
       "      <td>15841.032810</td>\n",
       "      <td>17003.852965</td>\n",
       "      <td>28170.085203</td>\n",
       "      <td>20696.065144</td>\n",
       "    </tr>\n",
       "    <tr>\n",
       "      <th>1</th>\n",
       "      <td>2009</td>\n",
       "      <td>0</td>\n",
       "      <td>4</td>\n",
       "      <td>200</td>\n",
       "      <td>179</td>\n",
       "      <td>140</td>\n",
       "      <td>426</td>\n",
       "      <td>181</td>\n",
       "      <td>292</td>\n",
       "      <td>235</td>\n",
       "      <td>...</td>\n",
       "      <td>0.0</td>\n",
       "      <td>1.0</td>\n",
       "      <td>0.0</td>\n",
       "      <td>0.0</td>\n",
       "      <td>17058.096993</td>\n",
       "      <td>13160.993789</td>\n",
       "      <td>18052.176748</td>\n",
       "      <td>17003.852965</td>\n",
       "      <td>28170.085203</td>\n",
       "      <td>31261.850521</td>\n",
       "    </tr>\n",
       "    <tr>\n",
       "      <th>2</th>\n",
       "      <td>2021</td>\n",
       "      <td>0</td>\n",
       "      <td>5</td>\n",
       "      <td>150</td>\n",
       "      <td>109</td>\n",
       "      <td>142</td>\n",
       "      <td>453</td>\n",
       "      <td>180</td>\n",
       "      <td>430</td>\n",
       "      <td>222</td>\n",
       "      <td>...</td>\n",
       "      <td>0.0</td>\n",
       "      <td>0.0</td>\n",
       "      <td>1.0</td>\n",
       "      <td>0.0</td>\n",
       "      <td>23593.497861</td>\n",
       "      <td>23508.383973</td>\n",
       "      <td>18554.493671</td>\n",
       "      <td>21242.844857</td>\n",
       "      <td>28170.085203</td>\n",
       "      <td>31261.850521</td>\n",
       "    </tr>\n",
       "    <tr>\n",
       "      <th>3</th>\n",
       "      <td>2017</td>\n",
       "      <td>85000</td>\n",
       "      <td>5</td>\n",
       "      <td>190</td>\n",
       "      <td>142</td>\n",
       "      <td>162</td>\n",
       "      <td>467</td>\n",
       "      <td>188</td>\n",
       "      <td>500</td>\n",
       "      <td>212</td>\n",
       "      <td>...</td>\n",
       "      <td>0.0</td>\n",
       "      <td>0.0</td>\n",
       "      <td>0.0</td>\n",
       "      <td>1.0</td>\n",
       "      <td>23593.497861</td>\n",
       "      <td>36412.589552</td>\n",
       "      <td>16569.441935</td>\n",
       "      <td>17003.852965</td>\n",
       "      <td>28170.085203</td>\n",
       "      <td>31261.850521</td>\n",
       "    </tr>\n",
       "    <tr>\n",
       "      <th>4</th>\n",
       "      <td>2005</td>\n",
       "      <td>95017</td>\n",
       "      <td>2</td>\n",
       "      <td>506</td>\n",
       "      <td>488</td>\n",
       "      <td>123</td>\n",
       "      <td>446</td>\n",
       "      <td>191</td>\n",
       "      <td>344</td>\n",
       "      <td>189</td>\n",
       "      <td>...</td>\n",
       "      <td>1.0</td>\n",
       "      <td>0.0</td>\n",
       "      <td>0.0</td>\n",
       "      <td>0.0</td>\n",
       "      <td>12506.369072</td>\n",
       "      <td>17783.891805</td>\n",
       "      <td>17303.956434</td>\n",
       "      <td>17436.456262</td>\n",
       "      <td>28170.085203</td>\n",
       "      <td>31261.850521</td>\n",
       "    </tr>\n",
       "  </tbody>\n",
       "</table>\n",
       "<p>5 rows × 36 columns</p>\n",
       "</div>"
      ],
      "text/plain": [
       "   year    kms  seats  power  co2_emiss  height  length  width  trunk_vol  \\\n",
       "0  2014  37125      2     71         99     157     270    156        203   \n",
       "1  2009      0      4    200        179     140     426    181        292   \n",
       "2  2021      0      5    150        109     142     453    180        430   \n",
       "3  2017  85000      5    190        142     162     467    188        500   \n",
       "4  2005  95017      2    506        488     123     446    191        344   \n",
       "\n",
       "   max_speed  ...  doors_2  doors_3  doors_4  doors_5  brand_encoded  \\\n",
       "0        145  ...      1.0      0.0      0.0      0.0   11039.980916   \n",
       "1        235  ...      0.0      1.0      0.0      0.0   17058.096993   \n",
       "2        222  ...      0.0      0.0      1.0      0.0   23593.497861   \n",
       "3        212  ...      0.0      0.0      0.0      1.0   23593.497861   \n",
       "4        189  ...      1.0      0.0      0.0      0.0   12506.369072   \n",
       "\n",
       "   model_encoded  city_encoded  color_encoded  type_encoded  chassis_encoded  \n",
       "0   10171.125628  15841.032810   17003.852965  28170.085203     20696.065144  \n",
       "1   13160.993789  18052.176748   17003.852965  28170.085203     31261.850521  \n",
       "2   23508.383973  18554.493671   21242.844857  28170.085203     31261.850521  \n",
       "3   36412.589552  16569.441935   17003.852965  28170.085203     31261.850521  \n",
       "4   17783.891805  17303.956434   17436.456262  28170.085203     31261.850521  \n",
       "\n",
       "[5 rows x 36 columns]"
      ]
     },
     "execution_count": 2,
     "metadata": {},
     "output_type": "execute_result"
    }
   ],
   "source": [
    "root = '../data/regression/cars_reg.csv'\n",
    "\n",
    "df = pd.read_csv(root)\n",
    "df.head()"
   ]
  },
  {
   "cell_type": "markdown",
   "metadata": {},
   "source": [
    "## Separating the data into features (X) and target (y) variables"
   ]
  },
  {
   "cell_type": "code",
   "execution_count": 3,
   "metadata": {},
   "outputs": [],
   "source": [
    "# Train-Test Split\n",
    "from sklearn.model_selection import train_test_split"
   ]
  },
  {
   "cell_type": "code",
   "execution_count": 4,
   "metadata": {},
   "outputs": [],
   "source": [
    "# Removing some outliers\n",
    "features = df.drop('price', axis=1)\n",
    "target = df['price']"
   ]
  },
  {
   "cell_type": "code",
   "execution_count": 5,
   "metadata": {},
   "outputs": [],
   "source": [
    "X_train, X_test, y_train, y_test = train_test_split(features, target, test_size=0.2, random_state=42)"
   ]
  },
  {
   "cell_type": "markdown",
   "metadata": {},
   "source": [
    "## Applying Regression Models\n",
    "The objective is to obtain the best posible model by evaluating the performance of 7 models"
   ]
  },
  {
   "cell_type": "code",
   "execution_count": 6,
   "metadata": {},
   "outputs": [],
   "source": [
    "# Regression linear models\n",
    "from sklearn.linear_model import LinearRegression\n",
    "from sklearn.linear_model import Ridge\n",
    "\n",
    "# Tree models\n",
    "from sklearn.ensemble import RandomForestRegressor, GradientBoostingRegressor\n",
    "\n",
    "# Support Vector Machine model\n",
    "from sklearn.svm import SVR\n",
    "\n",
    "# Gradient Boosting models\n",
    "import xgboost as xgb\n",
    "from catboost import CatBoostRegressor\n",
    "\n",
    "# Model Evaluators\n",
    "from sklearn import model_selection\n",
    "from modules.model_evaluator import eval_reg\n",
    "from sklearn.metrics import mean_squared_error as mse, mean_absolute_error as mae, explained_variance_score as evs"
   ]
  },
  {
   "cell_type": "markdown",
   "metadata": {},
   "source": [
    "Importing `scikit-learn` main functions for training the model.\n",
    "\n",
    "Gradient Boost Algorithms were explored and understood following [this Medium Article](https://towardsdatascience.com/lightgbm-vs-xgboost-which-algorithm-win-the-race-1ff7dd4917d)"
   ]
  },
  {
   "cell_type": "markdown",
   "metadata": {},
   "source": [
    "### Linear Regression"
   ]
  },
  {
   "cell_type": "code",
   "execution_count": 7,
   "metadata": {},
   "outputs": [
    {
     "name": "stdout",
     "output_type": "stream",
     "text": [
      "### MEASURES OF REGRESSION MODEL ###\n",
      "------------------------------------\n",
      "\n",
      "R2 = 0.8175\n",
      "\n",
      "RMSE = 5523.8296\n",
      "\n",
      "MSE = 30512693.3309\n",
      "\n",
      "MSLE not possible to be applied. Predicitons contain negative values.\n",
      "\n",
      "MAE = 3521.5002\n",
      "\n",
      "EVS = 81.7510%\n",
      "\n"
     ]
    }
   ],
   "source": [
    "lr = LinearRegression()\n",
    "lr.fit(X_train, y_train)\n",
    "\n",
    "predictions = lr.predict(X_test)\n",
    "\n",
    "eval_reg(y_test, predictions)"
   ]
  },
  {
   "cell_type": "markdown",
   "metadata": {},
   "source": [
    "### Ridge Regression"
   ]
  },
  {
   "cell_type": "code",
   "execution_count": 8,
   "metadata": {},
   "outputs": [
    {
     "name": "stdout",
     "output_type": "stream",
     "text": [
      "### MEASURES OF REGRESSION MODEL ###\n",
      "------------------------------------\n",
      "\n",
      "R2 = 0.8176\n",
      "\n",
      "RMSE = 5522.1772\n",
      "\n",
      "MSE = 30494440.5227\n",
      "\n",
      "MSLE not possible to be applied. Predicitons contain negative values.\n",
      "\n",
      "MAE = 3517.2583\n",
      "\n",
      "EVS = 81.7619%\n",
      "\n"
     ]
    }
   ],
   "source": [
    "rd = Ridge(alpha=100)\n",
    "rd.fit(X_train, y_train)\n",
    "\n",
    "predictions = rd.predict(X_test)\n",
    "\n",
    "eval_reg(y_test, predictions)"
   ]
  },
  {
   "cell_type": "markdown",
   "metadata": {},
   "source": [
    "### Random Forest Regressor"
   ]
  },
  {
   "cell_type": "code",
   "execution_count": 9,
   "metadata": {},
   "outputs": [
    {
     "name": "stdout",
     "output_type": "stream",
     "text": [
      "### MEASURES OF REGRESSION MODEL ###\n",
      "------------------------------------\n",
      "\n",
      "R2 = 0.9383\n",
      "\n",
      "RMSE = 3210.8378\n",
      "\n",
      "MSE = 10309479.6724\n",
      "\n",
      "MSLE = 0.0401\n",
      "\n",
      "MAE = 1791.8592\n",
      "\n",
      "EVS = 93.8344%\n",
      "\n"
     ]
    }
   ],
   "source": [
    "rf = RandomForestRegressor()\n",
    "rf.fit(X_train, y_train)\n",
    "\n",
    "predictions = rf.predict(X_test)\n",
    "\n",
    "eval_reg(y_test, predictions)"
   ]
  },
  {
   "cell_type": "markdown",
   "metadata": {},
   "source": [
    "### Support Vector Regression"
   ]
  },
  {
   "cell_type": "code",
   "execution_count": 10,
   "metadata": {},
   "outputs": [
    {
     "name": "stdout",
     "output_type": "stream",
     "text": [
      "### MEASURES OF REGRESSION MODEL ###\n",
      "------------------------------------\n",
      "\n",
      "R2 = 0.1113\n",
      "\n",
      "RMSE = 12189.7457\n",
      "\n",
      "MSE = 148589899.3827\n",
      "\n",
      "MSLE = 0.4265\n",
      "\n",
      "MAE = 7666.1810\n",
      "\n",
      "EVS = 16.4771%\n",
      "\n"
     ]
    }
   ],
   "source": [
    "svr = SVR()\n",
    "svr.fit(X_train, y_train)\n",
    "\n",
    "predictions = svr.predict(X_test)\n",
    "\n",
    "eval_reg(y_test, predictions)"
   ]
  },
  {
   "cell_type": "markdown",
   "metadata": {},
   "source": [
    "### XGBoost Regressor"
   ]
  },
  {
   "cell_type": "code",
   "execution_count": 11,
   "metadata": {},
   "outputs": [
    {
     "name": "stdout",
     "output_type": "stream",
     "text": [
      "### MEASURES OF REGRESSION MODEL ###\n",
      "------------------------------------\n",
      "\n",
      "R2 = 0.9348\n",
      "\n",
      "RMSE = 3301.2964\n",
      "\n",
      "MSE = 10898557.9103\n",
      "\n",
      "MSLE not possible to be applied. Predicitons contain negative values.\n",
      "\n",
      "MAE = 1946.8794\n",
      "\n",
      "EVS = 93.4817%\n",
      "\n"
     ]
    }
   ],
   "source": [
    "xgb_model = xgb.XGBRegressor()\n",
    "xgb_model.fit(X_train, y_train)\n",
    "\n",
    "predictions = xgb_model.predict(X_test)\n",
    "\n",
    "eval_reg(y_test, predictions)"
   ]
  },
  {
   "cell_type": "markdown",
   "metadata": {},
   "source": [
    "### Gradient Boosting Regressor"
   ]
  },
  {
   "cell_type": "code",
   "execution_count": 12,
   "metadata": {},
   "outputs": [
    {
     "name": "stdout",
     "output_type": "stream",
     "text": [
      "### MEASURES OF REGRESSION MODEL ###\n",
      "------------------------------------\n",
      "\n",
      "R2 = 0.9116\n",
      "\n",
      "RMSE = 3845.4312\n",
      "\n",
      "MSE = 14787341.2875\n",
      "\n",
      "MSLE = 0.0573\n",
      "\n",
      "MAE = 2361.0337\n",
      "\n",
      "EVS = 91.1564%\n",
      "\n"
     ]
    }
   ],
   "source": [
    "gb_model = GradientBoostingRegressor()\n",
    "gb_model.fit(X_train, y_train)\n",
    "\n",
    "predictions = gb_model.predict(X_test)\n",
    "\n",
    "eval_reg(y_test, predictions)"
   ]
  },
  {
   "cell_type": "markdown",
   "metadata": {},
   "source": [
    "### CatBoost Regressor"
   ]
  },
  {
   "cell_type": "code",
   "execution_count": 13,
   "metadata": {},
   "outputs": [
    {
     "name": "stdout",
     "output_type": "stream",
     "text": [
      "### MEASURES OF REGRESSION MODEL ###\n",
      "------------------------------------\n",
      "\n",
      "R2 = 0.9422\n",
      "\n",
      "RMSE = 3109.9269\n",
      "\n",
      "MSE = 9671645.4087\n",
      "\n",
      "MSLE not possible to be applied. Predicitons contain negative values.\n",
      "\n",
      "MAE = 1861.1463\n",
      "\n",
      "EVS = 94.2155%\n",
      "\n"
     ]
    }
   ],
   "source": [
    "cb_model = CatBoostRegressor(verbose=False)\n",
    "cb_model.fit(X_train, y_train)\n",
    "\n",
    "predictions = cb_model.predict(X_test)\n",
    "\n",
    "eval_reg(y_test, predictions)"
   ]
  },
  {
   "cell_type": "markdown",
   "metadata": {},
   "source": [
    "---"
   ]
  },
  {
   "cell_type": "markdown",
   "metadata": {},
   "source": [
    "## Residual plot: Visualizing predictions of the model"
   ]
  },
  {
   "cell_type": "code",
   "execution_count": 14,
   "metadata": {},
   "outputs": [],
   "source": [
    "import matplotlib.pyplot as plt"
   ]
  },
  {
   "cell_type": "code",
   "execution_count": 15,
   "metadata": {},
   "outputs": [
    {
     "data": {
      "image/png": "[encoded data removed]",
      "text/plain": [
       "<Figure size 432x288 with 1 Axes>"
      ]
     },
     "metadata": {
      "needs_background": "light"
     },
     "output_type": "display_data"
    }
   ],
   "source": [
    "plt.scatter(y_test, predictions);"
   ]
  },
  {
   "cell_type": "markdown",
   "metadata": {},
   "source": [
    "## Comparing ML Regression Algorithms "
   ]
  },
  {
   "cell_type": "markdown",
   "metadata": {},
   "source": [
    "Based on [Jason Brownlee's article](https://machinelearningmastery.com/compare-machine-learning-algorithms-python-scikit-learn/)."
   ]
  },
  {
   "cell_type": "markdown",
   "metadata": {},
   "source": [
    "Since the performance of the `SVR` ($R^2 = 0.1427$) was really poor, it will be excluded from the next model analysis.\n",
    "\n",
    "`k-fold` is a popular cross-validation technique. It provides visibility about the generalization ability of the model by iterating through different sets.\n",
    "i.e. say k=10 for example, 9 folds for training and 1 fold for testing purpose and this repeats unless all folds get a chance to be the test set one by one."
   ]
  },
  {
   "cell_type": "code",
   "execution_count": 16,
   "metadata": {},
   "outputs": [
    {
     "name": "stdout",
     "output_type": "stream",
     "text": [
      "3.6716461181640625e-05\n"
     ]
    }
   ],
   "source": [
    "from time import time\n",
    "\n",
    "# example\n",
    "start_time = time()\n",
    "exec_time = time() - start_time\n",
    "\n",
    "print(exec_time)"
   ]
  },
  {
   "cell_type": "code",
   "execution_count": 17,
   "metadata": {},
   "outputs": [
    {
     "name": "stdout",
     "output_type": "stream",
     "text": [
      "LR: 0.8176763731874145 (0.009146177482544501)\n",
      "LR execution time (sec): 0.788020133972168\n",
      "RD: 0.8176598072666781 (0.00915411316618646)\n",
      "RD execution time (sec): 0.3222019672393799\n",
      "RF: 0.9388843998000601 (0.004318152616453868)\n",
      "RF execution time (sec): 489.59410762786865\n",
      "XGB: 0.9371198076251765 (0.0036168691862517068)\n",
      "XGB execution time (sec): 27.636900186538696\n",
      "GB: 0.9096024732807806 (0.005576105227219821)\n",
      "GB execution time (sec): 98.54987168312073\n",
      "CB: 0.9420993220434234 (0.0034813994901157735)\n",
      "CB execution time (sec): 116.25084352493286\n"
     ]
    }
   ],
   "source": [
    "# Set seed to obtain the same random numbers\n",
    "seed = 42\n",
    "\n",
    "# Listing models\n",
    "models = []\n",
    "models.append(('LR', LinearRegression()))\n",
    "models.append(('RD', Ridge(alpha=100)))\n",
    "models.append(('RF', RandomForestRegressor()))\n",
    "models.append(('XGB', xgb.XGBRegressor()))\n",
    "models.append(('GB', GradientBoostingRegressor()))\n",
    "models.append(('CB', CatBoostRegressor(verbose=False)))\n",
    "\n",
    "# Evaluate each model\n",
    "names = []\n",
    "results = []\n",
    "mins = []\n",
    "quartiles_1 = []\n",
    "medians = []\n",
    "means = []\n",
    "stds = []\n",
    "quartiles_3 = []\n",
    "maxs = []\n",
    "times = []\n",
    "scoring = 'r2'\n",
    "\n",
    "# Defining the algorithm function\n",
    "def run_cv_algorithm(name, model):\n",
    "    '''\n",
    "    Function that runs the cross-validation (CV) for the named algorithm\n",
    "    - name: Designation of the algorithm. \n",
    "    - model: Algorithm to be applied.\n",
    "    '''\n",
    "    kfold = model_selection.KFold(n_splits=10, random_state=seed, shuffle=True)\n",
    "    cv_results = model_selection.cross_val_score(estimator=model,\n",
    "                                                 X=features,\n",
    "                                                 y=target,\n",
    "                                                 cv=kfold,\n",
    "                                                 scoring=scoring)\n",
    "    # appending stats to lists\n",
    "    names.append(name)\n",
    "    results.append(cv_results)\n",
    "    mins.append(cv_results.min())\n",
    "    quartiles_1.append(np.percentile(cv_results, 25)) # Q1\n",
    "    medians.append(np.median(cv_results)) # Q2 = median\n",
    "    means.append(cv_results.mean())\n",
    "    stds.append(cv_results.std())\n",
    "    quartiles_3.append(np.percentile(cv_results, 75)) # Q3\n",
    "    maxs.append(cv_results.max())\n",
    "    \n",
    "    msg = \"{}: {} ({})\".format(name, cv_results.mean(), cv_results.std())\n",
    "    print(msg)\n",
    "\n",
    "# Executing the function for every model in the list: models\n",
    "for name, model in models:\n",
    "    # set start time\n",
    "    start_time = time()\n",
    "    \n",
    "    # running algorithm\n",
    "    run_cv_algorithm(name, model)\n",
    "    \n",
    "    # set end time: execution time\n",
    "    exec_time = time() - start_time\n",
    "    \n",
    "    # Appending to the main list\n",
    "    times.append(exec_time)\n",
    "    \n",
    "    print(\"{} execution time (sec): {}\".format(name, exec_time))"
   ]
  },
  {
   "cell_type": "code",
   "execution_count": 18,
   "metadata": {},
   "outputs": [
    {
     "data": {
      "text/html": [
       "<div>\n",
       "<style scoped>\n",
       "    .dataframe tbody tr th:only-of-type {\n",
       "        vertical-align: middle;\n",
       "    }\n",
       "\n",
       "    .dataframe tbody tr th {\n",
       "        vertical-align: top;\n",
       "    }\n",
       "\n",
       "    .dataframe thead th {\n",
       "        text-align: right;\n",
       "    }\n",
       "</style>\n",
       "<table border=\"1\" class=\"dataframe\">\n",
       "  <thead>\n",
       "    <tr style=\"text-align: right;\">\n",
       "      <th></th>\n",
       "      <th>model</th>\n",
       "      <th>min_r2_score</th>\n",
       "      <th>1st_quantile</th>\n",
       "      <th>median_r2_score</th>\n",
       "      <th>mean_r2_score</th>\n",
       "      <th>std_r2_score</th>\n",
       "      <th>3rd_quantile</th>\n",
       "      <th>max_r2_score</th>\n",
       "      <th>exec_time_sec</th>\n",
       "      <th>time_score_ratio</th>\n",
       "    </tr>\n",
       "  </thead>\n",
       "  <tbody>\n",
       "    <tr>\n",
       "      <th>0</th>\n",
       "      <td>LR</td>\n",
       "      <td>0.8048</td>\n",
       "      <td>0.8122</td>\n",
       "      <td>0.8144</td>\n",
       "      <td>0.8177</td>\n",
       "      <td>0.0091</td>\n",
       "      <td>0.8235</td>\n",
       "      <td>0.8329</td>\n",
       "      <td>0.7880</td>\n",
       "      <td>1.0376</td>\n",
       "    </tr>\n",
       "    <tr>\n",
       "      <th>1</th>\n",
       "      <td>RD</td>\n",
       "      <td>0.8048</td>\n",
       "      <td>0.8121</td>\n",
       "      <td>0.8144</td>\n",
       "      <td>0.8177</td>\n",
       "      <td>0.0092</td>\n",
       "      <td>0.8234</td>\n",
       "      <td>0.8330</td>\n",
       "      <td>0.3222</td>\n",
       "      <td>2.5377</td>\n",
       "    </tr>\n",
       "    <tr>\n",
       "      <th>2</th>\n",
       "      <td>RF</td>\n",
       "      <td>0.9305</td>\n",
       "      <td>0.9363</td>\n",
       "      <td>0.9389</td>\n",
       "      <td>0.9389</td>\n",
       "      <td>0.0043</td>\n",
       "      <td>0.9409</td>\n",
       "      <td>0.9475</td>\n",
       "      <td>489.5941</td>\n",
       "      <td>0.0019</td>\n",
       "    </tr>\n",
       "    <tr>\n",
       "      <th>3</th>\n",
       "      <td>XGB</td>\n",
       "      <td>0.9298</td>\n",
       "      <td>0.9344</td>\n",
       "      <td>0.9381</td>\n",
       "      <td>0.9371</td>\n",
       "      <td>0.0036</td>\n",
       "      <td>0.9397</td>\n",
       "      <td>0.9425</td>\n",
       "      <td>27.6369</td>\n",
       "      <td>0.0339</td>\n",
       "    </tr>\n",
       "    <tr>\n",
       "      <th>4</th>\n",
       "      <td>GB</td>\n",
       "      <td>0.8993</td>\n",
       "      <td>0.9061</td>\n",
       "      <td>0.9095</td>\n",
       "      <td>0.9096</td>\n",
       "      <td>0.0056</td>\n",
       "      <td>0.9144</td>\n",
       "      <td>0.9172</td>\n",
       "      <td>98.5499</td>\n",
       "      <td>0.0092</td>\n",
       "    </tr>\n",
       "    <tr>\n",
       "      <th>5</th>\n",
       "      <td>CB</td>\n",
       "      <td>0.9367</td>\n",
       "      <td>0.9400</td>\n",
       "      <td>0.9414</td>\n",
       "      <td>0.9421</td>\n",
       "      <td>0.0035</td>\n",
       "      <td>0.9431</td>\n",
       "      <td>0.9485</td>\n",
       "      <td>116.2508</td>\n",
       "      <td>0.0081</td>\n",
       "    </tr>\n",
       "  </tbody>\n",
       "</table>\n",
       "</div>"
      ],
      "text/plain": [
       "  model  min_r2_score  1st_quantile  median_r2_score  mean_r2_score  \\\n",
       "0    LR        0.8048        0.8122           0.8144         0.8177   \n",
       "1    RD        0.8048        0.8121           0.8144         0.8177   \n",
       "2    RF        0.9305        0.9363           0.9389         0.9389   \n",
       "3   XGB        0.9298        0.9344           0.9381         0.9371   \n",
       "4    GB        0.8993        0.9061           0.9095         0.9096   \n",
       "5    CB        0.9367        0.9400           0.9414         0.9421   \n",
       "\n",
       "   std_r2_score  3rd_quantile  max_r2_score  exec_time_sec  time_score_ratio  \n",
       "0        0.0091        0.8235        0.8329         0.7880            1.0376  \n",
       "1        0.0092        0.8234        0.8330         0.3222            2.5377  \n",
       "2        0.0043        0.9409        0.9475       489.5941            0.0019  \n",
       "3        0.0036        0.9397        0.9425        27.6369            0.0339  \n",
       "4        0.0056        0.9144        0.9172        98.5499            0.0092  \n",
       "5        0.0035        0.9431        0.9485       116.2508            0.0081  "
      ]
     },
     "execution_count": 18,
     "metadata": {},
     "output_type": "execute_result"
    }
   ],
   "source": [
    "# Creating a DataFrame to see the performance of each model:\n",
    "df_models = pd.DataFrame({'model': names,\n",
    "                          'min_r2_score': mins,\n",
    "                          '1st_quantile': quartiles_1,\n",
    "                          'median_r2_score': medians,\n",
    "                          'mean_r2_score': means,\n",
    "                          'std_r2_score': stds,\n",
    "                          '3rd_quantile': quartiles_3,\n",
    "                          'max_r2_score': maxs,\n",
    "                          'exec_time_sec': times})\n",
    "\n",
    "# Creating a time_score_ratio\n",
    "df_models['time_score_ratio'] = df_models['mean_r2_score'] / df_models['exec_time_sec']\n",
    "\n",
    "# Rounding to 4 decimals\n",
    "round_cols = dict(zip(df_models.columns, len(df_models.columns)*[4]))\n",
    "df_models = df_models.round(round_cols)\n",
    "\n",
    "df_models"
   ]
  },
  {
   "cell_type": "markdown",
   "metadata": {},
   "source": [
    "From this table, it is easy to conclude that `CatBoost` is the best algorithm to be considered. However, it is better to not disregard `XGBoost` & `RF` algorithms."
   ]
  },
  {
   "cell_type": "code",
   "execution_count": 19,
   "metadata": {},
   "outputs": [],
   "source": [
    "import seaborn as sns"
   ]
  },
  {
   "cell_type": "code",
   "execution_count": 20,
   "metadata": {},
   "outputs": [
    {
     "data": {
      "image/png": "[encoded data removed]",
      "text/plain": [
       "<Figure size 720x432 with 1 Axes>"
      ]
     },
     "metadata": {
      "needs_background": "light"
     },
     "output_type": "display_data"
    }
   ],
   "source": [
    "plt.style.use('tableau-colorblind10')\n",
    "\n",
    "plt.figure(figsize=(10, 6))\n",
    "\n",
    "sns.lineplot(data=results, dashes=True)\n",
    "\n",
    "plt.title('Regression models cv performance per K-Fold')\n",
    "plt.xticks(list(range(0, 10)), list(range(1, 11)))\n",
    "plt.xlabel('K-Fold iteration')\n",
    "plt.ylabel('r2 score')\n",
    "\n",
    "plt.legend(df_models.model.to_list())\n",
    "\n",
    "plt.show()"
   ]
  },
  {
   "cell_type": "code",
   "execution_count": 21,
   "metadata": {},
   "outputs": [],
   "source": [
    "def autolabel(rects):\n",
    "    for rect in rects:\n",
    "        height = rect.get_height()\n",
    "        ax.annotate('{}'.format(height),\n",
    "                    xy=(rect.get_x() + rect.get_width() / 2, height),\n",
    "                    xytext=(0,3),\n",
    "                    textcoords=\"offset points\",\n",
    "                    ha=\"center\",\n",
    "                    va=\"bottom\")"
   ]
  },
  {
   "cell_type": "code",
   "execution_count": 22,
   "metadata": {},
   "outputs": [
    {
     "data": {
      "image/png": "[encoded data removed]",
      "text/plain": [
       "<Figure size 720x432 with 1 Axes>"
      ]
     },
     "metadata": {
      "needs_background": "light"
     },
     "output_type": "display_data"
    }
   ],
   "source": [
    "fig, ax = plt.subplots(figsize=(10,6))\n",
    "\n",
    "rect1 = ax.bar(df_models['model'], df_models['mean_r2_score'])\n",
    "\n",
    "plt.title('R2 score of Regression Models')\n",
    "plt.gca().set_ylim([0, 1])\n",
    "\n",
    "autolabel(rect1)\n",
    "\n",
    "plt.show()"
   ]
  },
  {
   "cell_type": "markdown",
   "metadata": {},
   "source": [
    "`CB` was the model with the best performance after applying a cross-validation process. However, it is also by far the most time consuming.\n",
    "\n",
    "Having a look at the `time_score_ratio` parameter, it is possible to find the most efficient model in terms of `r2_score` and `exec_time`. In this way, the best model can be found when there is a concern about time due to the high amount of data that will feed the model. Linear models are the ones with the highest ratio, nevertheless the $r2\\_score$ is not enough to be considered as potential models.\n",
    "\n",
    "In case that delays in execution could be a problem, `Boosting` algorithms could be the most suitable option. This is another reason to conclude that `CatBoost` is the best performer, while `RandomForest` takes really long to be processed.\n",
    "\n",
    "Time to have a look at the performance of each model using `boxplots`."
   ]
  },
  {
   "cell_type": "code",
   "execution_count": 23,
   "metadata": {},
   "outputs": [
    {
     "data": {
      "image/png": "[encoded data removed]",
      "text/plain": [
       "<Figure size 720x432 with 1 Axes>"
      ]
     },
     "metadata": {
      "needs_background": "light"
     },
     "output_type": "display_data"
    }
   ],
   "source": [
    "# boxplot algorithm comparison\n",
    "fig = plt.figure(figsize=(10,6))\n",
    "fig.suptitle('Regression Algorithm Comparison')\n",
    "\n",
    "ax = fig.add_subplot(111)\n",
    "plt.boxplot(results)\n",
    "ax.set_xticklabels(names)\n",
    "\n",
    "plt.show()"
   ]
  },
  {
   "cell_type": "markdown",
   "metadata": {},
   "source": [
    "In the boxplot above, it is possible to see the great difference in performance of the `Boosting & RandomForest` compared to the `LinearRegression & Ridge` algorithms.\n",
    "\n",
    "Therefore, further investigations about how to improve the performance of the final prediction will be focused on the 3 models below: `RF, XGB, CB`"
   ]
  },
  {
   "cell_type": "code",
   "execution_count": 24,
   "metadata": {},
   "outputs": [
    {
     "data": {
      "image/png": "[encoded data removed]",
      "text/plain": [
       "<Figure size 720x432 with 1 Axes>"
      ]
     },
     "metadata": {
      "needs_background": "light"
     },
     "output_type": "display_data"
    }
   ],
   "source": [
    "# boxplot best algorithms comparison\n",
    "fig = plt.figure(figsize=(10,6))\n",
    "fig.suptitle('Regression Algorithm Comparison')\n",
    "\n",
    "ax = fig.add_subplot(111)\n",
    "plt.boxplot(results[2:4] + [results[5]])\n",
    "ax.set_xticklabels(names[2:4] + [names[5]])\n",
    "\n",
    "plt.show()"
   ]
  }
 ],
 "metadata": {
  "kernelspec": {
   "display_name": "Python 3",
   "language": "python",
   "name": "python3"
  },
  "language_info": {
   "codemirror_mode": {
    "name": "ipython",
    "version": 3
   },
   "file_extension": ".py",
   "mimetype": "text/x-python",
   "name": "python",
   "nbconvert_exporter": "python",
   "pygments_lexer": "ipython3",
   "version": "3.7.1"
  }
 },
 "nbformat": 4,
 "nbformat_minor": 4
}
