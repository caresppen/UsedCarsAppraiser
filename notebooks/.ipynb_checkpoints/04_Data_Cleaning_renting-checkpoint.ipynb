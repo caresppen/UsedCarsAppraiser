{
 "cells": [
  {
   "cell_type": "markdown",
   "metadata": {},
   "source": [
    "# Data Cleaning of renting cars\n",
    "Notebook in which the translation and cleaning of renting cars is covered"
   ]
  },
  {
   "cell_type": "code",
   "execution_count": 1,
   "metadata": {},
   "outputs": [],
   "source": [
    "import pandas as pd\n",
    "import numpy as np\n",
    "import sys\n",
    "sys.path.append('..')"
   ]
  },
  {
   "cell_type": "code",
   "execution_count": 2,
   "metadata": {},
   "outputs": [
    {
     "data": {
      "text/html": [
       "<div>\n",
       "<style scoped>\n",
       "    .dataframe tbody tr th:only-of-type {\n",
       "        vertical-align: middle;\n",
       "    }\n",
       "\n",
       "    .dataframe tbody tr th {\n",
       "        vertical-align: top;\n",
       "    }\n",
       "\n",
       "    .dataframe thead th {\n",
       "        text-align: right;\n",
       "    }\n",
       "</style>\n",
       "<table border=\"1\" class=\"dataframe\">\n",
       "  <thead>\n",
       "    <tr style=\"text-align: right;\">\n",
       "      <th></th>\n",
       "      <th>title</th>\n",
       "      <th>price</th>\n",
       "      <th>contract_months</th>\n",
       "      <th>km_year</th>\n",
       "      <th>fuel_type</th>\n",
       "      <th>color</th>\n",
       "      <th>warranty</th>\n",
       "      <th>maintenance</th>\n",
       "      <th>tires</th>\n",
       "      <th>power</th>\n",
       "      <th>...</th>\n",
       "      <th>width</th>\n",
       "      <th>trunk_vol</th>\n",
       "      <th>max_speed</th>\n",
       "      <th>seats</th>\n",
       "      <th>urban_cons</th>\n",
       "      <th>xtrurban_cons</th>\n",
       "      <th>mixed_cons</th>\n",
       "      <th>weight</th>\n",
       "      <th>tank_vol</th>\n",
       "      <th>acceleration</th>\n",
       "    </tr>\n",
       "  </thead>\n",
       "  <tbody>\n",
       "    <tr>\n",
       "      <th>0</th>\n",
       "      <td>TOYOTA Yaris</td>\n",
       "      <td>295</td>\n",
       "      <td>60</td>\n",
       "      <td>20.0</td>\n",
       "      <td>Híbrido</td>\n",
       "      <td>Consultar</td>\n",
       "      <td>Incluido</td>\n",
       "      <td>Incluido</td>\n",
       "      <td>Incluido</td>\n",
       "      <td>116cv(85Kw)</td>\n",
       "      <td>...</td>\n",
       "      <td>174,5 cm</td>\n",
       "      <td>270 l</td>\n",
       "      <td>175 km/h</td>\n",
       "      <td>5</td>\n",
       "      <td>0,0 l</td>\n",
       "      <td>0,0 l</td>\n",
       "      <td>2,8 l</td>\n",
       "      <td>1.065 kg</td>\n",
       "      <td>36 l</td>\n",
       "      <td>10,0 s</td>\n",
       "    </tr>\n",
       "    <tr>\n",
       "      <th>1</th>\n",
       "      <td>TOYOTA Yaris</td>\n",
       "      <td>291</td>\n",
       "      <td>48</td>\n",
       "      <td>20.0</td>\n",
       "      <td>Híbrido</td>\n",
       "      <td>Consultar</td>\n",
       "      <td>Incluido</td>\n",
       "      <td>Incluido</td>\n",
       "      <td>Incluido</td>\n",
       "      <td>116cv(85Kw)</td>\n",
       "      <td>...</td>\n",
       "      <td>174,5 cm</td>\n",
       "      <td>270 l</td>\n",
       "      <td>175 km/h</td>\n",
       "      <td>5</td>\n",
       "      <td>0,0 l</td>\n",
       "      <td>0,0 l</td>\n",
       "      <td>2,8 l</td>\n",
       "      <td>1.065 kg</td>\n",
       "      <td>36 l</td>\n",
       "      <td>10,0 s</td>\n",
       "    </tr>\n",
       "    <tr>\n",
       "      <th>2</th>\n",
       "      <td>TOYOTA Yaris</td>\n",
       "      <td>303</td>\n",
       "      <td>36</td>\n",
       "      <td>20.0</td>\n",
       "      <td>Híbrido</td>\n",
       "      <td>Consultar</td>\n",
       "      <td>Incluido</td>\n",
       "      <td>Incluido</td>\n",
       "      <td>Incluido</td>\n",
       "      <td>116cv(85Kw)</td>\n",
       "      <td>...</td>\n",
       "      <td>174,5 cm</td>\n",
       "      <td>270 l</td>\n",
       "      <td>175 km/h</td>\n",
       "      <td>5</td>\n",
       "      <td>0,0 l</td>\n",
       "      <td>0,0 l</td>\n",
       "      <td>2,8 l</td>\n",
       "      <td>1.065 kg</td>\n",
       "      <td>36 l</td>\n",
       "      <td>10,0 s</td>\n",
       "    </tr>\n",
       "    <tr>\n",
       "      <th>3</th>\n",
       "      <td>TOYOTA Yaris</td>\n",
       "      <td>276</td>\n",
       "      <td>60</td>\n",
       "      <td>15.0</td>\n",
       "      <td>Híbrido</td>\n",
       "      <td>Consultar</td>\n",
       "      <td>Incluido</td>\n",
       "      <td>Incluido</td>\n",
       "      <td>Incluido</td>\n",
       "      <td>116cv(85Kw)</td>\n",
       "      <td>...</td>\n",
       "      <td>174,5 cm</td>\n",
       "      <td>270 l</td>\n",
       "      <td>175 km/h</td>\n",
       "      <td>5</td>\n",
       "      <td>0,0 l</td>\n",
       "      <td>0,0 l</td>\n",
       "      <td>2,8 l</td>\n",
       "      <td>1.065 kg</td>\n",
       "      <td>36 l</td>\n",
       "      <td>10,0 s</td>\n",
       "    </tr>\n",
       "    <tr>\n",
       "      <th>4</th>\n",
       "      <td>TOYOTA Yaris</td>\n",
       "      <td>276</td>\n",
       "      <td>48</td>\n",
       "      <td>15.0</td>\n",
       "      <td>Híbrido</td>\n",
       "      <td>Consultar</td>\n",
       "      <td>Incluido</td>\n",
       "      <td>Incluido</td>\n",
       "      <td>Incluido</td>\n",
       "      <td>116cv(85Kw)</td>\n",
       "      <td>...</td>\n",
       "      <td>174,5 cm</td>\n",
       "      <td>270 l</td>\n",
       "      <td>175 km/h</td>\n",
       "      <td>5</td>\n",
       "      <td>0,0 l</td>\n",
       "      <td>0,0 l</td>\n",
       "      <td>2,8 l</td>\n",
       "      <td>1.065 kg</td>\n",
       "      <td>36 l</td>\n",
       "      <td>10,0 s</td>\n",
       "    </tr>\n",
       "  </tbody>\n",
       "</table>\n",
       "<p>5 rows × 27 columns</p>\n",
       "</div>"
      ],
      "text/plain": [
       "          title  price  contract_months  km_year fuel_type      color  \\\n",
       "0  TOYOTA Yaris    295               60     20.0   Híbrido  Consultar   \n",
       "1  TOYOTA Yaris    291               48     20.0   Híbrido  Consultar   \n",
       "2  TOYOTA Yaris    303               36     20.0   Híbrido  Consultar   \n",
       "3  TOYOTA Yaris    276               60     15.0   Híbrido  Consultar   \n",
       "4  TOYOTA Yaris    276               48     15.0   Híbrido  Consultar   \n",
       "\n",
       "   warranty maintenance     tires        power  ...     width  trunk_vol  \\\n",
       "0  Incluido    Incluido  Incluido  116cv(85Kw)  ...  174,5 cm      270 l   \n",
       "1  Incluido    Incluido  Incluido  116cv(85Kw)  ...  174,5 cm      270 l   \n",
       "2  Incluido    Incluido  Incluido  116cv(85Kw)  ...  174,5 cm      270 l   \n",
       "3  Incluido    Incluido  Incluido  116cv(85Kw)  ...  174,5 cm      270 l   \n",
       "4  Incluido    Incluido  Incluido  116cv(85Kw)  ...  174,5 cm      270 l   \n",
       "\n",
       "  max_speed seats urban_cons xtrurban_cons mixed_cons    weight tank_vol  \\\n",
       "0  175 km/h     5      0,0 l         0,0 l      2,8 l  1.065 kg     36 l   \n",
       "1  175 km/h     5      0,0 l         0,0 l      2,8 l  1.065 kg     36 l   \n",
       "2  175 km/h     5      0,0 l         0,0 l      2,8 l  1.065 kg     36 l   \n",
       "3  175 km/h     5      0,0 l         0,0 l      2,8 l  1.065 kg     36 l   \n",
       "4  175 km/h     5      0,0 l         0,0 l      2,8 l  1.065 kg     36 l   \n",
       "\n",
       "  acceleration  \n",
       "0       10,0 s  \n",
       "1       10,0 s  \n",
       "2       10,0 s  \n",
       "3       10,0 s  \n",
       "4       10,0 s  \n",
       "\n",
       "[5 rows x 27 columns]"
      ]
     },
     "execution_count": 2,
     "metadata": {},
     "output_type": "execute_result"
    }
   ],
   "source": [
    "root = '../data/renting_cars.csv'\n",
    "df = pd.read_csv(root)\n",
    "\n",
    "df.head()"
   ]
  },
  {
   "cell_type": "code",
   "execution_count": 3,
   "metadata": {},
   "outputs": [
    {
     "data": {
      "text/plain": [
       "Index(['title', 'price', 'contract_months', 'km_year', 'fuel_type', 'color',\n",
       "       'warranty', 'maintenance', 'tires', 'power', 'co2_emiss', 'doors',\n",
       "       'gear', 'status', 'chassis', 'height', 'length', 'width', 'trunk_vol',\n",
       "       'max_speed', 'seats', 'urban_cons', 'xtrurban_cons', 'mixed_cons',\n",
       "       'weight', 'tank_vol', 'acceleration'],\n",
       "      dtype='object')"
      ]
     },
     "execution_count": 3,
     "metadata": {},
     "output_type": "execute_result"
    }
   ],
   "source": [
    "df.columns"
   ]
  },
  {
   "cell_type": "code",
   "execution_count": 4,
   "metadata": {},
   "outputs": [
    {
     "data": {
      "text/plain": [
       "2    1921\n",
       "3     450\n",
       "4       1\n",
       "Name: title, dtype: int64"
      ]
     },
     "execution_count": 4,
     "metadata": {},
     "output_type": "execute_result"
    }
   ],
   "source": [
    "df.title.str.split(' ').apply(len).value_counts()"
   ]
  },
  {
   "cell_type": "markdown",
   "metadata": {},
   "source": [
    "### Data Analysis to standardize the dataset"
   ]
  },
  {
   "cell_type": "markdown",
   "metadata": {},
   "source": [
    "What are the most common contacts?"
   ]
  },
  {
   "cell_type": "code",
   "execution_count": 5,
   "metadata": {},
   "outputs": [
    {
     "data": {
      "text/plain": [
       "36    760\n",
       "48    680\n",
       "60    445\n",
       "24    438\n",
       "1      49\n",
       "Name: contract_months, dtype: int64"
      ]
     },
     "execution_count": 5,
     "metadata": {},
     "output_type": "execute_result"
    }
   ],
   "source": [
    "df.contract_months.value_counts()"
   ]
  },
  {
   "cell_type": "code",
   "execution_count": 6,
   "metadata": {},
   "outputs": [
    {
     "data": {
      "text/plain": [
       "15.0    407\n",
       "20.0    401\n",
       "10.0    386\n",
       "25.0    348\n",
       "30.0    187\n",
       "40.0    144\n",
       "35.0    128\n",
       "50.0    101\n",
       "45.0    100\n",
       "55.0     61\n",
       "60.0     60\n",
       "18.0     49\n",
       "Name: km_year, dtype: int64"
      ]
     },
     "execution_count": 6,
     "metadata": {},
     "output_type": "execute_result"
    }
   ],
   "source": [
    "df.km_year.value_counts()"
   ]
  },
  {
   "cell_type": "code",
   "execution_count": 7,
   "metadata": {},
   "outputs": [
    {
     "data": {
      "text/plain": [
       "0       20000\n",
       "1       20000\n",
       "2       20000\n",
       "3       15000\n",
       "4       15000\n",
       "        ...  \n",
       "2367    15000\n",
       "2368    20000\n",
       "2369    25000\n",
       "2370    10000\n",
       "2371    35000\n",
       "Name: km_year, Length: 2372, dtype: int64"
      ]
     },
     "execution_count": 7,
     "metadata": {},
     "output_type": "execute_result"
    }
   ],
   "source": [
    "df.km_year.astype(int) * 1000"
   ]
  },
  {
   "cell_type": "code",
   "execution_count": 8,
   "metadata": {},
   "outputs": [
    {
     "data": {
      "text/plain": [
       "Diesel       1248\n",
       "Gasolina      551\n",
       "Híbrido       405\n",
       "Eléctrico     168\n",
       "Name: fuel_type, dtype: int64"
      ]
     },
     "execution_count": 8,
     "metadata": {},
     "output_type": "execute_result"
    }
   ],
   "source": [
    "df.fuel_type.value_counts()"
   ]
  },
  {
   "cell_type": "code",
   "execution_count": 9,
   "metadata": {},
   "outputs": [
    {
     "data": {
      "text/plain": [
       "5    1960\n",
       "4     285\n",
       "3     127\n",
       "Name: doors, dtype: int64"
      ]
     },
     "execution_count": 9,
     "metadata": {},
     "output_type": "execute_result"
    }
   ],
   "source": [
    "df.doors.value_counts()"
   ]
  },
  {
   "cell_type": "code",
   "execution_count": 10,
   "metadata": {},
   "outputs": [
    {
     "data": {
      "text/plain": [
       "Manual                             1150\n",
       "Automática secuencial               807\n",
       "Automática continua                 235\n",
       "Directo, sin caja de cambios        168\n",
       "Automática continua, secuencial      12\n",
       "Name: gear, dtype: int64"
      ]
     },
     "execution_count": 10,
     "metadata": {},
     "output_type": "execute_result"
    }
   ],
   "source": [
    "df.gear.value_counts()"
   ]
  },
  {
   "cell_type": "code",
   "execution_count": 11,
   "metadata": {},
   "outputs": [
    {
     "data": {
      "text/plain": [
       "Incluido    2372\n",
       "Name: warranty, dtype: int64"
      ]
     },
     "execution_count": 11,
     "metadata": {},
     "output_type": "execute_result"
    }
   ],
   "source": [
    "df.warranty.value_counts()"
   ]
  },
  {
   "cell_type": "code",
   "execution_count": 12,
   "metadata": {},
   "outputs": [
    {
     "data": {
      "text/plain": [
       "['Berlina',\n",
       " 'Todo Terreno',\n",
       " 'Furgon',\n",
       " 'Coupe',\n",
       " 'Stationwagon',\n",
       " 'Monovolumen',\n",
       " 'Combi']"
      ]
     },
     "execution_count": 12,
     "metadata": {},
     "output_type": "execute_result"
    }
   ],
   "source": [
    "list(df.chassis.unique())"
   ]
  },
  {
   "cell_type": "code",
   "execution_count": 13,
   "metadata": {},
   "outputs": [
    {
     "data": {
      "text/plain": [
       "Nuevo        2323\n",
       "Seminuevo      49\n",
       "Name: status, dtype: int64"
      ]
     },
     "execution_count": 13,
     "metadata": {},
     "output_type": "execute_result"
    }
   ],
   "source": [
    "df.status.value_counts()"
   ]
  },
  {
   "cell_type": "code",
   "execution_count": 14,
   "metadata": {},
   "outputs": [
    {
     "data": {
      "text/plain": [
       "New         2323\n",
       "Preowned      49\n",
       "Name: status, dtype: int64"
      ]
     },
     "execution_count": 14,
     "metadata": {},
     "output_type": "execute_result"
    }
   ],
   "source": [
    "df.status.str.replace('Nuevo', 'New').replace('Seminuevo', 'Preowned').value_counts()"
   ]
  },
  {
   "cell_type": "code",
   "execution_count": 15,
   "metadata": {},
   "outputs": [
    {
     "data": {
      "text/plain": [
       "0       150\n",
       "1       150\n",
       "2       150\n",
       "3       150\n",
       "4       150\n",
       "       ... \n",
       "2367    166\n",
       "2368    166\n",
       "2369    166\n",
       "2370    166\n",
       "2371    166\n",
       "Name: height, Length: 2372, dtype: int64"
      ]
     },
     "execution_count": 15,
     "metadata": {},
     "output_type": "execute_result"
    }
   ],
   "source": [
    "round(df.height.str.replace(' cm', '').str.replace(',', '.').astype(float), 0).astype(int)"
   ]
  },
  {
   "cell_type": "code",
   "execution_count": 16,
   "metadata": {},
   "outputs": [
    {
     "data": {
      "text/plain": [
       "Incluido    2372\n",
       "Name: maintenance, dtype: int64"
      ]
     },
     "execution_count": 16,
     "metadata": {},
     "output_type": "execute_result"
    }
   ],
   "source": [
    "df.maintenance.value_counts()"
   ]
  },
  {
   "cell_type": "code",
   "execution_count": 17,
   "metadata": {},
   "outputs": [
    {
     "data": {
      "text/plain": [
       "Incluido       2047\n",
       "No incluido     325\n",
       "Name: tires, dtype: int64"
      ]
     },
     "execution_count": 17,
     "metadata": {},
     "output_type": "execute_result"
    }
   ],
   "source": [
    "df.tires.value_counts()"
   ]
  },
  {
   "cell_type": "code",
   "execution_count": 18,
   "metadata": {},
   "outputs": [
    {
     "data": {
      "text/plain": [
       "BLANCO       965\n",
       "Consultar    943\n",
       "GRIS         197\n",
       "NEGRO        113\n",
       "OTRO          95\n",
       "ROJO          20\n",
       "AZUL          16\n",
       "GRANATE       12\n",
       "PLATEADO      10\n",
       "NARANJA        1\n",
       "Name: color, dtype: int64"
      ]
     },
     "execution_count": 18,
     "metadata": {},
     "output_type": "execute_result"
    }
   ],
   "source": [
    "df.color.value_counts()"
   ]
  },
  {
   "cell_type": "markdown",
   "metadata": {},
   "source": [
    "## Applying the created module"
   ]
  },
  {
   "cell_type": "code",
   "execution_count": 19,
   "metadata": {},
   "outputs": [],
   "source": [
    "from modules.renting_cleanser import brand_renting, clean_renting, paint_renting, order_typify"
   ]
  },
  {
   "cell_type": "code",
   "execution_count": 20,
   "metadata": {},
   "outputs": [],
   "source": [
    "df = brand_renting(df)"
   ]
  },
  {
   "cell_type": "code",
   "execution_count": 21,
   "metadata": {},
   "outputs": [],
   "source": [
    "df = clean_renting(df)"
   ]
  },
  {
   "cell_type": "code",
   "execution_count": 22,
   "metadata": {},
   "outputs": [
    {
     "data": {
      "text/plain": [
       "OTHER     1038\n",
       "WHITE      965\n",
       "GREY       197\n",
       "BLACK      113\n",
       "RED         20\n",
       "BLUE        16\n",
       "ROJO        12\n",
       "SILVER      10\n",
       "ORANGE       1\n",
       "Name: color, dtype: int64"
      ]
     },
     "execution_count": 22,
     "metadata": {},
     "output_type": "execute_result"
    }
   ],
   "source": [
    "df = paint_renting(df)\n",
    "df.color.value_counts()"
   ]
  },
  {
   "cell_type": "code",
   "execution_count": 23,
   "metadata": {},
   "outputs": [
    {
     "data": {
      "text/plain": [
       "title             object\n",
       "price              int64\n",
       "c_months           int64\n",
       "km_year            int64\n",
       "fuel_type         object\n",
       "color             object\n",
       "warranty          object\n",
       "maintenance       object\n",
       "tires             object\n",
       "power             object\n",
       "co2_emiss         object\n",
       "doors              int64\n",
       "gearbox           object\n",
       "status            object\n",
       "chassis           object\n",
       "height           float64\n",
       "length           float64\n",
       "width            float64\n",
       "trunk_vol         object\n",
       "max_speed         object\n",
       "seats              int64\n",
       "urban_cons       float64\n",
       "xtrurban_cons    float64\n",
       "mixed_cons       float64\n",
       "weight            object\n",
       "tank_vol          object\n",
       "acc              float64\n",
       "brand             object\n",
       "model             object\n",
       "dtype: object"
      ]
     },
     "execution_count": 23,
     "metadata": {},
     "output_type": "execute_result"
    }
   ],
   "source": [
    "df.dtypes"
   ]
  },
  {
   "cell_type": "code",
   "execution_count": 24,
   "metadata": {},
   "outputs": [
    {
     "data": {
      "text/plain": [
       "Index(['title', 'price', 'c_months', 'km_year', 'fuel_type', 'color',\n",
       "       'warranty', 'maintenance', 'tires', 'power', 'co2_emiss', 'doors',\n",
       "       'gearbox', 'status', 'chassis', 'height', 'length', 'width',\n",
       "       'trunk_vol', 'max_speed', 'seats', 'urban_cons', 'xtrurban_cons',\n",
       "       'mixed_cons', 'weight', 'tank_vol', 'acc', 'brand', 'model'],\n",
       "      dtype='object')"
      ]
     },
     "execution_count": 24,
     "metadata": {},
     "output_type": "execute_result"
    }
   ],
   "source": [
    "df.columns"
   ]
  },
  {
   "cell_type": "code",
   "execution_count": 25,
   "metadata": {},
   "outputs": [
    {
     "data": {
      "text/html": [
       "<div>\n",
       "<style scoped>\n",
       "    .dataframe tbody tr th:only-of-type {\n",
       "        vertical-align: middle;\n",
       "    }\n",
       "\n",
       "    .dataframe tbody tr th {\n",
       "        vertical-align: top;\n",
       "    }\n",
       "\n",
       "    .dataframe thead th {\n",
       "        text-align: right;\n",
       "    }\n",
       "</style>\n",
       "<table border=\"1\" class=\"dataframe\">\n",
       "  <thead>\n",
       "    <tr style=\"text-align: right;\">\n",
       "      <th></th>\n",
       "      <th>title</th>\n",
       "      <th>brand</th>\n",
       "      <th>model</th>\n",
       "      <th>c_months</th>\n",
       "      <th>km_year</th>\n",
       "      <th>fuel_type</th>\n",
       "      <th>color</th>\n",
       "      <th>gearbox</th>\n",
       "      <th>doors</th>\n",
       "      <th>seats</th>\n",
       "      <th>...</th>\n",
       "      <th>width</th>\n",
       "      <th>trunk_vol</th>\n",
       "      <th>max_speed</th>\n",
       "      <th>urban_cons</th>\n",
       "      <th>xtrurban_cons</th>\n",
       "      <th>mixed_cons</th>\n",
       "      <th>weight</th>\n",
       "      <th>tank_vol</th>\n",
       "      <th>acc</th>\n",
       "      <th>price</th>\n",
       "    </tr>\n",
       "  </thead>\n",
       "  <tbody>\n",
       "    <tr>\n",
       "      <th>0</th>\n",
       "      <td>TOYOTA Yaris</td>\n",
       "      <td>TOYOTA</td>\n",
       "      <td>YARIS</td>\n",
       "      <td>60</td>\n",
       "      <td>20000</td>\n",
       "      <td>Hybrid</td>\n",
       "      <td>OTHER</td>\n",
       "      <td>Automatic</td>\n",
       "      <td>5</td>\n",
       "      <td>5</td>\n",
       "      <td>...</td>\n",
       "      <td>174.5</td>\n",
       "      <td>270</td>\n",
       "      <td>175</td>\n",
       "      <td>0.0</td>\n",
       "      <td>0.0</td>\n",
       "      <td>2.8</td>\n",
       "      <td>1065</td>\n",
       "      <td>36</td>\n",
       "      <td>10.0</td>\n",
       "      <td>295</td>\n",
       "    </tr>\n",
       "    <tr>\n",
       "      <th>1</th>\n",
       "      <td>TOYOTA Yaris</td>\n",
       "      <td>TOYOTA</td>\n",
       "      <td>YARIS</td>\n",
       "      <td>48</td>\n",
       "      <td>20000</td>\n",
       "      <td>Hybrid</td>\n",
       "      <td>OTHER</td>\n",
       "      <td>Automatic</td>\n",
       "      <td>5</td>\n",
       "      <td>5</td>\n",
       "      <td>...</td>\n",
       "      <td>174.5</td>\n",
       "      <td>270</td>\n",
       "      <td>175</td>\n",
       "      <td>0.0</td>\n",
       "      <td>0.0</td>\n",
       "      <td>2.8</td>\n",
       "      <td>1065</td>\n",
       "      <td>36</td>\n",
       "      <td>10.0</td>\n",
       "      <td>291</td>\n",
       "    </tr>\n",
       "    <tr>\n",
       "      <th>2</th>\n",
       "      <td>TOYOTA Yaris</td>\n",
       "      <td>TOYOTA</td>\n",
       "      <td>YARIS</td>\n",
       "      <td>36</td>\n",
       "      <td>20000</td>\n",
       "      <td>Hybrid</td>\n",
       "      <td>OTHER</td>\n",
       "      <td>Automatic</td>\n",
       "      <td>5</td>\n",
       "      <td>5</td>\n",
       "      <td>...</td>\n",
       "      <td>174.5</td>\n",
       "      <td>270</td>\n",
       "      <td>175</td>\n",
       "      <td>0.0</td>\n",
       "      <td>0.0</td>\n",
       "      <td>2.8</td>\n",
       "      <td>1065</td>\n",
       "      <td>36</td>\n",
       "      <td>10.0</td>\n",
       "      <td>303</td>\n",
       "    </tr>\n",
       "    <tr>\n",
       "      <th>3</th>\n",
       "      <td>TOYOTA Yaris</td>\n",
       "      <td>TOYOTA</td>\n",
       "      <td>YARIS</td>\n",
       "      <td>60</td>\n",
       "      <td>15000</td>\n",
       "      <td>Hybrid</td>\n",
       "      <td>OTHER</td>\n",
       "      <td>Automatic</td>\n",
       "      <td>5</td>\n",
       "      <td>5</td>\n",
       "      <td>...</td>\n",
       "      <td>174.5</td>\n",
       "      <td>270</td>\n",
       "      <td>175</td>\n",
       "      <td>0.0</td>\n",
       "      <td>0.0</td>\n",
       "      <td>2.8</td>\n",
       "      <td>1065</td>\n",
       "      <td>36</td>\n",
       "      <td>10.0</td>\n",
       "      <td>276</td>\n",
       "    </tr>\n",
       "    <tr>\n",
       "      <th>4</th>\n",
       "      <td>TOYOTA Yaris</td>\n",
       "      <td>TOYOTA</td>\n",
       "      <td>YARIS</td>\n",
       "      <td>48</td>\n",
       "      <td>15000</td>\n",
       "      <td>Hybrid</td>\n",
       "      <td>OTHER</td>\n",
       "      <td>Automatic</td>\n",
       "      <td>5</td>\n",
       "      <td>5</td>\n",
       "      <td>...</td>\n",
       "      <td>174.5</td>\n",
       "      <td>270</td>\n",
       "      <td>175</td>\n",
       "      <td>0.0</td>\n",
       "      <td>0.0</td>\n",
       "      <td>2.8</td>\n",
       "      <td>1065</td>\n",
       "      <td>36</td>\n",
       "      <td>10.0</td>\n",
       "      <td>276</td>\n",
       "    </tr>\n",
       "  </tbody>\n",
       "</table>\n",
       "<p>5 rows × 29 columns</p>\n",
       "</div>"
      ],
      "text/plain": [
       "          title   brand  model  c_months  km_year fuel_type  color    gearbox  \\\n",
       "0  TOYOTA Yaris  TOYOTA  YARIS        60    20000    Hybrid  OTHER  Automatic   \n",
       "1  TOYOTA Yaris  TOYOTA  YARIS        48    20000    Hybrid  OTHER  Automatic   \n",
       "2  TOYOTA Yaris  TOYOTA  YARIS        36    20000    Hybrid  OTHER  Automatic   \n",
       "3  TOYOTA Yaris  TOYOTA  YARIS        60    15000    Hybrid  OTHER  Automatic   \n",
       "4  TOYOTA Yaris  TOYOTA  YARIS        48    15000    Hybrid  OTHER  Automatic   \n",
       "\n",
       "   doors  seats  ...  width trunk_vol max_speed urban_cons xtrurban_cons  \\\n",
       "0      5      5  ...  174.5       270       175        0.0           0.0   \n",
       "1      5      5  ...  174.5       270       175        0.0           0.0   \n",
       "2      5      5  ...  174.5       270       175        0.0           0.0   \n",
       "3      5      5  ...  174.5       270       175        0.0           0.0   \n",
       "4      5      5  ...  174.5       270       175        0.0           0.0   \n",
       "\n",
       "   mixed_cons  weight  tank_vol   acc  price  \n",
       "0         2.8    1065        36  10.0    295  \n",
       "1         2.8    1065        36  10.0    291  \n",
       "2         2.8    1065        36  10.0    303  \n",
       "3         2.8    1065        36  10.0    276  \n",
       "4         2.8    1065        36  10.0    276  \n",
       "\n",
       "[5 rows x 29 columns]"
      ]
     },
     "execution_count": 25,
     "metadata": {},
     "output_type": "execute_result"
    }
   ],
   "source": [
    "df = order_typify(df)\n",
    "df.head()"
   ]
  },
  {
   "cell_type": "code",
   "execution_count": 26,
   "metadata": {},
   "outputs": [
    {
     "data": {
      "text/plain": [
       "title             object\n",
       "brand             object\n",
       "model             object\n",
       "c_months           int64\n",
       "km_year            int64\n",
       "fuel_type         object\n",
       "color             object\n",
       "gearbox           object\n",
       "doors              int64\n",
       "seats              int64\n",
       "warranty          object\n",
       "maintenance       object\n",
       "tires             object\n",
       "status            object\n",
       "chassis           object\n",
       "power              int64\n",
       "co2_emiss          int64\n",
       "height           float64\n",
       "length           float64\n",
       "width            float64\n",
       "trunk_vol          int64\n",
       "max_speed          int64\n",
       "urban_cons       float64\n",
       "xtrurban_cons    float64\n",
       "mixed_cons       float64\n",
       "weight             int64\n",
       "tank_vol           int64\n",
       "acc              float64\n",
       "price              int64\n",
       "dtype: object"
      ]
     },
     "execution_count": 26,
     "metadata": {},
     "output_type": "execute_result"
    }
   ],
   "source": [
    "df.dtypes"
   ]
  },
  {
   "cell_type": "markdown",
   "metadata": {},
   "source": [
    "### The renting dataset is ready to be used for modeling!"
   ]
  },
  {
   "cell_type": "code",
   "execution_count": 27,
   "metadata": {},
   "outputs": [],
   "source": [
    "df.to_csv('../data/renting.csv', index=False)"
   ]
  }
 ],
 "metadata": {
  "kernelspec": {
   "display_name": "Python 3",
   "language": "python",
   "name": "python3"
  },
  "language_info": {
   "codemirror_mode": {
    "name": "ipython",
    "version": 3
   },
   "file_extension": ".py",
   "mimetype": "text/x-python",
   "name": "python",
   "nbconvert_exporter": "python",
   "pygments_lexer": "ipython3",
   "version": "3.7.1"
  }
 },
 "nbformat": 4,
 "nbformat_minor": 4
}
