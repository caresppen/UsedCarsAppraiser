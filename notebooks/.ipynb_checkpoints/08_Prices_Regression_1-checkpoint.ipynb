{
 "cells": [
  {
   "cell_type": "markdown",
   "metadata": {},
   "source": [
    "# Applying ML Regression Algorithm: Prices"
   ]
  },
  {
   "cell_type": "code",
   "execution_count": 1,
   "metadata": {},
   "outputs": [],
   "source": [
    "import pandas as pd\n",
    "import numpy as np\n",
    "import sys\n",
    "sys.path.append('..')"
   ]
  },
  {
   "cell_type": "markdown",
   "metadata": {},
   "source": [
    "## Loading data"
   ]
  },
  {
   "cell_type": "code",
   "execution_count": 2,
   "metadata": {},
   "outputs": [
    {
     "data": {
      "text/html": [
       "<div>\n",
       "<style scoped>\n",
       "    .dataframe tbody tr th:only-of-type {\n",
       "        vertical-align: middle;\n",
       "    }\n",
       "\n",
       "    .dataframe tbody tr th {\n",
       "        vertical-align: top;\n",
       "    }\n",
       "\n",
       "    .dataframe thead th {\n",
       "        text-align: right;\n",
       "    }\n",
       "</style>\n",
       "<table border=\"1\" class=\"dataframe\">\n",
       "  <thead>\n",
       "    <tr style=\"text-align: right;\">\n",
       "      <th></th>\n",
       "      <th>doors</th>\n",
       "      <th>co2_emiss</th>\n",
       "      <th>height</th>\n",
       "      <th>length</th>\n",
       "      <th>max_speed</th>\n",
       "      <th>mixed_cons</th>\n",
       "      <th>weight</th>\n",
       "      <th>tank_vol</th>\n",
       "      <th>acc</th>\n",
       "      <th>price</th>\n",
       "      <th>...</th>\n",
       "      <th>Offroad</th>\n",
       "      <th>Pickup</th>\n",
       "      <th>Roadster</th>\n",
       "      <th>Sedan</th>\n",
       "      <th>Stationwagon</th>\n",
       "      <th>Targa</th>\n",
       "      <th>Van</th>\n",
       "      <th>brand_encoded</th>\n",
       "      <th>model_encoded</th>\n",
       "      <th>city_encoded</th>\n",
       "    </tr>\n",
       "  </thead>\n",
       "  <tbody>\n",
       "    <tr>\n",
       "      <th>0</th>\n",
       "      <td>2</td>\n",
       "      <td>99</td>\n",
       "      <td>157</td>\n",
       "      <td>270</td>\n",
       "      <td>145</td>\n",
       "      <td>4.3</td>\n",
       "      <td>780</td>\n",
       "      <td>33</td>\n",
       "      <td>13.7</td>\n",
       "      <td>5500</td>\n",
       "      <td>...</td>\n",
       "      <td>0.0</td>\n",
       "      <td>0.0</td>\n",
       "      <td>0.0</td>\n",
       "      <td>0.0</td>\n",
       "      <td>0.0</td>\n",
       "      <td>0.0</td>\n",
       "      <td>0.0</td>\n",
       "      <td>11039.980916</td>\n",
       "      <td>10171.125628</td>\n",
       "      <td>15841.032810</td>\n",
       "    </tr>\n",
       "    <tr>\n",
       "      <th>1</th>\n",
       "      <td>3</td>\n",
       "      <td>179</td>\n",
       "      <td>140</td>\n",
       "      <td>426</td>\n",
       "      <td>235</td>\n",
       "      <td>7.6</td>\n",
       "      <td>1373</td>\n",
       "      <td>55</td>\n",
       "      <td>7.2</td>\n",
       "      <td>10900</td>\n",
       "      <td>...</td>\n",
       "      <td>0.0</td>\n",
       "      <td>0.0</td>\n",
       "      <td>0.0</td>\n",
       "      <td>0.0</td>\n",
       "      <td>0.0</td>\n",
       "      <td>0.0</td>\n",
       "      <td>0.0</td>\n",
       "      <td>17051.258362</td>\n",
       "      <td>13160.993789</td>\n",
       "      <td>18049.881613</td>\n",
       "    </tr>\n",
       "    <tr>\n",
       "      <th>2</th>\n",
       "      <td>4</td>\n",
       "      <td>109</td>\n",
       "      <td>142</td>\n",
       "      <td>453</td>\n",
       "      <td>222</td>\n",
       "      <td>4.2</td>\n",
       "      <td>1545</td>\n",
       "      <td>42</td>\n",
       "      <td>8.5</td>\n",
       "      <td>36100</td>\n",
       "      <td>...</td>\n",
       "      <td>0.0</td>\n",
       "      <td>0.0</td>\n",
       "      <td>0.0</td>\n",
       "      <td>0.0</td>\n",
       "      <td>0.0</td>\n",
       "      <td>0.0</td>\n",
       "      <td>0.0</td>\n",
       "      <td>23572.093803</td>\n",
       "      <td>23508.383973</td>\n",
       "      <td>18554.493671</td>\n",
       "    </tr>\n",
       "    <tr>\n",
       "      <th>3</th>\n",
       "      <td>5</td>\n",
       "      <td>142</td>\n",
       "      <td>162</td>\n",
       "      <td>467</td>\n",
       "      <td>212</td>\n",
       "      <td>5.4</td>\n",
       "      <td>1740</td>\n",
       "      <td>67</td>\n",
       "      <td>8.0</td>\n",
       "      <td>28000</td>\n",
       "      <td>...</td>\n",
       "      <td>0.0</td>\n",
       "      <td>0.0</td>\n",
       "      <td>0.0</td>\n",
       "      <td>0.0</td>\n",
       "      <td>0.0</td>\n",
       "      <td>0.0</td>\n",
       "      <td>0.0</td>\n",
       "      <td>23572.093803</td>\n",
       "      <td>36412.589552</td>\n",
       "      <td>16569.441935</td>\n",
       "    </tr>\n",
       "    <tr>\n",
       "      <th>4</th>\n",
       "      <td>2</td>\n",
       "      <td>488</td>\n",
       "      <td>123</td>\n",
       "      <td>446</td>\n",
       "      <td>189</td>\n",
       "      <td>21.0</td>\n",
       "      <td>1546</td>\n",
       "      <td>70</td>\n",
       "      <td>3.9</td>\n",
       "      <td>27990</td>\n",
       "      <td>...</td>\n",
       "      <td>0.0</td>\n",
       "      <td>0.0</td>\n",
       "      <td>0.0</td>\n",
       "      <td>0.0</td>\n",
       "      <td>0.0</td>\n",
       "      <td>0.0</td>\n",
       "      <td>0.0</td>\n",
       "      <td>12506.369048</td>\n",
       "      <td>17773.464491</td>\n",
       "      <td>17306.168324</td>\n",
       "    </tr>\n",
       "  </tbody>\n",
       "</table>\n",
       "<p>5 rows × 60 columns</p>\n",
       "</div>"
      ],
      "text/plain": [
       "   doors  co2_emiss  height  length  max_speed  mixed_cons  weight  tank_vol  \\\n",
       "0      2         99     157     270        145         4.3     780        33   \n",
       "1      3        179     140     426        235         7.6    1373        55   \n",
       "2      4        109     142     453        222         4.2    1545        42   \n",
       "3      5        142     162     467        212         5.4    1740        67   \n",
       "4      2        488     123     446        189        21.0    1546        70   \n",
       "\n",
       "    acc  price  ...  Offroad  Pickup  Roadster  Sedan  Stationwagon  Targa  \\\n",
       "0  13.7   5500  ...      0.0     0.0       0.0    0.0           0.0    0.0   \n",
       "1   7.2  10900  ...      0.0     0.0       0.0    0.0           0.0    0.0   \n",
       "2   8.5  36100  ...      0.0     0.0       0.0    0.0           0.0    0.0   \n",
       "3   8.0  28000  ...      0.0     0.0       0.0    0.0           0.0    0.0   \n",
       "4   3.9  27990  ...      0.0     0.0       0.0    0.0           0.0    0.0   \n",
       "\n",
       "   Van  brand_encoded  model_encoded  city_encoded  \n",
       "0  0.0   11039.980916   10171.125628  15841.032810  \n",
       "1  0.0   17051.258362   13160.993789  18049.881613  \n",
       "2  0.0   23572.093803   23508.383973  18554.493671  \n",
       "3  0.0   23572.093803   36412.589552  16569.441935  \n",
       "4  0.0   12506.369048   17773.464491  17306.168324  \n",
       "\n",
       "[5 rows x 60 columns]"
      ]
     },
     "execution_count": 2,
     "metadata": {},
     "output_type": "execute_result"
    }
   ],
   "source": [
    "root = '../data/cars_reg.csv'\n",
    "\n",
    "df = pd.read_csv(root)\n",
    "df.head()"
   ]
  },
  {
   "cell_type": "markdown",
   "metadata": {},
   "source": [
    "## Separating the data into features (X) and target (y) variables"
   ]
  },
  {
   "cell_type": "code",
   "execution_count": 3,
   "metadata": {},
   "outputs": [],
   "source": [
    "# Train-Test Split\n",
    "from sklearn.model_selection import train_test_split"
   ]
  },
  {
   "cell_type": "code",
   "execution_count": 4,
   "metadata": {},
   "outputs": [],
   "source": [
    "# Removing some outliers\n",
    "features = df.drop('price', axis=1)\n",
    "target = df['price']"
   ]
  },
  {
   "cell_type": "code",
   "execution_count": 5,
   "metadata": {},
   "outputs": [],
   "source": [
    "X_train, X_test, y_train, y_test = train_test_split(features, target, test_size=0.2, random_state=42)"
   ]
  },
  {
   "cell_type": "markdown",
   "metadata": {},
   "source": [
    "## Applying Regression Models\n",
    "The objective is to obtain the best posible model by evaluating the performance of 7 models"
   ]
  },
  {
   "cell_type": "code",
   "execution_count": 6,
   "metadata": {},
   "outputs": [],
   "source": [
    "# Regression linear models\n",
    "from sklearn.linear_model import LinearRegression\n",
    "from sklearn.linear_model import Ridge\n",
    "\n",
    "# Tree model\n",
    "from sklearn.ensemble import RandomForestRegressor\n",
    "\n",
    "# Support Vector Machine model\n",
    "from sklearn.svm import SVR\n",
    "\n",
    "# Gradient Boosting models\n",
    "import xgboost as xgb\n",
    "from lightgbm import LGBMRegressor\n",
    "from catboost import CatBoostRegressor\n",
    "\n",
    "# Model Evaluators\n",
    "from sklearn import model_selection\n",
    "from modules.model_evaluator import eval_reg\n",
    "from sklearn.metrics import mean_squared_error as mse, mean_absolute_error as mae, explained_variance_score as evs"
   ]
  },
  {
   "cell_type": "markdown",
   "metadata": {},
   "source": [
    "Importing `scikit-learn` main functions for training the model.\n",
    "\n",
    "Gradient Boost Algorithms were explored and understood following [this Medium Article](https://towardsdatascience.com/lightgbm-vs-xgboost-which-algorithm-win-the-race-1ff7dd4917d)"
   ]
  },
  {
   "cell_type": "markdown",
   "metadata": {},
   "source": [
    "### Linear Regression"
   ]
  },
  {
   "cell_type": "code",
   "execution_count": 7,
   "metadata": {},
   "outputs": [
    {
     "name": "stdout",
     "output_type": "stream",
     "text": [
      "### MEASURES OF REGRESSION MODEL ###\n",
      "------------------------------------\n",
      "\n",
      "R2 = 0.6804\n",
      "\n",
      "RMSE = 7347.8798\n",
      "\n",
      "MSE = 53991337.9755\n",
      "\n",
      "MSLE not possible to be applied. Predicitons contain negative values.\n",
      "\n",
      "MAE = 4915.9177\n",
      "\n",
      "EVS = 68.0534%\n",
      "\n"
     ]
    }
   ],
   "source": [
    "lr = LinearRegression()\n",
    "lr.fit(X_train, y_train)\n",
    "\n",
    "predictions = lr.predict(X_test)\n",
    "\n",
    "eval_reg(y_test, predictions)"
   ]
  },
  {
   "cell_type": "markdown",
   "metadata": {},
   "source": [
    "### Ridge Regression"
   ]
  },
  {
   "cell_type": "code",
   "execution_count": 8,
   "metadata": {},
   "outputs": [
    {
     "name": "stdout",
     "output_type": "stream",
     "text": [
      "### MEASURES OF REGRESSION MODEL ###\n",
      "------------------------------------\n",
      "\n",
      "R2 = 0.6805\n",
      "\n",
      "RMSE = 7347.3791\n",
      "\n",
      "MSE = 53983979.4535\n",
      "\n",
      "MSLE not possible to be applied. Predicitons contain negative values.\n",
      "\n",
      "MAE = 4915.7982\n",
      "\n",
      "EVS = 68.0576%\n",
      "\n"
     ]
    }
   ],
   "source": [
    "rd = Ridge()\n",
    "rd.fit(X_train, y_train)\n",
    "\n",
    "predictions = rd.predict(X_test)\n",
    "\n",
    "eval_reg(y_test, predictions)"
   ]
  },
  {
   "cell_type": "markdown",
   "metadata": {},
   "source": [
    "### Random Forest Regressor"
   ]
  },
  {
   "cell_type": "code",
   "execution_count": 9,
   "metadata": {},
   "outputs": [
    {
     "name": "stdout",
     "output_type": "stream",
     "text": [
      "### MEASURES OF REGRESSION MODEL ###\n",
      "------------------------------------\n",
      "\n",
      "R2 = 0.8848\n",
      "\n",
      "RMSE = 4410.9948\n",
      "\n",
      "MSE = 19456875.4135\n",
      "\n",
      "MSLE = 0.0722\n",
      "\n",
      "MAE = 2603.0571\n",
      "\n",
      "EVS = 88.4859%\n",
      "\n"
     ]
    }
   ],
   "source": [
    "rf = RandomForestRegressor()\n",
    "rf.fit(X_train, y_train)\n",
    "\n",
    "predictions = rf.predict(X_test)\n",
    "\n",
    "eval_reg(y_test, predictions)"
   ]
  },
  {
   "cell_type": "markdown",
   "metadata": {},
   "source": [
    "### Support Vector Regression"
   ]
  },
  {
   "cell_type": "code",
   "execution_count": 10,
   "metadata": {},
   "outputs": [
    {
     "name": "stdout",
     "output_type": "stream",
     "text": [
      "### MEASURES OF REGRESSION MODEL ###\n",
      "------------------------------------\n",
      "\n",
      "R2 = 0.1427\n",
      "\n",
      "RMSE = 12035.1997\n",
      "\n",
      "MSE = 144846030.8822\n",
      "\n",
      "MSLE = 0.4510\n",
      "\n",
      "MAE = 7743.9395\n",
      "\n",
      "EVS = 18.2469%\n",
      "\n"
     ]
    }
   ],
   "source": [
    "svr = SVR()\n",
    "svr.fit(X_train, y_train)\n",
    "\n",
    "predictions = svr.predict(X_test)\n",
    "\n",
    "eval_reg(y_test, predictions)"
   ]
  },
  {
   "cell_type": "markdown",
   "metadata": {},
   "source": [
    "### XGBoost Regressor"
   ]
  },
  {
   "cell_type": "code",
   "execution_count": 11,
   "metadata": {},
   "outputs": [
    {
     "name": "stdout",
     "output_type": "stream",
     "text": [
      "### MEASURES OF REGRESSION MODEL ###\n",
      "------------------------------------\n",
      "\n",
      "R2 = 0.8736\n",
      "\n",
      "RMSE = 4621.8174\n",
      "\n",
      "MSE = 21361196.4862\n",
      "\n",
      "MSLE not possible to be applied. Predicitons contain negative values.\n",
      "\n",
      "MAE = 2957.5602\n",
      "\n",
      "EVS = 87.3577%\n",
      "\n"
     ]
    }
   ],
   "source": [
    "xgb_model = xgb.XGBRegressor()\n",
    "xgb_model.fit(X_train, y_train)\n",
    "\n",
    "predictions = xgb_model.predict(X_test)\n",
    "\n",
    "eval_reg(y_test, predictions)"
   ]
  },
  {
   "cell_type": "markdown",
   "metadata": {},
   "source": [
    "### Light Gradient Boosting Machine (LGBM) Regressor"
   ]
  },
  {
   "cell_type": "code",
   "execution_count": 12,
   "metadata": {},
   "outputs": [
    {
     "name": "stdout",
     "output_type": "stream",
     "text": [
      "### MEASURES OF REGRESSION MODEL ###\n",
      "------------------------------------\n",
      "\n",
      "R2 = 0.8524\n",
      "\n",
      "RMSE = 4994.6053\n",
      "\n",
      "MSE = 24946082.0588\n",
      "\n",
      "MSLE not possible to be applied. Predicitons contain negative values.\n",
      "\n",
      "MAE = 3303.4865\n",
      "\n",
      "EVS = 85.2395%\n",
      "\n"
     ]
    }
   ],
   "source": [
    "lgb_model = LGBMRegressor()\n",
    "lgb_model.fit(X_train, y_train)\n",
    "\n",
    "predictions = lgb_model.predict(X_test)\n",
    "\n",
    "eval_reg(y_test, predictions)"
   ]
  },
  {
   "cell_type": "markdown",
   "metadata": {},
   "source": [
    "### CatBoost Regressor"
   ]
  },
  {
   "cell_type": "code",
   "execution_count": 13,
   "metadata": {},
   "outputs": [
    {
     "name": "stdout",
     "output_type": "stream",
     "text": [
      "### MEASURES OF REGRESSION MODEL ###\n",
      "------------------------------------\n",
      "\n",
      "R2 = 0.8729\n",
      "\n",
      "RMSE = 4634.0105\n",
      "\n",
      "MSE = 21474053.5612\n",
      "\n",
      "MSLE not possible to be applied. Predicitons contain negative values.\n",
      "\n",
      "MAE = 3006.4572\n",
      "\n",
      "EVS = 87.2917%\n",
      "\n"
     ]
    }
   ],
   "source": [
    "cb_model = CatBoostRegressor(verbose=False)\n",
    "cb_model.fit(X_train, y_train)\n",
    "\n",
    "predictions = cb_model.predict(X_test)\n",
    "\n",
    "eval_reg(y_test, predictions)"
   ]
  },
  {
   "cell_type": "markdown",
   "metadata": {},
   "source": [
    "---"
   ]
  },
  {
   "cell_type": "markdown",
   "metadata": {},
   "source": [
    "## Visualizing predictions from model"
   ]
  },
  {
   "cell_type": "code",
   "execution_count": 14,
   "metadata": {},
   "outputs": [],
   "source": [
    "import matplotlib.pyplot as plt"
   ]
  },
  {
   "cell_type": "code",
   "execution_count": 15,
   "metadata": {},
   "outputs": [
    {
     "data": {
      "image/png": "[encoded data removed]",
      "text/plain": [
       "<Figure size 432x288 with 1 Axes>"
      ]
     },
     "metadata": {
      "needs_background": "light"
     },
     "output_type": "display_data"
    }
   ],
   "source": [
    "plt.scatter(y_test, predictions);"
   ]
  },
  {
   "cell_type": "markdown",
   "metadata": {},
   "source": [
    "## Comparing ML Regression Algorithms "
   ]
  },
  {
   "cell_type": "markdown",
   "metadata": {},
   "source": [
    "Based on [Jason Brownlee's article](https://machinelearningmastery.com/compare-machine-learning-algorithms-python-scikit-learn/)."
   ]
  },
  {
   "cell_type": "markdown",
   "metadata": {},
   "source": [
    "Since the performance of the `SVR` ($R^2 = 0.1427$) was really poor, it will be excluded from the next model analysis."
   ]
  },
  {
   "cell_type": "code",
   "execution_count": 16,
   "metadata": {},
   "outputs": [
    {
     "name": "stdout",
     "output_type": "stream",
     "text": [
      "LR: 0.6697198132594168 (0.007359743729852505)\n",
      "RD: 0.6697518087168138 (0.007385523997607979)\n",
      "RF: 0.8850400992530979 (0.005538027856722746)\n",
      "XGB: 0.8716730928540853 (0.005527604961297416)\n",
      "LGBM: 0.849747949832827 (0.004445534828616155)\n",
      "CB: 0.8699328665193274 (0.0052279062268272185)\n"
     ]
    }
   ],
   "source": [
    "seed = 42\n",
    "\n",
    "# listing models\n",
    "models = []\n",
    "models.append(('LR', LinearRegression()))\n",
    "models.append(('RD', Ridge()))\n",
    "models.append(('RF', RandomForestRegressor()))\n",
    "models.append(('XGB', xgb.XGBRegressor()))\n",
    "models.append(('LGBM', LGBMRegressor()))\n",
    "models.append(('CB', CatBoostRegressor(verbose=False)))\n",
    "\n",
    "# evaluate each model\n",
    "results = []\n",
    "names = []\n",
    "scoring = 'r2'\n",
    "\n",
    "for name, model in models:\n",
    "    kfold = model_selection.KFold(n_splits=10, random_state=seed, shuffle=True)\n",
    "    cv_results = model_selection.cross_val_score(estimator=model,\n",
    "                                                 X=features,\n",
    "                                                 y=target,\n",
    "                                                 cv=kfold,\n",
    "                                                 scoring=scoring)\n",
    "    results.append(cv_results)\n",
    "    names.append(name)\n",
    "    msg = \"{}: {} ({})\".format(name, cv_results.mean(), cv_results.std())\n",
    "    print(msg)"
   ]
  },
  {
   "cell_type": "markdown",
   "metadata": {},
   "source": [
    "`RF` was the model with the best performance after applying a cross-validation process.\n",
    "\n",
    "However, `Boosting` algorithms will be also considered as potential candidates."
   ]
  },
  {
   "cell_type": "code",
   "execution_count": 17,
   "metadata": {},
   "outputs": [
    {
     "data": {
      "image/png": "[encoded data removed]",
      "text/plain": [
       "<Figure size 432x288 with 1 Axes>"
      ]
     },
     "metadata": {
      "needs_background": "light"
     },
     "output_type": "display_data"
    }
   ],
   "source": [
    "# boxplot algorithm comparison\n",
    "fig = plt.figure()\n",
    "fig.suptitle('Regression Algorithm Comparison')\n",
    "ax = fig.add_subplot(111)\n",
    "plt.boxplot(results)\n",
    "ax.set_xticklabels(names)\n",
    "\n",
    "plt.show()"
   ]
  },
  {
   "cell_type": "markdown",
   "metadata": {},
   "source": [
    "In the boxplot above, it is possible to see the great difference in performance of the `Boosting & RandomForest` Algorithm compared to the `LinearRegression & Ridge` Algorithms."
   ]
  },
  {
   "cell_type": "code",
   "execution_count": 19,
   "metadata": {},
   "outputs": [
    {
     "data": {
      "image/png": "[encoded data removed]",
      "text/plain": [
       "<Figure size 432x288 with 1 Axes>"
      ]
     },
     "metadata": {
      "needs_background": "light"
     },
     "output_type": "display_data"
    }
   ],
   "source": [
    "# boxplot best algorithms comparison\n",
    "fig = plt.figure()\n",
    "fig.suptitle('Regression Algorithm Comparison')\n",
    "ax = fig.add_subplot(111)\n",
    "plt.boxplot(results[2:])\n",
    "ax.set_xticklabels(names[2:])\n",
    "\n",
    "plt.show()"
   ]
  },
  {
   "cell_type": "markdown",
   "metadata": {},
   "source": [
    "---"
   ]
  },
  {
   "cell_type": "markdown",
   "metadata": {},
   "source": [
    "## Deep Learning. Trying a Neural Network model: Multi-Layer Perceptron (MLP)"
   ]
  },
  {
   "cell_type": "code",
   "execution_count": null,
   "metadata": {},
   "outputs": [],
   "source": []
  },
  {
   "cell_type": "markdown",
   "metadata": {},
   "source": [
    "---"
   ]
  },
  {
   "cell_type": "markdown",
   "metadata": {},
   "source": [
    "## Applying a MinMaxScaler to standardize the dataset"
   ]
  },
  {
   "cell_type": "markdown",
   "metadata": {},
   "source": [
    "Let's see if data standardization improves the performance of the selected model. "
   ]
  },
  {
   "cell_type": "code",
   "execution_count": null,
   "metadata": {},
   "outputs": [],
   "source": []
  },
  {
   "cell_type": "code",
   "execution_count": null,
   "metadata": {},
   "outputs": [],
   "source": []
  }
 ],
 "metadata": {
  "kernelspec": {
   "display_name": "Python 3",
   "language": "python",
   "name": "python3"
  },
  "language_info": {
   "codemirror_mode": {
    "name": "ipython",
    "version": 3
   },
   "file_extension": ".py",
   "mimetype": "text/x-python",
   "name": "python",
   "nbconvert_exporter": "python",
   "pygments_lexer": "ipython3",
   "version": "3.7.1"
  }
 },
 "nbformat": 4,
 "nbformat_minor": 4
}
