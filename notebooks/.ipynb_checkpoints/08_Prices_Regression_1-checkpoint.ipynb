{
 "cells": [
  {
   "cell_type": "markdown",
   "metadata": {},
   "source": [
    "# Applying ML Regression Algorithm: Prices"
   ]
  },
  {
   "cell_type": "code",
   "execution_count": 1,
   "metadata": {},
   "outputs": [],
   "source": [
    "import pandas as pd\n",
    "import numpy as np\n",
    "import sys\n",
    "sys.path.append('..')"
   ]
  },
  {
   "cell_type": "markdown",
   "metadata": {},
   "source": [
    "## Loading data"
   ]
  },
  {
   "cell_type": "code",
   "execution_count": 2,
   "metadata": {},
   "outputs": [
    {
     "data": {
      "text/html": [
       "<div>\n",
       "<style scoped>\n",
       "    .dataframe tbody tr th:only-of-type {\n",
       "        vertical-align: middle;\n",
       "    }\n",
       "\n",
       "    .dataframe tbody tr th {\n",
       "        vertical-align: top;\n",
       "    }\n",
       "\n",
       "    .dataframe thead th {\n",
       "        text-align: right;\n",
       "    }\n",
       "</style>\n",
       "<table border=\"1\" class=\"dataframe\">\n",
       "  <thead>\n",
       "    <tr style=\"text-align: right;\">\n",
       "      <th></th>\n",
       "      <th>doors</th>\n",
       "      <th>co2_emiss</th>\n",
       "      <th>height</th>\n",
       "      <th>length</th>\n",
       "      <th>max_speed</th>\n",
       "      <th>mixed_cons</th>\n",
       "      <th>weight</th>\n",
       "      <th>tank_vol</th>\n",
       "      <th>acc</th>\n",
       "      <th>price</th>\n",
       "      <th>...</th>\n",
       "      <th>warranty_NO</th>\n",
       "      <th>warranty_YES</th>\n",
       "      <th>dealer_Individual</th>\n",
       "      <th>dealer_Professional</th>\n",
       "      <th>brand_encoded</th>\n",
       "      <th>model_encoded</th>\n",
       "      <th>city_encoded</th>\n",
       "      <th>color_encoded</th>\n",
       "      <th>type_encoded</th>\n",
       "      <th>chassis_encoded</th>\n",
       "    </tr>\n",
       "  </thead>\n",
       "  <tbody>\n",
       "    <tr>\n",
       "      <th>0</th>\n",
       "      <td>2</td>\n",
       "      <td>99</td>\n",
       "      <td>157</td>\n",
       "      <td>270</td>\n",
       "      <td>145</td>\n",
       "      <td>4.3</td>\n",
       "      <td>780</td>\n",
       "      <td>33</td>\n",
       "      <td>13.7</td>\n",
       "      <td>5500</td>\n",
       "      <td>...</td>\n",
       "      <td>0.0</td>\n",
       "      <td>1.0</td>\n",
       "      <td>0.0</td>\n",
       "      <td>1.0</td>\n",
       "      <td>11039.980916</td>\n",
       "      <td>10171.125628</td>\n",
       "      <td>15841.032810</td>\n",
       "      <td>16998.492107</td>\n",
       "      <td>28133.811134</td>\n",
       "      <td>20602.196957</td>\n",
       "    </tr>\n",
       "    <tr>\n",
       "      <th>1</th>\n",
       "      <td>3</td>\n",
       "      <td>179</td>\n",
       "      <td>140</td>\n",
       "      <td>426</td>\n",
       "      <td>235</td>\n",
       "      <td>7.6</td>\n",
       "      <td>1373</td>\n",
       "      <td>55</td>\n",
       "      <td>7.2</td>\n",
       "      <td>10900</td>\n",
       "      <td>...</td>\n",
       "      <td>0.0</td>\n",
       "      <td>1.0</td>\n",
       "      <td>0.0</td>\n",
       "      <td>1.0</td>\n",
       "      <td>17051.258362</td>\n",
       "      <td>13160.993789</td>\n",
       "      <td>18049.881613</td>\n",
       "      <td>16998.492107</td>\n",
       "      <td>28133.811134</td>\n",
       "      <td>31238.629315</td>\n",
       "    </tr>\n",
       "    <tr>\n",
       "      <th>2</th>\n",
       "      <td>4</td>\n",
       "      <td>109</td>\n",
       "      <td>142</td>\n",
       "      <td>453</td>\n",
       "      <td>222</td>\n",
       "      <td>4.2</td>\n",
       "      <td>1545</td>\n",
       "      <td>42</td>\n",
       "      <td>8.5</td>\n",
       "      <td>36100</td>\n",
       "      <td>...</td>\n",
       "      <td>0.0</td>\n",
       "      <td>1.0</td>\n",
       "      <td>0.0</td>\n",
       "      <td>1.0</td>\n",
       "      <td>23572.093803</td>\n",
       "      <td>23508.383973</td>\n",
       "      <td>18554.493671</td>\n",
       "      <td>21242.844857</td>\n",
       "      <td>28133.811134</td>\n",
       "      <td>31238.629315</td>\n",
       "    </tr>\n",
       "    <tr>\n",
       "      <th>3</th>\n",
       "      <td>5</td>\n",
       "      <td>142</td>\n",
       "      <td>162</td>\n",
       "      <td>467</td>\n",
       "      <td>212</td>\n",
       "      <td>5.4</td>\n",
       "      <td>1740</td>\n",
       "      <td>67</td>\n",
       "      <td>8.0</td>\n",
       "      <td>28000</td>\n",
       "      <td>...</td>\n",
       "      <td>0.0</td>\n",
       "      <td>1.0</td>\n",
       "      <td>0.0</td>\n",
       "      <td>1.0</td>\n",
       "      <td>23572.093803</td>\n",
       "      <td>36412.589552</td>\n",
       "      <td>16569.441935</td>\n",
       "      <td>16998.492107</td>\n",
       "      <td>28133.811134</td>\n",
       "      <td>31238.629315</td>\n",
       "    </tr>\n",
       "    <tr>\n",
       "      <th>4</th>\n",
       "      <td>2</td>\n",
       "      <td>488</td>\n",
       "      <td>123</td>\n",
       "      <td>446</td>\n",
       "      <td>189</td>\n",
       "      <td>21.0</td>\n",
       "      <td>1546</td>\n",
       "      <td>70</td>\n",
       "      <td>3.9</td>\n",
       "      <td>27990</td>\n",
       "      <td>...</td>\n",
       "      <td>0.0</td>\n",
       "      <td>1.0</td>\n",
       "      <td>0.0</td>\n",
       "      <td>1.0</td>\n",
       "      <td>12506.369048</td>\n",
       "      <td>17773.464491</td>\n",
       "      <td>17306.168324</td>\n",
       "      <td>17415.598758</td>\n",
       "      <td>28133.811134</td>\n",
       "      <td>31238.629315</td>\n",
       "    </tr>\n",
       "  </tbody>\n",
       "</table>\n",
       "<p>5 rows × 27 columns</p>\n",
       "</div>"
      ],
      "text/plain": [
       "   doors  co2_emiss  height  length  max_speed  mixed_cons  weight  tank_vol  \\\n",
       "0      2         99     157     270        145         4.3     780        33   \n",
       "1      3        179     140     426        235         7.6    1373        55   \n",
       "2      4        109     142     453        222         4.2    1545        42   \n",
       "3      5        142     162     467        212         5.4    1740        67   \n",
       "4      2        488     123     446        189        21.0    1546        70   \n",
       "\n",
       "    acc  price  ...  warranty_NO  warranty_YES  dealer_Individual  \\\n",
       "0  13.7   5500  ...          0.0           1.0                0.0   \n",
       "1   7.2  10900  ...          0.0           1.0                0.0   \n",
       "2   8.5  36100  ...          0.0           1.0                0.0   \n",
       "3   8.0  28000  ...          0.0           1.0                0.0   \n",
       "4   3.9  27990  ...          0.0           1.0                0.0   \n",
       "\n",
       "   dealer_Professional  brand_encoded  model_encoded  city_encoded  \\\n",
       "0                  1.0   11039.980916   10171.125628  15841.032810   \n",
       "1                  1.0   17051.258362   13160.993789  18049.881613   \n",
       "2                  1.0   23572.093803   23508.383973  18554.493671   \n",
       "3                  1.0   23572.093803   36412.589552  16569.441935   \n",
       "4                  1.0   12506.369048   17773.464491  17306.168324   \n",
       "\n",
       "   color_encoded  type_encoded  chassis_encoded  \n",
       "0   16998.492107  28133.811134     20602.196957  \n",
       "1   16998.492107  28133.811134     31238.629315  \n",
       "2   21242.844857  28133.811134     31238.629315  \n",
       "3   16998.492107  28133.811134     31238.629315  \n",
       "4   17415.598758  28133.811134     31238.629315  \n",
       "\n",
       "[5 rows x 27 columns]"
      ]
     },
     "execution_count": 2,
     "metadata": {},
     "output_type": "execute_result"
    }
   ],
   "source": [
    "root = '../data/cars_reg.csv'\n",
    "\n",
    "df = pd.read_csv(root)\n",
    "df.head()"
   ]
  },
  {
   "cell_type": "markdown",
   "metadata": {},
   "source": [
    "## Separating the data into features (X) and target (y) variables"
   ]
  },
  {
   "cell_type": "code",
   "execution_count": 3,
   "metadata": {},
   "outputs": [],
   "source": [
    "# Train-Test Split\n",
    "from sklearn.model_selection import train_test_split"
   ]
  },
  {
   "cell_type": "code",
   "execution_count": 4,
   "metadata": {},
   "outputs": [],
   "source": [
    "# Removing some outliers\n",
    "features = df.drop('price', axis=1)\n",
    "target = df['price']"
   ]
  },
  {
   "cell_type": "code",
   "execution_count": 5,
   "metadata": {},
   "outputs": [],
   "source": [
    "X_train, X_test, y_train, y_test = train_test_split(features, target, test_size=0.2, random_state=42)"
   ]
  },
  {
   "cell_type": "markdown",
   "metadata": {},
   "source": [
    "## Applying Regression Models\n",
    "The objective is to obtain the best posible model by evaluating the performance of 7 models"
   ]
  },
  {
   "cell_type": "code",
   "execution_count": 6,
   "metadata": {},
   "outputs": [],
   "source": [
    "# Regression linear models\n",
    "from sklearn.linear_model import LinearRegression\n",
    "from sklearn.linear_model import Ridge\n",
    "\n",
    "# Tree model\n",
    "from sklearn.ensemble import RandomForestRegressor\n",
    "\n",
    "# Support Vector Machine model\n",
    "from sklearn.svm import SVR\n",
    "\n",
    "# Gradient Boosting models\n",
    "import xgboost as xgb\n",
    "from lightgbm import LGBMRegressor\n",
    "from catboost import CatBoostRegressor\n",
    "\n",
    "# Model Evaluators\n",
    "from sklearn import model_selection\n",
    "from modules.model_evaluator import eval_reg\n",
    "from sklearn.metrics import mean_squared_error as mse, mean_absolute_error as mae, explained_variance_score as evs"
   ]
  },
  {
   "cell_type": "markdown",
   "metadata": {},
   "source": [
    "Importing `scikit-learn` main functions for training the model.\n",
    "\n",
    "Gradient Boost Algorithms were explored and understood following [this Medium Article](https://towardsdatascience.com/lightgbm-vs-xgboost-which-algorithm-win-the-race-1ff7dd4917d)"
   ]
  },
  {
   "cell_type": "markdown",
   "metadata": {},
   "source": [
    "### Linear Regression"
   ]
  },
  {
   "cell_type": "code",
   "execution_count": 7,
   "metadata": {},
   "outputs": [
    {
     "name": "stdout",
     "output_type": "stream",
     "text": [
      "### MEASURES OF REGRESSION MODEL ###\n",
      "------------------------------------\n",
      "\n",
      "R2 = 0.6722\n",
      "\n",
      "RMSE = 7441.6358\n",
      "\n",
      "MSE = 55377943.5286\n",
      "\n",
      "MSLE not possible to be applied. Predicitons contain negative values.\n",
      "\n",
      "MAE = 4981.5281\n",
      "\n",
      "EVS = 67.2318%\n",
      "\n"
     ]
    }
   ],
   "source": [
    "lr = LinearRegression()\n",
    "lr.fit(X_train, y_train)\n",
    "\n",
    "predictions = lr.predict(X_test)\n",
    "\n",
    "eval_reg(y_test, predictions)"
   ]
  },
  {
   "cell_type": "markdown",
   "metadata": {},
   "source": [
    "### Ridge Regression"
   ]
  },
  {
   "cell_type": "code",
   "execution_count": 8,
   "metadata": {},
   "outputs": [
    {
     "name": "stdout",
     "output_type": "stream",
     "text": [
      "### MEASURES OF REGRESSION MODEL ###\n",
      "------------------------------------\n",
      "\n",
      "R2 = 0.6722\n",
      "\n",
      "RMSE = 7441.6379\n",
      "\n",
      "MSE = 55377975.0786\n",
      "\n",
      "MSLE not possible to be applied. Predicitons contain negative values.\n",
      "\n",
      "MAE = 4981.5194\n",
      "\n",
      "EVS = 67.2318%\n",
      "\n"
     ]
    }
   ],
   "source": [
    "rd = Ridge()\n",
    "rd.fit(X_train, y_train)\n",
    "\n",
    "predictions = rd.predict(X_test)\n",
    "\n",
    "eval_reg(y_test, predictions)"
   ]
  },
  {
   "cell_type": "markdown",
   "metadata": {},
   "source": [
    "### Random Forest Regressor"
   ]
  },
  {
   "cell_type": "code",
   "execution_count": 9,
   "metadata": {},
   "outputs": [
    {
     "name": "stdout",
     "output_type": "stream",
     "text": [
      "### MEASURES OF REGRESSION MODEL ###\n",
      "------------------------------------\n",
      "\n",
      "R2 = 0.8821\n",
      "\n",
      "RMSE = 4463.2394\n",
      "\n",
      "MSE = 19920505.5877\n",
      "\n",
      "MSLE = 0.0737\n",
      "\n",
      "MAE = 2628.5098\n",
      "\n",
      "EVS = 88.2098%\n",
      "\n"
     ]
    }
   ],
   "source": [
    "rf = RandomForestRegressor()\n",
    "rf.fit(X_train, y_train)\n",
    "\n",
    "predictions = rf.predict(X_test)\n",
    "\n",
    "eval_reg(y_test, predictions)"
   ]
  },
  {
   "cell_type": "markdown",
   "metadata": {},
   "source": [
    "### Support Vector Regression"
   ]
  },
  {
   "cell_type": "code",
   "execution_count": 10,
   "metadata": {},
   "outputs": [
    {
     "name": "stdout",
     "output_type": "stream",
     "text": [
      "### MEASURES OF REGRESSION MODEL ###\n",
      "------------------------------------\n",
      "\n",
      "R2 = 0.1245\n",
      "\n",
      "RMSE = 12162.2128\n",
      "\n",
      "MSE = 147919419.4215\n",
      "\n",
      "MSLE = 0.4615\n",
      "\n",
      "MAE = 7864.2848\n",
      "\n",
      "EVS = 16.6309%\n",
      "\n"
     ]
    }
   ],
   "source": [
    "svr = SVR()\n",
    "svr.fit(X_train, y_train)\n",
    "\n",
    "predictions = svr.predict(X_test)\n",
    "\n",
    "eval_reg(y_test, predictions)"
   ]
  },
  {
   "cell_type": "markdown",
   "metadata": {},
   "source": [
    "### XGBoost Regressor"
   ]
  },
  {
   "cell_type": "code",
   "execution_count": 11,
   "metadata": {},
   "outputs": [
    {
     "name": "stdout",
     "output_type": "stream",
     "text": [
      "### MEASURES OF REGRESSION MODEL ###\n",
      "------------------------------------\n",
      "\n",
      "R2 = 0.8741\n",
      "\n",
      "RMSE = 4612.6145\n",
      "\n",
      "MSE = 21276212.2903\n",
      "\n",
      "MSLE not possible to be applied. Predicitons contain negative values.\n",
      "\n",
      "MAE = 2927.7214\n",
      "\n",
      "EVS = 87.4094%\n",
      "\n"
     ]
    }
   ],
   "source": [
    "xgb_model = xgb.XGBRegressor()\n",
    "xgb_model.fit(X_train, y_train)\n",
    "\n",
    "predictions = xgb_model.predict(X_test)\n",
    "\n",
    "eval_reg(y_test, predictions)"
   ]
  },
  {
   "cell_type": "markdown",
   "metadata": {},
   "source": [
    "### Light Gradient Boosting Machine (LGBM) Regressor"
   ]
  },
  {
   "cell_type": "code",
   "execution_count": 12,
   "metadata": {},
   "outputs": [
    {
     "name": "stdout",
     "output_type": "stream",
     "text": [
      "### MEASURES OF REGRESSION MODEL ###\n",
      "------------------------------------\n",
      "\n",
      "R2 = 0.8543\n",
      "\n",
      "RMSE = 4961.6770\n",
      "\n",
      "MSE = 24618238.2164\n",
      "\n",
      "MSLE not possible to be applied. Predicitons contain negative values.\n",
      "\n",
      "MAE = 3281.8085\n",
      "\n",
      "EVS = 85.4326%\n",
      "\n"
     ]
    }
   ],
   "source": [
    "lgb_model = LGBMRegressor()\n",
    "lgb_model.fit(X_train, y_train)\n",
    "\n",
    "predictions = lgb_model.predict(X_test)\n",
    "\n",
    "eval_reg(y_test, predictions)"
   ]
  },
  {
   "cell_type": "markdown",
   "metadata": {},
   "source": [
    "### CatBoost Regressor"
   ]
  },
  {
   "cell_type": "code",
   "execution_count": 13,
   "metadata": {},
   "outputs": [
    {
     "name": "stdout",
     "output_type": "stream",
     "text": [
      "### MEASURES OF REGRESSION MODEL ###\n",
      "------------------------------------\n",
      "\n",
      "R2 = 0.8738\n",
      "\n",
      "RMSE = 4616.8133\n",
      "\n",
      "MSE = 21314964.8005\n",
      "\n",
      "MSLE not possible to be applied. Predicitons contain negative values.\n",
      "\n",
      "MAE = 2999.7953\n",
      "\n",
      "EVS = 87.3860%\n",
      "\n"
     ]
    }
   ],
   "source": [
    "cb_model = CatBoostRegressor(verbose=False)\n",
    "cb_model.fit(X_train, y_train)\n",
    "\n",
    "predictions = cb_model.predict(X_test)\n",
    "\n",
    "eval_reg(y_test, predictions)"
   ]
  },
  {
   "cell_type": "markdown",
   "metadata": {},
   "source": [
    "---"
   ]
  },
  {
   "cell_type": "markdown",
   "metadata": {},
   "source": [
    "## Visualizing predictions from model"
   ]
  },
  {
   "cell_type": "code",
   "execution_count": 14,
   "metadata": {},
   "outputs": [],
   "source": [
    "import matplotlib.pyplot as plt"
   ]
  },
  {
   "cell_type": "code",
   "execution_count": 15,
   "metadata": {},
   "outputs": [
    {
     "data": {
      "image/png": "[encoded data removed]",
      "text/plain": [
       "<Figure size 432x288 with 1 Axes>"
      ]
     },
     "metadata": {
      "needs_background": "light"
     },
     "output_type": "display_data"
    }
   ],
   "source": [
    "plt.scatter(y_test, predictions);"
   ]
  },
  {
   "cell_type": "markdown",
   "metadata": {},
   "source": [
    "## Comparing ML Regression Algorithms "
   ]
  },
  {
   "cell_type": "markdown",
   "metadata": {},
   "source": [
    "Based on [Jason Brownlee's article](https://machinelearningmastery.com/compare-machine-learning-algorithms-python-scikit-learn/)."
   ]
  },
  {
   "cell_type": "markdown",
   "metadata": {},
   "source": [
    "Since the performance of the `SVR` ($R^2 = 0.1427$) was really poor, it will be excluded from the next model analysis.\n",
    "\n",
    "`k-fold` is a popular cross-validation technique. It provides visibility about the generalization ability of the model by iterating through different sets.\n",
    "i.e. say k=10 for example, 9 folds for training and 1 fold for testing purpose and this repeats unless all folds get a chance to be the test set one by one."
   ]
  },
  {
   "cell_type": "code",
   "execution_count": 16,
   "metadata": {},
   "outputs": [
    {
     "name": "stdout",
     "output_type": "stream",
     "text": [
      "3.647804260253906e-05\n"
     ]
    }
   ],
   "source": [
    "from time import time\n",
    "\n",
    "# example\n",
    "start_time = time()\n",
    "exec_time = time() - start_time\n",
    "\n",
    "print(exec_time)"
   ]
  },
  {
   "cell_type": "code",
   "execution_count": 27,
   "metadata": {},
   "outputs": [
    {
     "name": "stdout",
     "output_type": "stream",
     "text": [
      "LR: 0.661505596545039 (0.007164077820724929)\n",
      "LR execution time (sec): 0.40505194664001465\n",
      "RD: 0.6615057752827507 (0.007164137390353839)\n",
      "RD execution time (sec): 0.2632477283477783\n",
      "RF: 0.8839654507506355 (0.005376917496553488)\n",
      "RF execution time (sec): 296.12881898880005\n",
      "XGB: 0.8731590720251956 (0.005213775629681338)\n",
      "XGB execution time (sec): 18.05408024787903\n",
      "LGBM: 0.8499271345680125 (0.0052095387940240285)\n",
      "LGBM execution time (sec): 3.460031270980835\n",
      "CB: 0.8702358508121405 (0.00520853708804203)\n",
      "CB execution time (sec): 96.77160048484802\n"
     ]
    }
   ],
   "source": [
    "# Set seed to obtain the same random numbers\n",
    "seed = 42\n",
    "\n",
    "# Listing models\n",
    "models = []\n",
    "models.append(('LR', LinearRegression()))\n",
    "models.append(('RD', Ridge()))\n",
    "models.append(('RF', RandomForestRegressor()))\n",
    "models.append(('XGB', xgb.XGBRegressor()))\n",
    "models.append(('LGBM', LGBMRegressor()))\n",
    "models.append(('CB', CatBoostRegressor(verbose=False)))\n",
    "\n",
    "# Evaluate each model\n",
    "names = []\n",
    "results = []\n",
    "mins = []\n",
    "quartiles_1 = []\n",
    "medians = []\n",
    "means = []\n",
    "stds = []\n",
    "quartiles_3 = []\n",
    "maxs = []\n",
    "times = []\n",
    "scoring = 'r2'\n",
    "\n",
    "# Defining the algorithm function\n",
    "def run_cv_algorithm(name, model):\n",
    "    '''\n",
    "    Function that runs the cross-validation (CV) for the named algorithm\n",
    "    - name: Designation of the algorithm. \n",
    "    - model: Algorithm to be applied.\n",
    "    '''\n",
    "    kfold = model_selection.KFold(n_splits=10, random_state=seed, shuffle=True)\n",
    "    cv_results = model_selection.cross_val_score(estimator=model,\n",
    "                                                 X=features,\n",
    "                                                 y=target,\n",
    "                                                 cv=kfold,\n",
    "                                                 scoring=scoring)\n",
    "    # appending stats to lists\n",
    "    names.append(name)\n",
    "    results.append(cv_results)\n",
    "    mins.append(cv_results.min())\n",
    "    quartiles_1.append(np.percentile(cv_results, 25)) # Q1\n",
    "    medians.append(np.median(cv_results)) # Q2 = median\n",
    "    means.append(cv_results.mean())\n",
    "    stds.append(cv_results.std())\n",
    "    quartiles_3.append(np.percentile(cv_results, 75)) # Q3\n",
    "    maxs.append(cv_results.max())\n",
    "    \n",
    "    msg = \"{}: {} ({})\".format(name, cv_results.mean(), cv_results.std())\n",
    "    print(msg)\n",
    "\n",
    "# Executing the function for every model in the list: models\n",
    "for name, model in models:\n",
    "    # set start time\n",
    "    start_time = time()\n",
    "    \n",
    "    # running algorithm\n",
    "    run_cv_algorithm(name, model)\n",
    "    \n",
    "    # set end time: execution time\n",
    "    exec_time = time() - start_time\n",
    "    \n",
    "    # Appending to the main list\n",
    "    times.append(exec_time)\n",
    "    \n",
    "    print(\"{} execution time (sec): {}\".format(name, exec_time))"
   ]
  },
  {
   "cell_type": "code",
   "execution_count": 33,
   "metadata": {},
   "outputs": [
    {
     "data": {
      "text/html": [
       "<div>\n",
       "<style scoped>\n",
       "    .dataframe tbody tr th:only-of-type {\n",
       "        vertical-align: middle;\n",
       "    }\n",
       "\n",
       "    .dataframe tbody tr th {\n",
       "        vertical-align: top;\n",
       "    }\n",
       "\n",
       "    .dataframe thead th {\n",
       "        text-align: right;\n",
       "    }\n",
       "</style>\n",
       "<table border=\"1\" class=\"dataframe\">\n",
       "  <thead>\n",
       "    <tr style=\"text-align: right;\">\n",
       "      <th></th>\n",
       "      <th>model</th>\n",
       "      <th>min_r2_score</th>\n",
       "      <th>1st_quantile</th>\n",
       "      <th>median_r2_score</th>\n",
       "      <th>mean_r2_score</th>\n",
       "      <th>std_r2_score</th>\n",
       "      <th>3rd_quantile</th>\n",
       "      <th>max_r2_score</th>\n",
       "      <th>exec_time_sec</th>\n",
       "      <th>time_score_ratio</th>\n",
       "    </tr>\n",
       "  </thead>\n",
       "  <tbody>\n",
       "    <tr>\n",
       "      <th>0</th>\n",
       "      <td>LR</td>\n",
       "      <td>0.6500</td>\n",
       "      <td>0.6581</td>\n",
       "      <td>0.6602</td>\n",
       "      <td>0.6615</td>\n",
       "      <td>0.0072</td>\n",
       "      <td>0.6659</td>\n",
       "      <td>0.6767</td>\n",
       "      <td>0.4051</td>\n",
       "      <td>1.6331</td>\n",
       "    </tr>\n",
       "    <tr>\n",
       "      <th>1</th>\n",
       "      <td>RD</td>\n",
       "      <td>0.6499</td>\n",
       "      <td>0.6581</td>\n",
       "      <td>0.6602</td>\n",
       "      <td>0.6615</td>\n",
       "      <td>0.0072</td>\n",
       "      <td>0.6659</td>\n",
       "      <td>0.6767</td>\n",
       "      <td>0.2632</td>\n",
       "      <td>2.5129</td>\n",
       "    </tr>\n",
       "    <tr>\n",
       "      <th>2</th>\n",
       "      <td>RF</td>\n",
       "      <td>0.8774</td>\n",
       "      <td>0.8784</td>\n",
       "      <td>0.8852</td>\n",
       "      <td>0.8840</td>\n",
       "      <td>0.0054</td>\n",
       "      <td>0.8873</td>\n",
       "      <td>0.8944</td>\n",
       "      <td>296.1288</td>\n",
       "      <td>0.0030</td>\n",
       "    </tr>\n",
       "    <tr>\n",
       "      <th>3</th>\n",
       "      <td>XGB</td>\n",
       "      <td>0.8640</td>\n",
       "      <td>0.8719</td>\n",
       "      <td>0.8727</td>\n",
       "      <td>0.8732</td>\n",
       "      <td>0.0052</td>\n",
       "      <td>0.8766</td>\n",
       "      <td>0.8822</td>\n",
       "      <td>18.0541</td>\n",
       "      <td>0.0484</td>\n",
       "    </tr>\n",
       "    <tr>\n",
       "      <th>4</th>\n",
       "      <td>LGBM</td>\n",
       "      <td>0.8403</td>\n",
       "      <td>0.8478</td>\n",
       "      <td>0.8502</td>\n",
       "      <td>0.8499</td>\n",
       "      <td>0.0052</td>\n",
       "      <td>0.8531</td>\n",
       "      <td>0.8587</td>\n",
       "      <td>3.4600</td>\n",
       "      <td>0.2456</td>\n",
       "    </tr>\n",
       "    <tr>\n",
       "      <th>5</th>\n",
       "      <td>CB</td>\n",
       "      <td>0.8602</td>\n",
       "      <td>0.8673</td>\n",
       "      <td>0.8693</td>\n",
       "      <td>0.8702</td>\n",
       "      <td>0.0052</td>\n",
       "      <td>0.8743</td>\n",
       "      <td>0.8792</td>\n",
       "      <td>96.7716</td>\n",
       "      <td>0.0090</td>\n",
       "    </tr>\n",
       "  </tbody>\n",
       "</table>\n",
       "</div>"
      ],
      "text/plain": [
       "  model  min_r2_score  1st_quantile  median_r2_score  mean_r2_score  \\\n",
       "0    LR        0.6500        0.6581           0.6602         0.6615   \n",
       "1    RD        0.6499        0.6581           0.6602         0.6615   \n",
       "2    RF        0.8774        0.8784           0.8852         0.8840   \n",
       "3   XGB        0.8640        0.8719           0.8727         0.8732   \n",
       "4  LGBM        0.8403        0.8478           0.8502         0.8499   \n",
       "5    CB        0.8602        0.8673           0.8693         0.8702   \n",
       "\n",
       "   std_r2_score  3rd_quantile  max_r2_score  exec_time_sec  time_score_ratio  \n",
       "0        0.0072        0.6659        0.6767         0.4051            1.6331  \n",
       "1        0.0072        0.6659        0.6767         0.2632            2.5129  \n",
       "2        0.0054        0.8873        0.8944       296.1288            0.0030  \n",
       "3        0.0052        0.8766        0.8822        18.0541            0.0484  \n",
       "4        0.0052        0.8531        0.8587         3.4600            0.2456  \n",
       "5        0.0052        0.8743        0.8792        96.7716            0.0090  "
      ]
     },
     "execution_count": 33,
     "metadata": {},
     "output_type": "execute_result"
    }
   ],
   "source": [
    "# Creating a DataFrame to see the performance of each model:\n",
    "df_models = pd.DataFrame({'model': names,\n",
    "                          'min_r2_score': mins,\n",
    "                          '1st_quantile': quartiles_1,\n",
    "                          'median_r2_score': medians,\n",
    "                          'mean_r2_score': means,\n",
    "                          'std_r2_score': stds,\n",
    "                          '3rd_quantile': quartiles_3,\n",
    "                          'max_r2_score': maxs,\n",
    "                          'exec_time_sec': times})\n",
    "\n",
    "# Creating a time_score_ratio\n",
    "df_models['time_score_ratio'] = df_models['mean_r2_score'] / df_models['exec_time_sec']\n",
    "\n",
    "# Rounding to 4 decimals\n",
    "round_cols = dict(zip(df_models.columns, len(df_models.columns)*[4]))\n",
    "df_models = df_models.round(round_cols)\n",
    "\n",
    "df_models"
   ]
  },
  {
   "cell_type": "markdown",
   "metadata": {},
   "source": [
    "From this table, it is easy to conclude that `RandomForest` is the best algorithm to be considered. However, it is better to not disregard `Boosting` algortihms."
   ]
  },
  {
   "cell_type": "code",
   "execution_count": 19,
   "metadata": {},
   "outputs": [],
   "source": [
    "import seaborn as sns"
   ]
  },
  {
   "cell_type": "code",
   "execution_count": 20,
   "metadata": {},
   "outputs": [
    {
     "data": {
      "image/png": "[encoded data removed]",
      "text/plain": [
       "<Figure size 720x432 with 1 Axes>"
      ]
     },
     "metadata": {
      "needs_background": "light"
     },
     "output_type": "display_data"
    }
   ],
   "source": [
    "plt.style.use('tableau-colorblind10')\n",
    "\n",
    "plt.figure(figsize=(10, 6))\n",
    "\n",
    "sns.lineplot(data=results, dashes=True)\n",
    "\n",
    "plt.title('Regression models cv performance per K-Fold')\n",
    "plt.xticks(list(range(0, 10)), list(range(1, 11)))\n",
    "plt.xlabel('K-Fold iteration')\n",
    "plt.ylabel('r2 score')\n",
    "\n",
    "plt.legend(df_models.model.to_list())\n",
    "\n",
    "plt.show()"
   ]
  },
  {
   "cell_type": "code",
   "execution_count": 21,
   "metadata": {},
   "outputs": [],
   "source": [
    "def autolabel(rects):\n",
    "    for rect in rects:\n",
    "        height = rect.get_height()\n",
    "        ax.annotate('{}'.format(height),\n",
    "                    xy=(rect.get_x() + rect.get_width() / 2, height),\n",
    "                    xytext=(0,3),\n",
    "                    textcoords=\"offset points\",\n",
    "                    ha=\"center\",\n",
    "                    va=\"bottom\")"
   ]
  },
  {
   "cell_type": "code",
   "execution_count": 22,
   "metadata": {},
   "outputs": [
    {
     "data": {
      "image/png": "[encoded data removed]",
      "text/plain": [
       "<Figure size 720x432 with 1 Axes>"
      ]
     },
     "metadata": {
      "needs_background": "light"
     },
     "output_type": "display_data"
    }
   ],
   "source": [
    "fig, ax = plt.subplots(figsize=(10,6))\n",
    "\n",
    "rect1 = ax.bar(df_models['model'], df_models['mean_r2_score'])\n",
    "\n",
    "plt.title('R2 score of Regression Models')\n",
    "plt.gca().set_ylim([0, 1])\n",
    "\n",
    "autolabel(rect1)\n",
    "\n",
    "plt.show()"
   ]
  },
  {
   "cell_type": "markdown",
   "metadata": {},
   "source": [
    "`RF` was the model with the best performance after applying a cross-validation process. However, it is also by far the most time consuming.\n",
    "\n",
    "Having a look at the `time_score_ratio` parameter, it is possible to find the most efficient model in terms of `r2_score` and `exec_time`. In this way, the best model can be found when there is a concern about time due to the high amount of data that will feed the model. Linear models are the ones with the highest ratio, nevertheless the $r2\\_score$ is not enough to be considered as potential models.\n",
    "\n",
    "To conclude, `RandomForest` it is the best model when time is not a concern. In case that delays in execution could be a problem, `Boosting`algorithms could be the most suitable option. This is why they will be also considered as potential candidates.\n",
    "\n",
    "Time to have a look at the performance of each model using `boxplots`."
   ]
  },
  {
   "cell_type": "code",
   "execution_count": 23,
   "metadata": {},
   "outputs": [
    {
     "data": {
      "image/png": "[encoded data removed]",
      "text/plain": [
       "<Figure size 720x432 with 1 Axes>"
      ]
     },
     "metadata": {
      "needs_background": "light"
     },
     "output_type": "display_data"
    }
   ],
   "source": [
    "# boxplot algorithm comparison\n",
    "fig = plt.figure(figsize=(10,6))\n",
    "fig.suptitle('Regression Algorithm Comparison')\n",
    "\n",
    "ax = fig.add_subplot(111)\n",
    "plt.boxplot(results)\n",
    "ax.set_xticklabels(names)\n",
    "\n",
    "plt.show()"
   ]
  },
  {
   "cell_type": "markdown",
   "metadata": {},
   "source": [
    "In the boxplot above, it is possible to see the great difference in performance of the `Boosting & RandomForest` compared to the `LinearRegression & Ridge` algorithms.\n",
    "\n",
    "Therefore, further investigations about how to improve the performance of the final prediction will be focused on the 4 models below: `RF, XGB, CB`"
   ]
  },
  {
   "cell_type": "code",
   "execution_count": 48,
   "metadata": {},
   "outputs": [
    {
     "data": {
      "image/png": "[encoded data removed]",
      "text/plain": [
       "<Figure size 720x432 with 1 Axes>"
      ]
     },
     "metadata": {
      "needs_background": "light"
     },
     "output_type": "display_data"
    }
   ],
   "source": [
    "# boxplot best algorithms comparison\n",
    "fig = plt.figure(figsize=(10,6))\n",
    "fig.suptitle('Regression Algorithm Comparison')\n",
    "\n",
    "ax = fig.add_subplot(111)\n",
    "plt.boxplot(results[2:4] + [results[5]])\n",
    "ax.set_xticklabels(names[2:4] + [names[5]])\n",
    "\n",
    "plt.show()"
   ]
  },
  {
   "cell_type": "markdown",
   "metadata": {},
   "source": [
    "---"
   ]
  },
  {
   "cell_type": "markdown",
   "metadata": {},
   "source": [
    "## Deep Learning. Trying a Neural Network model: Multi-Layer Perceptron (MLP)"
   ]
  },
  {
   "cell_type": "code",
   "execution_count": null,
   "metadata": {},
   "outputs": [],
   "source": []
  },
  {
   "cell_type": "markdown",
   "metadata": {},
   "source": [
    "---"
   ]
  },
  {
   "cell_type": "markdown",
   "metadata": {},
   "source": [
    "## Applying a MinMaxScaler to standardize the dataset"
   ]
  },
  {
   "cell_type": "markdown",
   "metadata": {},
   "source": [
    "Let's see if data standardization improves the performance of the selected model. "
   ]
  },
  {
   "cell_type": "code",
   "execution_count": null,
   "metadata": {},
   "outputs": [],
   "source": []
  },
  {
   "cell_type": "code",
   "execution_count": null,
   "metadata": {},
   "outputs": [],
   "source": []
  }
 ],
 "metadata": {
  "kernelspec": {
   "display_name": "Python 3",
   "language": "python",
   "name": "python3"
  },
  "language_info": {
   "codemirror_mode": {
    "name": "ipython",
    "version": 3
   },
   "file_extension": ".py",
   "mimetype": "text/x-python",
   "name": "python",
   "nbconvert_exporter": "python",
   "pygments_lexer": "ipython3",
   "version": "3.7.1"
  }
 },
 "nbformat": 4,
 "nbformat_minor": 4
}
