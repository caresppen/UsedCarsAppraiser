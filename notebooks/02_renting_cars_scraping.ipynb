{
 "cells": [
  {
   "cell_type": "markdown",
   "metadata": {},
   "source": [
    "# Web Scrapping: Renting Cars Data\n",
    "Extraction of tables for several car brands."
   ]
  },
  {
   "cell_type": "code",
   "execution_count": 1,
   "metadata": {},
   "outputs": [],
   "source": [
    "import pandas as pd\n",
    "import numpy as np\n",
    "import requests\n",
    "from bs4 import BeautifulSoup\n",
    "import re\n",
    "import lxml\n",
    "import sys\n",
    "sys.path.append('..')\n",
    "from modules.car_scraping import webpages_generator, cars_links_generator, scrape_used_cars_data, scrape_renting_cars_data"
   ]
  },
  {
   "cell_type": "code",
   "execution_count": 2,
   "metadata": {},
   "outputs": [],
   "source": [
    "# url link\n",
    "base_rent_cars_url = 'https://www.coches.com/renting-coches/ofertas-renting/?page='"
   ]
  },
  {
   "cell_type": "code",
   "execution_count": 3,
   "metadata": {},
   "outputs": [],
   "source": [
    "# Webpages generator: extract all the webs that holds renting cars\n",
    "rent_cars_pages = webpages_generator(base_rent_cars_url, init_pages=1, n_pages=226)"
   ]
  },
  {
   "cell_type": "code",
   "execution_count": 4,
   "metadata": {},
   "outputs": [],
   "source": [
    "# Declare regex common path for all the cars' links\n",
    "rent_cars_reg_exp = \"https://.*/renting-coches/.*-.*-.*-.*-.*\""
   ]
  },
  {
   "cell_type": "code",
   "execution_count": 5,
   "metadata": {},
   "outputs": [
    {
     "data": {
      "text/plain": [
       "['https://www.coches.com/renting-coches/mercedes-clase+glb/2b605964-e9cf-43da-8c9c-980b0a9fdb8c',\n",
       " 'https://www.coches.com/renting-coches/mercedes-clase+glb/1825157e-449a-4cba-884f-2d8d660bed19',\n",
       " 'https://www.coches.com/renting-coches/mercedes-clase+glb/d4d40317-d6bd-4369-893a-a48ec6638352',\n",
       " 'https://www.coches.com/renting-coches/mercedes-clase+glb/680e2cce-0512-4f3f-be8a-91c556a2ec58',\n",
       " 'https://www.coches.com/renting-coches/mercedes-clase+glb/4030e9ed-fafc-44f3-b140-4e553fe58354']"
      ]
     },
     "execution_count": 5,
     "metadata": {},
     "output_type": "execute_result"
    }
   ],
   "source": [
    "# Cars' links generator\n",
    "rent_cars_urls = cars_links_generator(rent_cars_pages, reg_exp=rent_cars_reg_exp)\n",
    "rent_cars_urls[-5:]"
   ]
  },
  {
   "cell_type": "code",
   "execution_count": 6,
   "metadata": {},
   "outputs": [
    {
     "name": "stdout",
     "output_type": "stream",
     "text": [
      "2699\n"
     ]
    }
   ],
   "source": [
    "# Checking that all the urls were loaded correctly:\n",
    "print(len(rent_cars_urls))"
   ]
  },
  {
   "cell_type": "code",
   "execution_count": null,
   "metadata": {
    "scrolled": true
   },
   "outputs": [],
   "source": [
    "# Extracting all the data for each renting car\n",
    "renting_cars_data = scrape_renting_cars_data(rent_cars_urls)\n",
    "\n",
    "print(renting_cars_data[:5])\n",
    "print(renting_cars_data[-5:])"
   ]
  },
  {
   "cell_type": "markdown",
   "metadata": {},
   "source": [
    "Defining DataFrame"
   ]
  },
  {
   "cell_type": "code",
   "execution_count": 8,
   "metadata": {},
   "outputs": [],
   "source": [
    "# Defining columns\n",
    "cols_rent = ['title', 'price', 'contract_months', 'km_year', 'fuel_type', 'color', 'warranty', 'maintenance', 'tires',\n",
    "             'power', 'co2_emiss', 'doors', 'gear', 'status', 'chassis', 'height', 'length', 'width', 'trunk_vol',\n",
    "             'max_speed', 'seats', 'urban_cons', 'xtrurban_cons', 'mixed_cons', 'weight', 'tank_vol', 'acceleration']"
   ]
  },
  {
   "cell_type": "code",
   "execution_count": 16,
   "metadata": {},
   "outputs": [
    {
     "data": {
      "text/html": [
       "<div>\n",
       "<style scoped>\n",
       "    .dataframe tbody tr th:only-of-type {\n",
       "        vertical-align: middle;\n",
       "    }\n",
       "\n",
       "    .dataframe tbody tr th {\n",
       "        vertical-align: top;\n",
       "    }\n",
       "\n",
       "    .dataframe thead th {\n",
       "        text-align: right;\n",
       "    }\n",
       "</style>\n",
       "<table border=\"1\" class=\"dataframe\">\n",
       "  <thead>\n",
       "    <tr style=\"text-align: right;\">\n",
       "      <th></th>\n",
       "      <th>title</th>\n",
       "      <th>price</th>\n",
       "      <th>contract_months</th>\n",
       "      <th>km_year</th>\n",
       "      <th>fuel_type</th>\n",
       "      <th>color</th>\n",
       "      <th>warranty</th>\n",
       "      <th>maintenance</th>\n",
       "      <th>tires</th>\n",
       "      <th>power</th>\n",
       "      <th>...</th>\n",
       "      <th>width</th>\n",
       "      <th>trunk_vol</th>\n",
       "      <th>max_speed</th>\n",
       "      <th>seats</th>\n",
       "      <th>urban_cons</th>\n",
       "      <th>xtrurban_cons</th>\n",
       "      <th>mixed_cons</th>\n",
       "      <th>weight</th>\n",
       "      <th>tank_vol</th>\n",
       "      <th>acceleration</th>\n",
       "    </tr>\n",
       "  </thead>\n",
       "  <tbody>\n",
       "    <tr>\n",
       "      <th>1635</th>\n",
       "      <td>BMW Serie 1</td>\n",
       "      <td>395</td>\n",
       "      <td>60</td>\n",
       "      <td>40.000</td>\n",
       "      <td>Diesel</td>\n",
       "      <td>BLANCO</td>\n",
       "      <td>Incluido</td>\n",
       "      <td>Incluido</td>\n",
       "      <td>Incluido</td>\n",
       "      <td>116cv(85Kw)</td>\n",
       "      <td>...</td>\n",
       "      <td>179,9 cm</td>\n",
       "      <td>380 l</td>\n",
       "      <td>200 km/h</td>\n",
       "      <td>5</td>\n",
       "      <td>4,3 l</td>\n",
       "      <td>3,5 l</td>\n",
       "      <td>3,8 l</td>\n",
       "      <td>1.385 kg</td>\n",
       "      <td>42 l</td>\n",
       "      <td>10,0 s</td>\n",
       "    </tr>\n",
       "    <tr>\n",
       "      <th>1510</th>\n",
       "      <td>MINI Countryman</td>\n",
       "      <td>453</td>\n",
       "      <td>36</td>\n",
       "      <td>20.000</td>\n",
       "      <td>Diesel</td>\n",
       "      <td>BLANCO</td>\n",
       "      <td>Incluido</td>\n",
       "      <td>Incluido</td>\n",
       "      <td>Incluido</td>\n",
       "      <td>150cv(110Kw)</td>\n",
       "      <td>...</td>\n",
       "      <td>182,2 cm</td>\n",
       "      <td>450 l</td>\n",
       "      <td>204 km/h</td>\n",
       "      <td>5</td>\n",
       "      <td>4,8 l</td>\n",
       "      <td>3,8 l</td>\n",
       "      <td>4,2 l</td>\n",
       "      <td>1.475 kg</td>\n",
       "      <td>51 l</td>\n",
       "      <td>9,0 s</td>\n",
       "    </tr>\n",
       "    <tr>\n",
       "      <th>398</th>\n",
       "      <td>MERCEDES Clase GLA</td>\n",
       "      <td>446</td>\n",
       "      <td>48</td>\n",
       "      <td>10.000</td>\n",
       "      <td>Diesel</td>\n",
       "      <td>Consultar</td>\n",
       "      <td>Incluido</td>\n",
       "      <td>Incluido</td>\n",
       "      <td>No incluido</td>\n",
       "      <td>150cv(110Kw)</td>\n",
       "      <td>...</td>\n",
       "      <td>183,4 cm</td>\n",
       "      <td>425 l</td>\n",
       "      <td>208 km/h</td>\n",
       "      <td>5</td>\n",
       "      <td>5,9 l</td>\n",
       "      <td>3,2 l</td>\n",
       "      <td>4,6 l</td>\n",
       "      <td>1.615 kg</td>\n",
       "      <td>43 l</td>\n",
       "      <td>8,0 s</td>\n",
       "    </tr>\n",
       "    <tr>\n",
       "      <th>1333</th>\n",
       "      <td>FIAT Talento</td>\n",
       "      <td>326</td>\n",
       "      <td>60</td>\n",
       "      <td>15.000</td>\n",
       "      <td>Diesel</td>\n",
       "      <td>BLANCO</td>\n",
       "      <td>Incluido</td>\n",
       "      <td>Incluido</td>\n",
       "      <td>No incluido</td>\n",
       "      <td>120cv(88Kw)</td>\n",
       "      <td>...</td>\n",
       "      <td>195,6 cm</td>\n",
       "      <td>0 l</td>\n",
       "      <td>166 km/h</td>\n",
       "      <td>3</td>\n",
       "      <td>7,2 l</td>\n",
       "      <td>5,8 l</td>\n",
       "      <td>6,4 l</td>\n",
       "      <td>1.726 kg</td>\n",
       "      <td>80 l</td>\n",
       "      <td>0,0 s</td>\n",
       "    </tr>\n",
       "    <tr>\n",
       "      <th>450</th>\n",
       "      <td>MERCEDES Clase GLC</td>\n",
       "      <td>1006</td>\n",
       "      <td>24</td>\n",
       "      <td>50.000</td>\n",
       "      <td>Diesel</td>\n",
       "      <td>Consultar</td>\n",
       "      <td>Incluido</td>\n",
       "      <td>Incluido</td>\n",
       "      <td>Incluido</td>\n",
       "      <td>194cv(143Kw)</td>\n",
       "      <td>...</td>\n",
       "      <td>189,0 cm</td>\n",
       "      <td>550 l</td>\n",
       "      <td>215 km/h</td>\n",
       "      <td>5</td>\n",
       "      <td>6,8 l</td>\n",
       "      <td>3,6 l</td>\n",
       "      <td>5,2 l</td>\n",
       "      <td>1.835 kg</td>\n",
       "      <td>66 l</td>\n",
       "      <td>7,0 s</td>\n",
       "    </tr>\n",
       "  </tbody>\n",
       "</table>\n",
       "<p>5 rows × 27 columns</p>\n",
       "</div>"
      ],
      "text/plain": [
       "                   title price contract_months km_year fuel_type      color  \\\n",
       "1635         BMW Serie 1   395              60  40.000    Diesel     BLANCO   \n",
       "1510     MINI Countryman   453              36  20.000    Diesel     BLANCO   \n",
       "398   MERCEDES Clase GLA   446              48  10.000    Diesel  Consultar   \n",
       "1333        FIAT Talento   326              60  15.000    Diesel     BLANCO   \n",
       "450   MERCEDES Clase GLC  1006              24  50.000    Diesel  Consultar   \n",
       "\n",
       "      warranty maintenance        tires         power  ...     width  \\\n",
       "1635  Incluido    Incluido     Incluido   116cv(85Kw)  ...  179,9 cm   \n",
       "1510  Incluido    Incluido     Incluido  150cv(110Kw)  ...  182,2 cm   \n",
       "398   Incluido    Incluido  No incluido  150cv(110Kw)  ...  183,4 cm   \n",
       "1333  Incluido    Incluido  No incluido   120cv(88Kw)  ...  195,6 cm   \n",
       "450   Incluido    Incluido     Incluido  194cv(143Kw)  ...  189,0 cm   \n",
       "\n",
       "     trunk_vol max_speed seats urban_cons xtrurban_cons mixed_cons    weight  \\\n",
       "1635     380 l  200 km/h     5      4,3 l         3,5 l      3,8 l  1.385 kg   \n",
       "1510     450 l  204 km/h     5      4,8 l         3,8 l      4,2 l  1.475 kg   \n",
       "398      425 l  208 km/h     5      5,9 l         3,2 l      4,6 l  1.615 kg   \n",
       "1333       0 l  166 km/h     3      7,2 l         5,8 l      6,4 l  1.726 kg   \n",
       "450      550 l  215 km/h     5      6,8 l         3,6 l      5,2 l  1.835 kg   \n",
       "\n",
       "     tank_vol acceleration  \n",
       "1635     42 l       10,0 s  \n",
       "1510     51 l        9,0 s  \n",
       "398      43 l        8,0 s  \n",
       "1333     80 l        0,0 s  \n",
       "450      66 l        7,0 s  \n",
       "\n",
       "[5 rows x 27 columns]"
      ]
     },
     "execution_count": 16,
     "metadata": {},
     "output_type": "execute_result"
    }
   ],
   "source": [
    "df_rent = pd.DataFrame(renting_cars_data, columns=cols_rent).drop(0)\n",
    "\n",
    "df_rent.sample(5)"
   ]
  },
  {
   "cell_type": "code",
   "execution_count": 17,
   "metadata": {},
   "outputs": [
    {
     "name": "stdout",
     "output_type": "stream",
     "text": [
      "<class 'pandas.core.frame.DataFrame'>\n",
      "Int64Index: 2372 entries, 1 to 2372\n",
      "Data columns (total 27 columns):\n",
      " #   Column           Non-Null Count  Dtype \n",
      "---  ------           --------------  ----- \n",
      " 0   title            2372 non-null   object\n",
      " 1   price            2372 non-null   object\n",
      " 2   contract_months  2372 non-null   object\n",
      " 3   km_year          2372 non-null   object\n",
      " 4   fuel_type        2372 non-null   object\n",
      " 5   color            2372 non-null   object\n",
      " 6   warranty         2372 non-null   object\n",
      " 7   maintenance      2372 non-null   object\n",
      " 8   tires            2372 non-null   object\n",
      " 9   power            2372 non-null   object\n",
      " 10  co2_emiss        2372 non-null   object\n",
      " 11  doors            2372 non-null   object\n",
      " 12  gear             2372 non-null   object\n",
      " 13  status           2372 non-null   object\n",
      " 14  chassis          2372 non-null   object\n",
      " 15  height           2372 non-null   object\n",
      " 16  length           2372 non-null   object\n",
      " 17  width            2372 non-null   object\n",
      " 18  trunk_vol        2372 non-null   object\n",
      " 19  max_speed        2372 non-null   object\n",
      " 20  seats            2372 non-null   object\n",
      " 21  urban_cons       2372 non-null   object\n",
      " 22  xtrurban_cons    2372 non-null   object\n",
      " 23  mixed_cons       2372 non-null   object\n",
      " 24  weight           2372 non-null   object\n",
      " 25  tank_vol         2372 non-null   object\n",
      " 26  acceleration     2372 non-null   object\n",
      "dtypes: object(27)\n",
      "memory usage: 518.9+ KB\n",
      "None\n"
     ]
    }
   ],
   "source": [
    "print(df_rent.info())"
   ]
  },
  {
   "cell_type": "markdown",
   "metadata": {},
   "source": [
    "Generating the output in a csv"
   ]
  },
  {
   "cell_type": "code",
   "execution_count": 18,
   "metadata": {},
   "outputs": [],
   "source": [
    "output_rent = 'data/renting_cars.csv'"
   ]
  },
  {
   "cell_type": "code",
   "execution_count": 19,
   "metadata": {},
   "outputs": [
    {
     "name": "stdout",
     "output_type": "stream",
     "text": [
      "Renting cars exported into: data/renting_cars.csv\n"
     ]
    }
   ],
   "source": [
    "df_rent.to_csv(output_rent, index=False)\n",
    "print(f\"Renting cars exported into: {output_rent}\")"
   ]
  }
 ],
 "metadata": {
  "kernelspec": {
   "display_name": "Python 3",
   "language": "python",
   "name": "python3"
  },
  "language_info": {
   "codemirror_mode": {
    "name": "ipython",
    "version": 3
   },
   "file_extension": ".py",
   "mimetype": "text/x-python",
   "name": "python",
   "nbconvert_exporter": "python",
   "pygments_lexer": "ipython3",
   "version": "3.7.1"
  }
 },
 "nbformat": 4,
 "nbformat_minor": 4
}
